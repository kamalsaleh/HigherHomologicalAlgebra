{
 "cells": [
  {
   "cell_type": "markdown",
   "metadata": {},
   "source": [
    "<a href=\"https://mybinder.org/v2/gh/homalg-project/CapHomalgNotebooks/master?filepath=TiltingEquivalence.ipynb\" target=\"_top\"><img src=\"https://img.shields.io/badge/Launch%20homalg%E2%80%93project%20version%20interactively%20on-binder-579ACA.svg?logo=data:image/png;base64,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\" alt=\"binder\"></a>\n",
    "\n"
   ]
  },
  {
   "cell_type": "markdown",
   "metadata": {},
   "source": [
    "## Tilting equivalence\n",
    "\n",
    "Let $k$ be field of characteristic $0$ and $\\mathrm{D}^\\mathrm{b}(\\mathfrak{Coh}\\, \\mathbb{P}^2_k)$ denote the bounded derived category of coherent sheaves on $\\mathbb{P}^2_k$.\n",
    "\n",
    "Consider the full strong exceptional collection $\\{\\mathcal{O}(0), \\mathcal{O}(1), \\mathcal{O}(2)\\} \\subset \\mathfrak{Coh}\\, \\mathbb{P}^2_k$ of the three twisted line bundles with their tilting object\n",
    "$$\n",
    "  T_\\mathcal{O} := \\mathcal{O}(0) \\oplus \\mathcal{O}(1) \\oplus \\mathcal{O}(2) \\mbox{.}\n",
    "$$\n",
    "\n",
    "Consider the second full strong exceptional collection $\\{ \\Omega^0(0), \\Omega^1(1), \\Omega^2(2) = \\mathcal{O}(0)\\} \\subset \\mathfrak{Coh}\\, \\mathbb{P}^2_k$ of twisted contangent bundles with their tilting object\n",
    "$$\n",
    "  T_\\Omega := \\Omega^0(0) \\oplus \\Omega^1(1) \\oplus \\Omega^2(2) \\mbox{.}\n",
    "$$\n",
    "\n",
    "Then\n",
    "$$\n",
    "  \\mathrm{D}^\\mathrm{b}(\\mathfrak{Coh}\\, \\mathbb{P}^2_k) \\simeq \\mathrm{D}^\\mathrm{b}(\\mathrm{End}\\, T_\\Omega) \\simeq \\mathrm{D}^\\mathrm{b}(\\mathrm{End}\\, T_\\mathcal{O}) \\mbox{,}\n",
    "$$\n",
    "where for a finite dimensional $k$-algebra $A$ we denote by $\\mathrm{D}^\\mathrm{b}(A) := \\mathrm{D}^\\mathrm{b}(A\\mathrm{-mod})$ the bounded derived category of the Abelian category $A\\mathrm{-mod}$ of finite dimensional $A$-modules.\n",
    "\n",
    "\n",
    "In this notebook we will consider $T_\\Omega$ as a tilting object in $\\mathrm{D}^\\mathrm{b}(\\mathrm{End}\\, T_\\mathcal{O})$ and construct tilting equivalences\n",
    "$$\n",
    "  F: \\mathrm{D}^\\mathrm{b}(\\operatorname{End}\\, T_\\Omega) \\rightleftarrows \\mathrm{D}^\\mathrm{b}(\\operatorname{End}\\, T_\\mathcal{O}) : G \\mbox{.}\n",
    "$$\n",
    "\n",
    "For a finite dimensional algebra $A$ over a field $k$ we define its decomposition algebroid $A_\\mathrm{dec}$ as the $k$-linear full subcategory of $\\mbox{mod-}A$ consisting of the summands of a direct sum decomposition of $A$ in indecomposables, which are necessarily projective right $A$-modules. The additive closure $A_\\mathrm{dec}^\\oplus$ of the algebroid $A_\\mathrm{dec}$ is then the closure of $A$ (considered as a linear category on one object) under direct sums and direct summands (in $\\mbox{mod-}A$). One recovers $A$ as the direct sum of the $\\mathrm{Hom}$-groups of $A_\\mathrm{dec}$. If $A_\\mathrm{sdec}$ is a skeleton of $A_\\mathrm{dec}$, then the direct sum of $\\mathrm{Hom}$-groups of $A_\\mathrm{sdec}$ is the basic algebra which is Morita-equivalent to $A$.\n",
    "\n",
    "The category $A_{\\mathrm{dec}}^{\\oplus} \\simeq A_{\\mathrm{sdec}}^{\\oplus}$ is a model for the additive full subcategory of projective objects in $\\mbox{mod-}A$, where the second model is skeletal.\n",
    "\n",
    "We model $\\mbox{mod-}A$ as the functor category $[A, k\\mbox{-vec}]$, where $A$ is viewed as an algebroid with one object and the precomposition of two morphisms $r\\bullet s$ is simply their product $rs$; and $k\\mbox{-vec}$ is the (skeletal) Abelian category of finite dimensional $k$-vector spaces. This is equivalent to the category of representations of the quiver underlying the algebroid $(A^\\mathrm{op})^\\mathrm{dec} \\simeq (A^\\mathrm{dec})^\\mathrm{op}$. The identification of $A^\\mathrm{dec}$ with the $k$-linear full subcategory of indecomposable projective objects in the Abelian category $A\\mathrm{-mod} := [A^\\mathrm{op}, k\\mathrm{-vec}] \\simeq [(A^\\mathrm{op})^\\mathrm{dec}, k\\mathrm{-vec}] \\simeq [(A^\\mathrm{dec})^\\mathrm{op}, k\\mathrm{-vec}]$ is then nothing but Yoneda's embedding. This embedding factors over the embedding $A^\\mathrm{dec}_\\oplus \\hookrightarrow [(A^\\mathrm{dec})^\\mathrm{op}, k\\mathrm{-vec}] \\simeq A\\mathrm{-mod}$.\n",
    "\n",
    "We model the bounded derived category $\\mathrm{D}^\\mathrm{b}(A)$ by the bounded homotopy category $\\mathrm{Ho}^\\mathrm{b}\\!\\left(A^\\mathrm{dec}_\\oplus\\right)$."
   ]
  },
  {
   "cell_type": "code",
   "execution_count": 1,
   "metadata": {},
   "outputs": [
    {
     "name": "stdout",
     "output_type": "stream",
     "text": [
      " ┌───────┐   GAP 4.11.1 of 2021-03-02\n",
      " │  GAP  │   https://www.gap-system.org\n",
      " └───────┘   Architecture: x86_64-pc-linux-gnu-julia64-kv7\n",
      " Configuration:  gmp 6.1.2, Julia GC, Julia 1.5.2, readline\n",
      " Loading the library and packages ...\n",
      " Packages:   GAPDoc 1.6.3, IO 4.7.1, JuliaInterface 0.5.2, PrimGrp 3.4.0, \n",
      "             SmallGrp 1.4.1, TransGrp 2.0.5\n",
      " Try '??help' for help. See also '?copyright', '?cite' and '?authors'\n",
      "CapAndHomalg v\u001b[32m1.1.3\u001b[39m\n",
      "Imported OSCAR's components GAP and Singular_jll\n",
      "Type: ?CapAndHomalg for more information\n"
     ]
    }
   ],
   "source": [
    "using CapAndHomalg"
   ]
  },
  {
   "cell_type": "markdown",
   "metadata": {},
   "source": [
    "---\n",
    "We start by loading the GAP package `DerivedCategories` and some of the presetting which will give us the colorful output below:"
   ]
  },
  {
   "cell_type": "code",
   "execution_count": 2,
   "metadata": {},
   "outputs": [],
   "source": [
    "LoadPackage( \"DerivedCategories\" )"
   ]
  },
  {
   "cell_type": "code",
   "execution_count": 3,
   "metadata": {},
   "outputs": [
    {
     "data": {
      "text/plain": [
       "GAP: [ \"GradedRingForHomalg\", \"MatricesForHomalg\", \"FreydCategoriesForCAP\", \"Algebroids\", \"RingsForHomalg\", \"ModulePresentationsForCAP\", \"GradedModulePresentationsForCAP\", \"LinearAlgebraForCAP\", \"FunctorCategories\", \"CategoryConstructor\", \"SubcategoriesForCAP\" ]"
      ]
     },
     "execution_count": 3,
     "metadata": {},
     "output_type": "execute_result"
    }
   ],
   "source": [
    "SetSpecialSettings( )\n",
    "EnhanceAllPackages( )"
   ]
  },
  {
   "cell_type": "markdown",
   "metadata": {},
   "source": [
    "---\n",
    "Define the field of rationals over which our categories will be linear:"
   ]
  },
  {
   "cell_type": "code",
   "execution_count": 4,
   "metadata": {
    "scrolled": true
   },
   "outputs": [
    {
     "data": {
      "text/plain": [
       "GAP: Q"
      ]
     },
     "execution_count": 4,
     "metadata": {},
     "output_type": "execute_result"
    }
   ],
   "source": [
    "ℚ = HomalgFieldOfRationals()"
   ]
  },
  {
   "cell_type": "markdown",
   "metadata": {},
   "source": [
    " "
   ]
  },
  {
   "cell_type": "markdown",
   "metadata": {},
   "source": [
    "---\n",
    "Next we define the quiver:"
   ]
  },
  {
   "cell_type": "code",
   "execution_count": 5,
   "metadata": {},
   "outputs": [
    {
     "data": {
      "text/plain": [
       "GAP: q_𝓞(𝓞(0),𝓞(1),𝓞(2))[x0:𝓞(0)->𝓞(1),x1:𝓞(0)->𝓞(1),x2:𝓞(0)->𝓞(1),y0:𝓞(1)->𝓞(2),y1:𝓞(1)->𝓞(2),y2:𝓞(1)->𝓞(2)]"
      ]
     },
     "execution_count": 5,
     "metadata": {},
     "output_type": "execute_result"
    }
   ],
   "source": [
    "q = RightQuiver( \"q_𝓞\",\n",
    "          [ \"𝓞(0)\", \"𝓞(1)\", \"𝓞(2)\" ],\n",
    "          [ \"x0\", \"x1\", \"x2\", \"y0\", \"y1\", \"y2\" ],\n",
    "          [ 1, 1, 1, 2, 2, 2 ],\n",
    "          [ 2, 2, 2, 3, 3, 3 ] )"
   ]
  },
  {
   "cell_type": "code",
   "execution_count": 6,
   "metadata": {},
   "outputs": [],
   "source": [
    "SetLabelsAsLaTeXStrings( q, [ \"x_0\", \"x_1\", \"x_2\", \"y_0\", \"y_1\", \"y_2\" ] )"
   ]
  },
  {
   "cell_type": "code",
   "execution_count": 7,
   "metadata": {},
   "outputs": [
    {
     "data": {
      "text/plain": [
       "GAP: Q * q_𝓞"
      ]
     },
     "execution_count": 7,
     "metadata": {},
     "output_type": "execute_result"
    }
   ],
   "source": [
    "ℚq = PathAlgebra( ℚ, q )"
   ]
  },
  {
   "cell_type": "code",
   "execution_count": 8,
   "metadata": {},
   "outputs": [
    {
     "data": {
      "text/plain": [
       "GAP: (Q * q_𝓞) / [ -1*(x1*y0) + 1*(x0*y1), -1*(x2*y0) + 1*(x0*y2), -1*(x2*y1) + 1*(x1*y2) ]"
      ]
     },
     "execution_count": 8,
     "metadata": {},
     "output_type": "execute_result"
    }
   ],
   "source": [
    "endT_𝓞 = ℚq / [ ℚq.x0*ℚq.y1-ℚq.x1*ℚq.y0, ℚq.x0*ℚq.y2-ℚq.x2*ℚq.y0, ℚq.x1*ℚq.y2-ℚq.x2*ℚq.y1 ]"
   ]
  },
  {
   "cell_type": "code",
   "execution_count": 9,
   "metadata": {},
   "outputs": [
    {
     "data": {
      "text/plain": [
       "GAP: end( 𝓞(0) ⊕ 𝓞(1) ⊕ 𝓞(2) )"
      ]
     },
     "execution_count": 9,
     "metadata": {},
     "output_type": "execute_result"
    }
   ],
   "source": [
    "SetName( endT_𝓞, g\"end( 𝓞(0) ⊕ 𝓞(1) ⊕ 𝓞(2) )\" ); endT_𝓞"
   ]
  },
  {
   "cell_type": "code",
   "execution_count": 10,
   "metadata": {},
   "outputs": [
    {
     "data": {
      "text/plain": [
       "15"
      ]
     },
     "execution_count": 10,
     "metadata": {},
     "output_type": "execute_result"
    }
   ],
   "source": [
    "Dimension( endT_𝓞 )"
   ]
  },
  {
   "cell_type": "markdown",
   "metadata": {},
   "source": [
    "  "
   ]
  },
  {
   "cell_type": "markdown",
   "metadata": {},
   "source": [
    "---\n",
    "Define the opposite algebra, mainly to set its name: "
   ]
  },
  {
   "cell_type": "code",
   "execution_count": 11,
   "metadata": {},
   "outputs": [
    {
     "data": {
      "text/plain": [
       "GAP: end( 𝓞(0) ⊕ 𝓞(1) ⊕ 𝓞(2) )^op"
      ]
     },
     "execution_count": 11,
     "metadata": {},
     "output_type": "execute_result"
    }
   ],
   "source": [
    "endT_𝓞op = OppositeAlgebra( endT_𝓞 ); SetName( endT_𝓞op, g\"end( 𝓞(0) ⊕ 𝓞(1) ⊕ 𝓞(2) )^op\" ); endT_𝓞op"
   ]
  },
  {
   "cell_type": "markdown",
   "metadata": {},
   "source": [
    "Define the additive closure $\\mathrm{end}(T_\\mathcal{O})_{\\mathrm{oid}}^\\oplus$ of the endomorphism algebroid $\\mathrm{end}(T_\\mathcal{O})_{\\mathrm{oid}}$:"
   ]
  },
  {
   "cell_type": "code",
   "execution_count": 12,
   "metadata": {},
   "outputs": [
    {
     "data": {
      "text/plain": [
       "GAP: \u001b[33mQuiver rows( \u001b[0mend( 𝓞(0) ⊕ 𝓞(1) ⊕ 𝓞(2) )\u001b[33m )\u001b[0m"
      ]
     },
     "execution_count": 12,
     "metadata": {},
     "output_type": "execute_result"
    }
   ],
   "source": [
    "endT_𝓞_rows = QuiverRows( endT_𝓞 )"
   ]
  },
  {
   "cell_type": "markdown",
   "metadata": {},
   "source": [
    " "
   ]
  },
  {
   "cell_type": "markdown",
   "metadata": {},
   "source": [
    "Define the collection $\\{\\Omega^0(0), \\Omega^1(1), \\Omega^2(2)\\}$ as a full strong exceptional collection in the bounded homotopy category \n",
    "\n",
    "$$K^b\\left(\\mathrm{end}(T_\\mathcal{O})_{\\mathrm{oid}}^\\oplus\\right) \\simeq D^b(\\mbox{mod-}\\operatorname{end}(T_\\mathcal{O})^{\\mathrm{op}})$$"
   ]
  },
  {
   "cell_type": "code",
   "execution_count": 13,
   "metadata": {},
   "outputs": [
    {
     "data": {
      "text/plain": [
       "GAP: \u001b[34mHomotopy^• category( \u001b[0m\u001b[33mQuiver rows( \u001b[0mend( 𝓞(0) ⊕ 𝓞(1) ⊕ 𝓞(2) )\u001b[33m )\u001b[0m\u001b[34m )\u001b[0m"
      ]
     },
     "execution_count": 13,
     "metadata": {},
     "output_type": "execute_result"
    }
   ],
   "source": [
    "K_endT_𝓞_rows = HomotopyCategoryByCochains( endT_𝓞_rows )"
   ]
  },
  {
   "cell_type": "code",
   "execution_count": 14,
   "metadata": {},
   "outputs": [
    {
     "data": {
      "text/plain": [
       "GAP: <An object in \u001b[33mQuiver rows( \u001b[0mend( 𝓞(0) ⊕ 𝓞(1) ⊕ 𝓞(2) )\u001b[33m )\u001b[0m defined by 3 quiver vertices>"
      ]
     },
     "execution_count": 14,
     "metadata": {},
     "output_type": "execute_result"
    }
   ],
   "source": [
    "Ω00_0 = QuiverRowsObject( [ [ q.\"𝓞(0)\", 3 ] ], endT_𝓞_rows )"
   ]
  },
  {
   "cell_type": "code",
   "execution_count": 15,
   "metadata": {},
   "outputs": [
    {
     "data": {
      "text/latex": [
       "$${𝓞(0)}^{\\oplus3}$$"
      ]
     },
     "metadata": {},
     "output_type": "display_data"
    }
   ],
   "source": [
    "Show( Ω00_0 )"
   ]
  },
  {
   "cell_type": "code",
   "execution_count": 16,
   "metadata": {},
   "outputs": [
    {
     "data": {
      "text/plain": [
       "GAP: <An object in \u001b[33mQuiver rows( \u001b[0mend( 𝓞(0) ⊕ 𝓞(1) ⊕ 𝓞(2) )\u001b[33m )\u001b[0m defined by 3 quiver vertices>"
      ]
     },
     "execution_count": 16,
     "metadata": {},
     "output_type": "execute_result"
    }
   ],
   "source": [
    "Ω00_1 = QuiverRowsObject( [ [ q.\"𝓞(1)\", 3 ] ], endT_𝓞_rows )"
   ]
  },
  {
   "cell_type": "code",
   "execution_count": 17,
   "metadata": {},
   "outputs": [
    {
     "data": {
      "text/latex": [
       "$${𝓞(1)}^{\\oplus3}$$"
      ]
     },
     "metadata": {},
     "output_type": "display_data"
    }
   ],
   "source": [
    "Show( Ω00_1 )"
   ]
  },
  {
   "cell_type": "code",
   "execution_count": 18,
   "metadata": {},
   "outputs": [
    {
     "data": {
      "text/plain": [
       "GAP: <An object in \u001b[33mQuiver rows( \u001b[0mend( 𝓞(0) ⊕ 𝓞(1) ⊕ 𝓞(2) )\u001b[33m )\u001b[0m defined by 1 quiver vertices>"
      ]
     },
     "execution_count": 18,
     "metadata": {},
     "output_type": "execute_result"
    }
   ],
   "source": [
    "Ω00_2 = QuiverRowsObject( [ [ q.\"𝓞(2)\", 1 ] ], endT_𝓞_rows )"
   ]
  },
  {
   "cell_type": "code",
   "execution_count": 19,
   "metadata": {},
   "outputs": [
    {
     "data": {
      "text/latex": [
       "$${𝓞(2)}^{}$$"
      ]
     },
     "metadata": {},
     "output_type": "display_data"
    }
   ],
   "source": [
    "Show( Ω00_2 )"
   ]
  },
  {
   "cell_type": "code",
   "execution_count": 20,
   "metadata": {},
   "outputs": [
    {
     "data": {
      "text/plain": [
       "GAP: <A morphism in \u001b[33mQuiver rows( \u001b[0mend( 𝓞(0) ⊕ 𝓞(1) ⊕ 𝓞(2) )\u001b[33m )\u001b[0m defined by a 3 x 3 matrix of quiver algebra elements>"
      ]
     },
     "execution_count": 20,
     "metadata": {},
     "output_type": "execute_result"
    }
   ],
   "source": [
    "d_0 = QuiverRowsMorphism(\n",
    "          Ω00_0,\n",
    "          [ [ endT_𝓞.x1, -endT_𝓞.x0, Zero(endT_𝓞) ],\n",
    "            [ endT_𝓞.x2, Zero(endT_𝓞), -endT_𝓞.x0 ],\n",
    "            [ Zero(endT_𝓞), endT_𝓞.x2, -endT_𝓞.x1 ] ],\n",
    "          Ω00_1 )"
   ]
  },
  {
   "cell_type": "code",
   "execution_count": 21,
   "metadata": {},
   "outputs": [
    {
     "data": {
      "text/plain": [
       "true"
      ]
     },
     "execution_count": 21,
     "metadata": {},
     "output_type": "execute_result"
    }
   ],
   "source": [
    "IsWellDefined( d_0 )"
   ]
  },
  {
   "cell_type": "code",
   "execution_count": 22,
   "metadata": {},
   "outputs": [
    {
     "data": {
      "text/latex": [
       "$${𝓞(0)}^{\\oplus3}\\xrightarrow{\\begin{pmatrix}{x_1}&-{x_0}&0\\\\{x_2}&0&-{x_0}\\\\0&{x_2}&-{x_1}\\end{pmatrix}}{𝓞(1)}^{\\oplus3}$$"
      ]
     },
     "metadata": {},
     "output_type": "display_data"
    }
   ],
   "source": [
    "Show( d_0 )"
   ]
  },
  {
   "cell_type": "code",
   "execution_count": 23,
   "metadata": {},
   "outputs": [
    {
     "data": {
      "text/plain": [
       "GAP: <A morphism in \u001b[33mQuiver rows( \u001b[0mend( 𝓞(0) ⊕ 𝓞(1) ⊕ 𝓞(2) )\u001b[33m )\u001b[0m defined by a 3 x 1 matrix of quiver algebra elements>"
      ]
     },
     "execution_count": 23,
     "metadata": {},
     "output_type": "execute_result"
    }
   ],
   "source": [
    "d_1 = QuiverRowsMorphism(\n",
    "          Ω00_1,\n",
    "          [ [ endT_𝓞.y0 ],\n",
    "            [ endT_𝓞.y1 ],\n",
    "            [ endT_𝓞.y2 ] ],\n",
    "          Ω00_2 )"
   ]
  },
  {
   "cell_type": "code",
   "execution_count": 24,
   "metadata": {},
   "outputs": [
    {
     "data": {
      "text/plain": [
       "true"
      ]
     },
     "execution_count": 24,
     "metadata": {},
     "output_type": "execute_result"
    }
   ],
   "source": [
    "IsWellDefined( d_1 )"
   ]
  },
  {
   "cell_type": "code",
   "execution_count": 25,
   "metadata": {},
   "outputs": [
    {
     "data": {
      "text/latex": [
       "$${𝓞(1)}^{\\oplus3}\\xrightarrow{\\begin{pmatrix}{y_0}\\\\{y_1}\\\\{y_2}\\end{pmatrix}}{𝓞(2)}^{}$$"
      ]
     },
     "metadata": {},
     "output_type": "display_data"
    }
   ],
   "source": [
    "Show( d_1 )"
   ]
  },
  {
   "cell_type": "code",
   "execution_count": 26,
   "metadata": {},
   "outputs": [
    {
     "data": {
      "text/plain": [
       "GAP: \u001b[34mHomotopy^• category( \u001b[0m\u001b[33mQuiver rows( \u001b[0mend( 𝓞(0) ⊕ 𝓞(1) ⊕ 𝓞(2) )\u001b[33m )\u001b[0m\u001b[34m )\u001b[0m"
      ]
     },
     "execution_count": 26,
     "metadata": {},
     "output_type": "execute_result"
    }
   ],
   "source": [
    "K_endT_𝓞_rows"
   ]
  },
  {
   "cell_type": "code",
   "execution_count": 27,
   "metadata": {},
   "outputs": [
    {
     "data": {
      "text/plain": [
       "GAP: <An object in \u001b[34mHomotopy^• category( \u001b[0m\u001b[33mQuiver rows( \u001b[0mend( 𝓞(0) ⊕ 𝓞(1) ⊕ 𝓞(2) )\u001b[33m )\u001b[0m\u001b[34m )\u001b[0m with active lower bound 0 and active upper bound 2>"
      ]
     },
     "execution_count": 27,
     "metadata": {},
     "output_type": "execute_result"
    }
   ],
   "source": [
    "Ω00 = HomotopyCategoryObject( K_endT_𝓞_rows, [ d_0, d_1 ], 0 )"
   ]
  },
  {
   "cell_type": "code",
   "execution_count": 28,
   "metadata": {},
   "outputs": [
    {
     "data": {
      "text/plain": [
       "true"
      ]
     },
     "execution_count": 28,
     "metadata": {},
     "output_type": "execute_result"
    }
   ],
   "source": [
    "IsWellDefined( Ω00 )"
   ]
  },
  {
   "cell_type": "code",
   "execution_count": 29,
   "metadata": {},
   "outputs": [
    {
     "data": {
      "text/latex": [
       "$$\\begin{array}{c}\n",
       " {𝓞(2)}^{}\n",
       " \\\\ \n",
       " { \\color{black}\\uparrow_{\\phantom{1}}} \n",
       " \\\\ \n",
       " \\begin{pmatrix}{y_0}\\\\{y_1}\\\\{y_2}\\end{pmatrix}\n",
       " \\\\ \n",
       " { \\color{black}\\vert_{1}} \n",
       " \n",
       " \\\\ \n",
       "{𝓞(1)}^{\\oplus3}\\\\ \n",
       " { \\color{black}\\uparrow_{\\phantom{0}}} \n",
       " \\\\ \n",
       " \\begin{pmatrix}{x_1}&-{x_0}&0\\\\{x_2}&0&-{x_0}\\\\0&{x_2}&-{x_1}\\end{pmatrix}\n",
       " \\\\ \n",
       " { \\color{black}\\vert_{0}} \n",
       " \n",
       " \\\\ \n",
       "{𝓞(0)}^{\\oplus3}\\end{array}$$"
      ]
     },
     "metadata": {},
     "output_type": "display_data"
    }
   ],
   "source": [
    "Show( Ω00 )"
   ]
  },
  {
   "cell_type": "code",
   "execution_count": 30,
   "metadata": {},
   "outputs": [
    {
     "data": {
      "text/plain": [
       "GAP: <An object in \u001b[33mQuiver rows( \u001b[0mend( 𝓞(0) ⊕ 𝓞(1) ⊕ 𝓞(2) )\u001b[33m )\u001b[0m defined by 3 quiver vertices>"
      ]
     },
     "execution_count": 30,
     "metadata": {},
     "output_type": "execute_result"
    }
   ],
   "source": [
    "Ω11_0 = QuiverRowsObject( [ [ q.\"𝓞(0)\", 3 ] ], endT_𝓞_rows )"
   ]
  },
  {
   "cell_type": "code",
   "execution_count": 31,
   "metadata": {},
   "outputs": [
    {
     "data": {
      "text/plain": [
       "GAP: <An object in \u001b[33mQuiver rows( \u001b[0mend( 𝓞(0) ⊕ 𝓞(1) ⊕ 𝓞(2) )\u001b[33m )\u001b[0m defined by 1 quiver vertices>"
      ]
     },
     "execution_count": 31,
     "metadata": {},
     "output_type": "execute_result"
    }
   ],
   "source": [
    "Ω11_1 = QuiverRowsObject( [ [ q.\"𝓞(1)\", 1 ] ], endT_𝓞_rows )"
   ]
  },
  {
   "cell_type": "code",
   "execution_count": 32,
   "metadata": {},
   "outputs": [
    {
     "data": {
      "text/plain": [
       "GAP: <A morphism in \u001b[33mQuiver rows( \u001b[0mend( 𝓞(0) ⊕ 𝓞(1) ⊕ 𝓞(2) )\u001b[33m )\u001b[0m defined by a 3 x 1 matrix of quiver algebra elements>"
      ]
     },
     "execution_count": 32,
     "metadata": {},
     "output_type": "execute_result"
    }
   ],
   "source": [
    "d_0 = QuiverRowsMorphism(\n",
    "          Ω11_0,\n",
    "          [ [ endT_𝓞.x0 ],\n",
    "            [ endT_𝓞.x1 ],\n",
    "            [ endT_𝓞.x2 ] ],\n",
    "          Ω11_1 )"
   ]
  },
  {
   "cell_type": "code",
   "execution_count": 33,
   "metadata": {},
   "outputs": [
    {
     "data": {
      "text/plain": [
       "GAP: <An object in \u001b[34mHomotopy^• category( \u001b[0m\u001b[33mQuiver rows( \u001b[0mend( 𝓞(0) ⊕ 𝓞(1) ⊕ 𝓞(2) )\u001b[33m )\u001b[0m\u001b[34m )\u001b[0m with active lower bound 0 and active upper bound 1>"
      ]
     },
     "execution_count": 33,
     "metadata": {},
     "output_type": "execute_result"
    }
   ],
   "source": [
    "Ω11 = HomotopyCategoryObject( K_endT_𝓞_rows, [ d_0 ], 0 )"
   ]
  },
  {
   "cell_type": "code",
   "execution_count": 34,
   "metadata": {},
   "outputs": [
    {
     "data": {
      "text/latex": [
       "$$\\begin{array}{c}\n",
       " {𝓞(1)}^{}\n",
       " \\\\ \n",
       " { \\color{black}\\uparrow_{\\phantom{0}}} \n",
       " \\\\ \n",
       " \\begin{pmatrix}{x_0}\\\\{x_1}\\\\{x_2}\\end{pmatrix}\n",
       " \\\\ \n",
       " { \\color{black}\\vert_{0}} \n",
       " \n",
       " \\\\ \n",
       "{𝓞(0)}^{\\oplus3}\\end{array}$$"
      ]
     },
     "metadata": {},
     "output_type": "display_data"
    }
   ],
   "source": [
    "Show( Ω11 )"
   ]
  },
  {
   "cell_type": "code",
   "execution_count": 35,
   "metadata": {},
   "outputs": [
    {
     "data": {
      "text/plain": [
       "GAP: <An object in \u001b[33mQuiver rows( \u001b[0mend( 𝓞(0) ⊕ 𝓞(1) ⊕ 𝓞(2) )\u001b[33m )\u001b[0m defined by 1 quiver vertices>"
      ]
     },
     "execution_count": 35,
     "metadata": {},
     "output_type": "execute_result"
    }
   ],
   "source": [
    "Ω22_0 = QuiverRowsObject( [ [ q.\"𝓞(0)\", 1 ] ], endT_𝓞_rows )"
   ]
  },
  {
   "cell_type": "code",
   "execution_count": 36,
   "metadata": {},
   "outputs": [
    {
     "data": {
      "text/latex": [
       "$${𝓞(0)}^{}$$"
      ]
     },
     "metadata": {},
     "output_type": "display_data"
    }
   ],
   "source": [
    "Show( Ω22_0 )"
   ]
  },
  {
   "cell_type": "code",
   "execution_count": 37,
   "metadata": {},
   "outputs": [
    {
     "data": {
      "text/plain": [
       "GAP: <An object in \u001b[34mHomotopy^• category( \u001b[0m\u001b[33mQuiver rows( \u001b[0mend( 𝓞(0) ⊕ 𝓞(1) ⊕ 𝓞(2) )\u001b[33m )\u001b[0m\u001b[34m )\u001b[0m with active lower bound 0 and active upper bound 0>"
      ]
     },
     "execution_count": 37,
     "metadata": {},
     "output_type": "execute_result"
    }
   ],
   "source": [
    "Ω22 = Ω22_0 / K_endT_𝓞_rows"
   ]
  },
  {
   "cell_type": "code",
   "execution_count": 38,
   "metadata": {},
   "outputs": [
    {
     "data": {
      "text/latex": [
       "$$\\begin{array}{c}\n",
       " {𝓞(0)}^{}\n",
       " \\end{array}$$"
      ]
     },
     "metadata": {},
     "output_type": "display_data"
    }
   ],
   "source": [
    "Show( Ω22 )"
   ]
  },
  {
   "cell_type": "code",
   "execution_count": 39,
   "metadata": {},
   "outputs": [
    {
     "data": {
      "text/plain": [
       "GAP: <An exceptional collection defined by the objects of the The full subcategory { Ω^0(0), Ω^1(1), Ω^2(2) }>"
      ]
     },
     "execution_count": 39,
     "metadata": {},
     "output_type": "execute_result"
    }
   ],
   "source": [
    "Ω = CreateStrongExceptionalCollection(\n",
    "            [  Ω00, Ω11, Ω22 ],\n",
    "            [ \"Ω^0(0)\", \"Ω^1(1)\", \"Ω^2(2)\" ],\n",
    "            [ \"\\\\Omega^0(0)\", \"\\\\Omega^1(1)\", \"\\\\Omega^2(2)\" ]\n",
    "    )"
   ]
  },
  {
   "cell_type": "code",
   "execution_count": 40,
   "metadata": {},
   "outputs": [
    {
     "data": {
      "text/plain": [
       "GAP: end( Ω^0(0) ⊕ Ω^1(1) ⊕ Ω^2(2) )"
      ]
     },
     "execution_count": 40,
     "metadata": {},
     "output_type": "execute_result"
    }
   ],
   "source": [
    "endT_Ω = EndomorphismAlgebra( Ω )"
   ]
  },
  {
   "cell_type": "code",
   "execution_count": 41,
   "metadata": {},
   "outputs": [
    {
     "data": {
      "text/plain": [
       "12"
      ]
     },
     "execution_count": 41,
     "metadata": {},
     "output_type": "execute_result"
    }
   ],
   "source": [
    "Dimension( endT_Ω )"
   ]
  },
  {
   "cell_type": "code",
   "execution_count": 42,
   "metadata": {},
   "outputs": [
    {
     "data": {
      "text/plain": [
       "GAP: quiver(Ω^0(0),Ω^1(1),Ω^2(2))[m1_2_1:Ω^0(0)->Ω^1(1),m1_2_2:Ω^0(0)->Ω^1(1),m1_2_3:Ω^0(0)->Ω^1(1),m2_3_1:Ω^1(1)->Ω^2(2),m2_3_2:Ω^1(1)->Ω^2(2),m2_3_3:Ω^1(1)->Ω^2(2)]"
      ]
     },
     "execution_count": 42,
     "metadata": {},
     "output_type": "execute_result"
    }
   ],
   "source": [
    "q_endT_Ω = QuiverOfAlgebra( endT_Ω )"
   ]
  },
  {
   "cell_type": "code",
   "execution_count": 43,
   "metadata": {},
   "outputs": [
    {
     "data": {
      "text/plain": [
       "GAP: [ 1*(m1_2_1*m2_3_1), 1*(m1_2_2*m2_3_1) + 1*(m1_2_1*m2_3_2), 1*(m1_2_2*m2_3_2), 1*(m1_2_3*m2_3_1) + 1*(m1_2_1*m2_3_3), 1*(m1_2_3*m2_3_2) + 1*(m1_2_2*m2_3_3), 1*(m1_2_3*m2_3_3) ]"
      ]
     },
     "execution_count": 43,
     "metadata": {},
     "output_type": "execute_result"
    }
   ],
   "source": [
    "RelationsOfAlgebra( endT_Ω )"
   ]
  },
  {
   "cell_type": "code",
   "execution_count": 44,
   "metadata": {},
   "outputs": [
    {
     "data": {
      "text/plain": [
       "false"
      ]
     },
     "execution_count": 44,
     "metadata": {},
     "output_type": "execute_result"
    }
   ],
   "source": [
    "GlobalDimensionOfAlgebra( endT_Ω, 1 )"
   ]
  },
  {
   "cell_type": "code",
   "execution_count": 45,
   "metadata": {},
   "outputs": [
    {
     "data": {
      "text/plain": [
       "2"
      ]
     },
     "execution_count": 45,
     "metadata": {},
     "output_type": "execute_result"
    }
   ],
   "source": [
    "GlobalDimensionOfAlgebra( endT_Ω, 2 )"
   ]
  },
  {
   "cell_type": "code",
   "execution_count": 46,
   "metadata": {},
   "outputs": [
    {
     "data": {
      "text/plain": [
       "GAP: \u001b[34mAlgebroid(\u001b[0m end( Ω^0(0) ⊕ Ω^1(1) ⊕ Ω^2(2) ) \u001b[34m)\u001b[0m"
      ]
     },
     "execution_count": 46,
     "metadata": {},
     "output_type": "execute_result"
    }
   ],
   "source": [
    "endT_Ω_oid = Algebroid( Ω )"
   ]
  },
  {
   "cell_type": "code",
   "execution_count": 47,
   "metadata": {},
   "outputs": [
    {
     "data": {
      "text/plain": [
       "GAP: Isomorphism functor from exceptional collection onto algebroid"
      ]
     },
     "execution_count": 47,
     "metadata": {},
     "output_type": "execute_result"
    }
   ],
   "source": [
    "Abs = IsomorphismOntoAlgebroid( Ω )"
   ]
  },
  {
   "cell_type": "code",
   "execution_count": 48,
   "metadata": {},
   "outputs": [
    {
     "data": {
      "text/plain": [
       "GAP: Isomorphism functor from algebroid onto exceptional collection"
      ]
     },
     "execution_count": 48,
     "metadata": {},
     "output_type": "execute_result"
    }
   ],
   "source": [
    "Rel = IsomorphismFromAlgebroid( Ω )"
   ]
  },
  {
   "cell_type": "code",
   "execution_count": 49,
   "metadata": {},
   "outputs": [
    {
     "data": {
      "text/plain": [
       "GAP: (Ω^0(0))-[{ 1*(m1_2_2) }]->(Ω^1(1))"
      ]
     },
     "execution_count": 49,
     "metadata": {},
     "output_type": "execute_result"
    }
   ],
   "source": [
    "m = endT_Ω_oid.\"m1_2_2\""
   ]
  },
  {
   "cell_type": "code",
   "execution_count": 50,
   "metadata": {},
   "outputs": [
    {
     "data": {
      "text/latex": [
       "$${\\Omega^0(0)}-\\left({{m_{1,2}^{2}}}\\right)\\rightarrow{\\Omega^1(1)}$$"
      ]
     },
     "metadata": {},
     "output_type": "display_data"
    }
   ],
   "source": [
    "Show( m )"
   ]
  },
  {
   "cell_type": "code",
   "execution_count": 51,
   "metadata": {},
   "outputs": [
    {
     "data": {
      "text/plain": [
       "GAP: A morphism in full subcategory given by: <A morphism in \u001b[34mHomotopy^• category( \u001b[0m\u001b[33mQuiver rows( \u001b[0mend( 𝓞(0) ⊕ 𝓞(1) ⊕ 𝓞(2) )\u001b[33m )\u001b[0m\u001b[34m )\u001b[0m with active lower bound 0 and active upper bound 1>"
      ]
     },
     "execution_count": 51,
     "metadata": {},
     "output_type": "execute_result"
    }
   ],
   "source": [
    "Rel_m = Rel( m )"
   ]
  },
  {
   "cell_type": "code",
   "execution_count": 52,
   "metadata": {},
   "outputs": [
    {
     "data": {
      "text/latex": [
       "$$\\begin{array}{ccc}\n",
       " {𝓞(2)}^{}&-\\phantom{-}{0}\\phantom{-}\\rightarrow&0\n",
       " \\\\ \n",
       " \\uparrow_{\\phantom{1}}&& \n",
       " \\uparrow_{\\phantom{1}}\n",
       " \\\\ \n",
       " \\begin{pmatrix}{y_0}\\\\{y_1}\\\\{y_2}\\end{pmatrix}&&0\n",
       " \\\\ \n",
       " \\vert_{1} &&\\vert_{1} \n",
       " \\\\ \n",
       " {𝓞(1)}^{\\oplus3}&-\\phantom{-}{\\begin{pmatrix}0\\\\{𝓞(1)}\\\\0\\end{pmatrix}}\\phantom{-}\\rightarrow&{𝓞(1)}^{}\n",
       " \\\\ \n",
       "  \\uparrow_{\\phantom{0}}&& \n",
       " \\uparrow_{\\phantom{0}}\n",
       " \\\\ \n",
       " \\begin{pmatrix}{x_1}&-{x_0}&0\\\\{x_2}&0&-{x_0}\\\\0&{x_2}&-{x_1}\\end{pmatrix}&&\\begin{pmatrix}{x_0}\\\\{x_1}\\\\{x_2}\\end{pmatrix}\n",
       " \\\\ \n",
       " \\vert_{0} &&\\vert_{0} \n",
       " \\\\ \n",
       " {𝓞(0)}^{\\oplus3}&-\\phantom{-}{\\begin{pmatrix}-{𝓞(0)}&0&0\\\\0&0&0\\\\0&0&{𝓞(0)}\\end{pmatrix}}\\phantom{-}\\rightarrow&{𝓞(0)}^{\\oplus3}\n",
       " \\\\ \n",
       " \\end{array}$$"
      ]
     },
     "metadata": {},
     "output_type": "display_data"
    }
   ],
   "source": [
    "Show( Rel_m )"
   ]
  },
  {
   "cell_type": "code",
   "execution_count": 53,
   "metadata": {},
   "outputs": [
    {
     "data": {
      "text/plain": [
       "true"
      ]
     },
     "execution_count": 53,
     "metadata": {},
     "output_type": "execute_result"
    }
   ],
   "source": [
    "IsZero( PreCompose( Rel( endT_Ω_oid.\"m1_2_2\" ), Rel( endT_Ω_oid.\"m2_3_2\" ) ) )"
   ]
  },
  {
   "cell_type": "markdown",
   "metadata": {},
   "source": [
    "By using the Yoneda embedding and the fact that $\\mathrm{end}(T_\\Omega)$ has finite global dimension, we can compute the following equivalences:\n",
    "\n",
    "$$K^b(\\Omega^\\oplus)\\simeq K^b(\\mathrm{end}(T_\\Omega)_{\\mathrm{oid}}^\\oplus)\\simeq K^b(\\mathrm{proj}(\\mbox{mod-}\\mathrm{end}(T_\\Omega)_{\\mathrm{oid}}^{\\mathrm{op}}))\\simeq D^b(\\mbox{mod-}\\mathrm{end}(T_\\Omega)_{\\mathrm{oid}}^{\\mathrm{op}})$$\n"
   ]
  },
  {
   "cell_type": "code",
   "execution_count": 54,
   "metadata": {},
   "outputs": [
    {
     "data": {
      "text/plain": [
       "GAP: Additive closure( The full subcategory { Ω^0(0), Ω^1(1), Ω^2(2) } )"
      ]
     },
     "execution_count": 54,
     "metadata": {},
     "output_type": "execute_result"
    }
   ],
   "source": [
    "Ω_plus = AdditiveClosure( Ω )"
   ]
  },
  {
   "cell_type": "code",
   "execution_count": 55,
   "metadata": {},
   "outputs": [
    {
     "data": {
      "text/plain": [
       "GAP: \u001b[32mHomotopy^• category( \u001b[0mAdditive closure( The full subcategory { Ω^0(0), Ω^1(1), Ω^2(2) } )\u001b[32m )\u001b[0m"
      ]
     },
     "execution_count": 55,
     "metadata": {},
     "output_type": "execute_result"
    }
   ],
   "source": [
    "K_Ω_plus = HomotopyCategoryByCochains( Ω_plus )"
   ]
  },
  {
   "cell_type": "code",
   "execution_count": 56,
   "metadata": {},
   "outputs": [
    {
     "data": {
      "text/plain": [
       "GAP: \u001b[33mHomotopy^• category( \u001b[0mAdditive closure( \u001b[34mAlgebroid(\u001b[0m end( Ω^0(0) ⊕ Ω^1(1) ⊕ Ω^2(2) ) \u001b[34m)\u001b[0m )\u001b[33m )\u001b[0m"
      ]
     },
     "execution_count": 56,
     "metadata": {},
     "output_type": "execute_result"
    }
   ],
   "source": [
    "endT_Ω_oid_plus = AdditiveClosure( endT_Ω_oid );\n",
    "K_endT_Ω_oid_plus = HomotopyCategoryByCochains( endT_Ω_oid_plus )"
   ]
  },
  {
   "cell_type": "code",
   "execution_count": 57,
   "metadata": {},
   "outputs": [
    {
     "data": {
      "text/plain": [
       "GAP: \u001b[32mHomotopy^• category( \u001b[0m\u001b[35mFull additive subcategory generated by projective objects( \u001b[0mThe category of functors: \u001b[34mAlgebroid( \u001b[0mend( Ω^0(0) ⊕ Ω^1(1) ⊕ Ω^2(2) )^op\u001b[34m )\u001b[0m -> Category of matrices over Q\u001b[35m )\u001b[0m\u001b[32m )\u001b[0m"
      ]
     },
     "execution_count": 57,
     "metadata": {},
     "output_type": "execute_result"
    }
   ],
   "source": [
    "endT_Ω_oid_op = OppositeAlgebroidOverOppositeQuiverAlgebra( endT_Ω_oid )\n",
    "mod_endT_Ω_oid_op = Hom( endT_Ω_oid_op, MatrixCategory( ℚ ) )\n",
    "projs = FullSubcategoryGeneratedByProjectiveObjects( mod_endT_Ω_oid_op )\n",
    "K_projs = HomotopyCategoryByCochains( projs )"
   ]
  },
  {
   "cell_type": "code",
   "execution_count": 58,
   "metadata": {},
   "outputs": [
    {
     "data": {
      "text/plain": [
       "GAP: \u001b[35mDerived^• category(\u001b[0m The category of functors: \u001b[34mAlgebroid( \u001b[0mend( Ω^0(0) ⊕ Ω^1(1) ⊕ Ω^2(2) )^op\u001b[34m )\u001b[0m -> Category of matrices over Q \u001b[35m)\u001b[0m"
      ]
     },
     "execution_count": 58,
     "metadata": {},
     "output_type": "execute_result"
    }
   ],
   "source": [
    "K_mod_endT_Ω_oid_op = HomotopyCategoryByCochains( mod_endT_Ω_oid_op )\n",
    "D_mod_endT_Ω_oid_op = DerivedCategoryByCochains( mod_endT_Ω_oid_op )"
   ]
  },
  {
   "cell_type": "code",
   "execution_count": 59,
   "metadata": {},
   "outputs": [
    {
     "name": "stdout",
     "output_type": "stream",
     "text": [
      "1: Apply ExtendFunctorToHomotopyCategoriesByCochains on ( Apply ExtendFunctorToAdditiveClosures on ( Abstraction isomorphism ) )\n"
     ]
    }
   ],
   "source": [
    "KnownFunctors( K_Ω_plus, K_endT_Ω_oid_plus )"
   ]
  },
  {
   "cell_type": "code",
   "execution_count": 60,
   "metadata": {},
   "outputs": [
    {
     "data": {
      "text/plain": [
       "GAP: Extension of ( Extension of Isomorphism functor from exceptional collection onto algebroid to additive closures ) to homotopy categories"
      ]
     },
     "execution_count": 60,
     "metadata": {},
     "output_type": "execute_result"
    }
   ],
   "source": [
    "Abs = Functor( K_Ω_plus, K_endT_Ω_oid_plus, 1 )"
   ]
  },
  {
   "cell_type": "code",
   "execution_count": 61,
   "metadata": {},
   "outputs": [
    {
     "name": "stdout",
     "output_type": "stream",
     "text": [
      "1: Apply ExtendFunctorToHomotopyCategoriesByCochains on ( Apply ExtendFunctorToAdditiveClosures on ( Relatization isomorphism ) )\n"
     ]
    }
   ],
   "source": [
    "KnownFunctors( K_endT_Ω_oid_plus, K_Ω_plus )"
   ]
  },
  {
   "cell_type": "code",
   "execution_count": 62,
   "metadata": {},
   "outputs": [
    {
     "data": {
      "text/plain": [
       "GAP: Extension of ( Extension of Isomorphism functor from algebroid onto exceptional collection to additive closures ) to homotopy categories"
      ]
     },
     "execution_count": 62,
     "metadata": {},
     "output_type": "execute_result"
    }
   ],
   "source": [
    "Rel = Functor( K_endT_Ω_oid_plus, K_Ω_plus, 1 )"
   ]
  },
  {
   "cell_type": "code",
   "execution_count": 63,
   "metadata": {},
   "outputs": [
    {
     "name": "stdout",
     "output_type": "stream",
     "text": [
      "1: Apply ExtendFunctorToHomotopyCategoriesByCochains on ( Yoneda embedding )\n"
     ]
    }
   ],
   "source": [
    "KnownFunctors( K_endT_Ω_oid_plus, K_projs )"
   ]
  },
  {
   "cell_type": "code",
   "execution_count": 64,
   "metadata": {},
   "outputs": [
    {
     "data": {
      "text/plain": [
       "GAP: Extension of ( Yoneda embedding ) to homotopy categories"
      ]
     },
     "execution_count": 64,
     "metadata": {},
     "output_type": "execute_result"
    }
   ],
   "source": [
    "𝕐 = Functor( K_endT_Ω_oid_plus, K_projs, 1 )"
   ]
  },
  {
   "cell_type": "code",
   "execution_count": 65,
   "metadata": {},
   "outputs": [
    {
     "name": "stdout",
     "output_type": "stream",
     "text": [
      "1: Apply ExtendFunctorToHomotopyCategoriesByCochains on ( Decomposition of projective objects )\n"
     ]
    }
   ],
   "source": [
    "KnownFunctors( K_projs, K_endT_Ω_oid_plus )"
   ]
  },
  {
   "cell_type": "code",
   "execution_count": 66,
   "metadata": {},
   "outputs": [
    {
     "data": {
      "text/plain": [
       "GAP: Extension of ( Decomposition of projective objects ) to homotopy categories"
      ]
     },
     "execution_count": 66,
     "metadata": {},
     "output_type": "execute_result"
    }
   ],
   "source": [
    "𝔻 = Functor( K_projs, K_endT_Ω_oid_plus, 1 )"
   ]
  },
  {
   "cell_type": "code",
   "execution_count": 67,
   "metadata": {},
   "outputs": [
    {
     "name": "stdout",
     "output_type": "stream",
     "text": [
      "1: PreComposition of the following two functors:\n",
      "     * Apply ExtendFunctorToHomotopyCategoriesByCochains on ( The inclusion functor )\n",
      "     * The natural localization functor\n"
     ]
    }
   ],
   "source": [
    "KnownFunctors( K_projs, D_mod_endT_Ω_oid_op )"
   ]
  },
  {
   "cell_type": "code",
   "execution_count": 68,
   "metadata": {},
   "outputs": [
    {
     "data": {
      "text/plain": [
       "GAP: Composition of Extension of ( The inclusion functor ) to homotopy categories and Localization functor in derived category"
      ]
     },
     "execution_count": 68,
     "metadata": {},
     "output_type": "execute_result"
    }
   ],
   "source": [
    "𝕃 = Functor( K_projs, D_mod_endT_Ω_oid_op, 1 )"
   ]
  },
  {
   "cell_type": "code",
   "execution_count": 69,
   "metadata": {},
   "outputs": [
    {
     "name": "stdout",
     "output_type": "stream",
     "text": [
      "1: Universal functor from derived category\n"
     ]
    }
   ],
   "source": [
    "KnownFunctors( D_mod_endT_Ω_oid_op, K_projs )"
   ]
  },
  {
   "cell_type": "code",
   "execution_count": 70,
   "metadata": {},
   "outputs": [
    {
     "data": {
      "text/plain": [
       "GAP: Universal functor from derived category onto a localization category"
      ]
     },
     "execution_count": 70,
     "metadata": {},
     "output_type": "execute_result"
    }
   ],
   "source": [
    "𝕌 = Functor( D_mod_endT_Ω_oid_op, K_projs, 1 )"
   ]
  },
  {
   "cell_type": "markdown",
   "metadata": {},
   "source": [
    "The natural embedding $\\Omega \\hookrightarrow K^b(\\mathrm{end}(T_\\mathcal{O})_{\\mathrm{oid}}^\\oplus)$ can be extended to another embedding $\\Omega^{\\oplus} \\hookrightarrow K^b(\\mathrm{end}(T_\\mathcal{O})_{\\mathrm{oid}}^\\oplus)$. The later can again be extended to the embedding \n",
    "\n",
    "$$K^b(\\Omega^{\\oplus}) \\hookrightarrow K^b(K^b(\\mathrm{end}(T_\\mathcal{O})_{\\mathrm{oid}}^\\oplus)).$$\n",
    "\n",
    "On the other hand, we have another natural embedding \n",
    "\n",
    "$$K^b(\\mathrm{end}(T_\\mathcal{O})_{\\mathrm{oid}}^\\oplus) \\hookrightarrow K^b(K^b(\\mathrm{end}(T_\\mathcal{O})_{\\mathrm{oid}}^\\oplus)).$$\n"
   ]
  },
  {
   "cell_type": "markdown",
   "metadata": {},
   "source": [
    "---\n",
    "Now construct the tilting equivalences:\n",
    "$$\n",
    "  F: K^\\mathrm{b} \\left((\\mathrm{end}\\, T_\\Omega)_{\\mathrm{oid}}^\\oplus\\right) \\rightleftarrows K^b(\\Omega^\\oplus) \\rightleftarrows K^\\mathrm{b} \\left((\\mathrm{end}\\, T_\\mathcal{O})_\\mathrm{oid}^\\oplus\\right) :G\n",
    "$$"
   ]
  },
  {
   "cell_type": "code",
   "execution_count": 71,
   "metadata": {},
   "outputs": [
    {
     "data": {
      "text/plain": [
       "GAP: Convolution functor"
      ]
     },
     "execution_count": 71,
     "metadata": {},
     "output_type": "execute_result"
    }
   ],
   "source": [
    "Conv = ConvolutionFunctor( Ω )"
   ]
  },
  {
   "cell_type": "code",
   "execution_count": 72,
   "metadata": {},
   "outputs": [
    {
     "name": "stdout",
     "output_type": "stream",
     "text": [
      "Convolution functor\u001b[1m\u001b[31m:\u001b[0m\n",
      "\n",
      "\u001b[32mHomotopy^• category( \u001b[0mAdditive closure( The full subcategory { Ω^0(0), Ω^1(1), Ω^2(2) } )\u001b[32m )\u001b[0m\n",
      "\u001b[1m\u001b[31m  |\n",
      "  V\u001b[0m\n",
      "\u001b[34mHomotopy^• category( \u001b[0m\u001b[33mQuiver rows( \u001b[0mend( 𝓞(0) ⊕ 𝓞(1) ⊕ 𝓞(2) )\u001b[33m )\u001b[0m\u001b[34m )\u001b[0m\n"
     ]
    }
   ],
   "source": [
    "Display( Conv )"
   ]
  },
  {
   "cell_type": "code",
   "execution_count": 73,
   "metadata": {},
   "outputs": [
    {
     "data": {
      "text/plain": [
       "true"
      ]
     },
     "execution_count": 73,
     "metadata": {},
     "output_type": "execute_result"
    }
   ],
   "source": [
    "IsIdenticalObj( K_Ω_plus, SourceOfFunctor( Conv ) )"
   ]
  },
  {
   "cell_type": "code",
   "execution_count": 74,
   "metadata": {},
   "outputs": [
    {
     "data": {
      "text/plain": [
       "true"
      ]
     },
     "execution_count": 74,
     "metadata": {},
     "output_type": "execute_result"
    }
   ],
   "source": [
    "IsIdenticalObj( K_endT_𝓞_rows, RangeOfFunctor( Conv ) )"
   ]
  },
  {
   "cell_type": "code",
   "execution_count": 75,
   "metadata": {},
   "outputs": [
    {
     "data": {
      "text/plain": [
       "GAP: Replacement functor"
      ]
     },
     "execution_count": 75,
     "metadata": {},
     "output_type": "execute_result"
    }
   ],
   "source": [
    "Rep = ReplacementFunctor( Ω )"
   ]
  },
  {
   "cell_type": "code",
   "execution_count": 76,
   "metadata": {},
   "outputs": [
    {
     "name": "stdout",
     "output_type": "stream",
     "text": [
      "Replacement functor\u001b[1m\u001b[31m:\u001b[0m\n",
      "\n",
      "\u001b[34mHomotopy^• category( \u001b[0m\u001b[33mQuiver rows( \u001b[0mend( 𝓞(0) ⊕ 𝓞(1) ⊕ 𝓞(2) )\u001b[33m )\u001b[0m\u001b[34m )\u001b[0m\n",
      "\u001b[1m\u001b[31m  |\n",
      "  V\u001b[0m\n",
      "\u001b[32mHomotopy^• category( \u001b[0mAdditive closure( The full subcategory { Ω^0(0), Ω^1(1), Ω^2(2) } )\u001b[32m )\u001b[0m\n"
     ]
    }
   ],
   "source": [
    "Display( Rep )"
   ]
  },
  {
   "cell_type": "markdown",
   "metadata": {},
   "source": [
    "---\n",
    "Consider the images of the three twisted line bundles $\\{\\mathcal{O}(0), \\mathcal{O}(1), \\mathcal{O}(2)\\} \\subset \\mathrm{K}^\\mathrm{b}\\!\\left((\\mathrm{End}\\, T_𝓞)^\\mathrm{dec}_\\oplus\\right)$ under the tilting equivalence\n",
    "$$\n",
    "  G: \\mathrm{K}^\\mathrm{b}\\!\\left((\\operatorname{End}\\, T_\\mathcal{O})^\\mathrm{dec}_\\oplus \\right) \\rightarrow \\mathrm{K}^\\mathrm{b}\\!\\left((\\operatorname{End}\\, T_\\Omega)^\\mathrm{dec}_\\oplus \\right) \\mbox{.}\n",
    "$$"
   ]
  },
  {
   "cell_type": "code",
   "execution_count": 77,
   "metadata": {},
   "outputs": [
    {
     "data": {
      "text/plain": [
       "GAP: <An object in \u001b[34mHomotopy^• category( \u001b[0m\u001b[33mQuiver rows( \u001b[0mend( 𝓞(0) ⊕ 𝓞(1) ⊕ 𝓞(2) )\u001b[33m )\u001b[0m\u001b[34m )\u001b[0m with active lower bound 0 and active upper bound 0>"
      ]
     },
     "execution_count": 77,
     "metadata": {},
     "output_type": "execute_result"
    }
   ],
   "source": [
    "𝓞0 = QuiverRowsObject( [ [ q.\"𝓞(0)\", 1 ] ], endT_𝓞_rows ) / K_endT_𝓞_rows"
   ]
  },
  {
   "cell_type": "code",
   "execution_count": 78,
   "metadata": {},
   "outputs": [
    {
     "data": {
      "text/latex": [
       "$$\\begin{array}{c}\n",
       " {𝓞(0)}^{}\n",
       " \\end{array}$$"
      ]
     },
     "metadata": {},
     "output_type": "display_data"
    }
   ],
   "source": [
    "Show( 𝓞0 )"
   ]
  },
  {
   "cell_type": "code",
   "execution_count": 79,
   "metadata": {},
   "outputs": [
    {
     "data": {
      "text/plain": [
       "GAP: <An object in \u001b[34mHomotopy^• category( \u001b[0m\u001b[33mQuiver rows( \u001b[0mend( 𝓞(0) ⊕ 𝓞(1) ⊕ 𝓞(2) )\u001b[33m )\u001b[0m\u001b[34m )\u001b[0m with active lower bound 0 and active upper bound 0>"
      ]
     },
     "execution_count": 79,
     "metadata": {},
     "output_type": "execute_result"
    }
   ],
   "source": [
    "𝓞1 = QuiverRowsObject( [ [ q.\"𝓞(1)\", 1 ] ], endT_𝓞_rows ) / K_endT_𝓞_rows"
   ]
  },
  {
   "cell_type": "code",
   "execution_count": 80,
   "metadata": {},
   "outputs": [
    {
     "data": {
      "text/latex": [
       "$$\\begin{array}{c}\n",
       " {𝓞(1)}^{}\n",
       " \\end{array}$$"
      ]
     },
     "metadata": {},
     "output_type": "display_data"
    }
   ],
   "source": [
    "Show( 𝓞1 )"
   ]
  },
  {
   "cell_type": "code",
   "execution_count": 81,
   "metadata": {},
   "outputs": [
    {
     "data": {
      "text/plain": [
       "GAP: <An object in \u001b[34mHomotopy^• category( \u001b[0m\u001b[33mQuiver rows( \u001b[0mend( 𝓞(0) ⊕ 𝓞(1) ⊕ 𝓞(2) )\u001b[33m )\u001b[0m\u001b[34m )\u001b[0m with active lower bound 0 and active upper bound 0>"
      ]
     },
     "execution_count": 81,
     "metadata": {},
     "output_type": "execute_result"
    }
   ],
   "source": [
    "𝓞2 = QuiverRowsObject( [ [ q.\"𝓞(2)\", 1 ] ], endT_𝓞_rows ) / K_endT_𝓞_rows"
   ]
  },
  {
   "cell_type": "code",
   "execution_count": 82,
   "metadata": {},
   "outputs": [
    {
     "data": {
      "text/latex": [
       "$$\\begin{array}{c}\n",
       " {𝓞(2)}^{}\n",
       " \\end{array}$$"
      ]
     },
     "metadata": {},
     "output_type": "display_data"
    }
   ],
   "source": [
    "Show( 𝓞2 )"
   ]
  },
  {
   "cell_type": "code",
   "execution_count": 83,
   "metadata": {},
   "outputs": [
    {
     "data": {
      "text/plain": [
       "GAP: <An object in \u001b[32mHomotopy^• category( \u001b[0mAdditive closure( The full subcategory { Ω^0(0), Ω^1(1), Ω^2(2) } )\u001b[32m )\u001b[0m with active lower bound 0 and active upper bound 0>"
      ]
     },
     "execution_count": 83,
     "metadata": {},
     "output_type": "execute_result"
    }
   ],
   "source": [
    "Rep_𝓞0 = Rep( 𝓞0 )"
   ]
  },
  {
   "cell_type": "code",
   "execution_count": 84,
   "metadata": {},
   "outputs": [
    {
     "data": {
      "text/latex": [
       "$$\\begin{array}{c}\n",
       " {\\Omega^2(2)}\n",
       " \\end{array}$$"
      ]
     },
     "metadata": {},
     "output_type": "display_data"
    }
   ],
   "source": [
    "Show( Abs( Rep_𝓞0 ) )"
   ]
  },
  {
   "cell_type": "code",
   "execution_count": 85,
   "metadata": {},
   "outputs": [
    {
     "data": {
      "text/plain": [
       "GAP: <An object in \u001b[32mHomotopy^• category( \u001b[0mAdditive closure( The full subcategory { Ω^0(0), Ω^1(1), Ω^2(2) } )\u001b[32m )\u001b[0m with active lower bound -1 and active upper bound 0>"
      ]
     },
     "execution_count": 85,
     "metadata": {},
     "output_type": "execute_result"
    }
   ],
   "source": [
    "Rep_𝓞1 = Rep( 𝓞1 )"
   ]
  },
  {
   "cell_type": "code",
   "execution_count": 86,
   "metadata": {},
   "outputs": [
    {
     "data": {
      "text/latex": [
       "$$\\begin{array}{c}\n",
       " {\\Omega^2(2)}^{\\oplus 3}\n",
       " \\\\ \n",
       " { \\color{black}\\uparrow_{\\phantom{-1}}} \n",
       " \\\\ \n",
       " \\begin{pmatrix}-{m_{2,3}^{1}}&-{m_{2,3}^{2}}&-{m_{2,3}^{3}}\\end{pmatrix}\n",
       " \\\\ \n",
       " { \\color{black}\\vert_{-1}} \n",
       " \n",
       " \\\\ \n",
       "{\\Omega^1(1)}\\end{array}$$"
      ]
     },
     "metadata": {},
     "output_type": "display_data"
    }
   ],
   "source": [
    "Show( Abs( Rep_𝓞1 ) )"
   ]
  },
  {
   "cell_type": "code",
   "execution_count": 87,
   "metadata": {},
   "outputs": [
    {
     "data": {
      "text/plain": [
       "GAP: <An object in \u001b[32mHomotopy^• category( \u001b[0mAdditive closure( The full subcategory { Ω^0(0), Ω^1(1), Ω^2(2) } )\u001b[32m )\u001b[0m with active lower bound -2 and active upper bound 0>"
      ]
     },
     "execution_count": 87,
     "metadata": {},
     "output_type": "execute_result"
    }
   ],
   "source": [
    "Rep_𝓞2 = Rep( 𝓞2 )"
   ]
  },
  {
   "cell_type": "code",
   "execution_count": 88,
   "metadata": {},
   "outputs": [
    {
     "data": {
      "text/latex": [
       "$$\\begin{array}{c}\n",
       " {\\Omega^2(2)}^{\\oplus 6}\n",
       " \\\\ \n",
       " { \\color{black}\\uparrow_{\\phantom{-1}}} \n",
       " \\\\ \n",
       " \\begin{pmatrix}-{m_{2,3}^{1}}&-{m_{2,3}^{2}}&-{m_{2,3}^{3}}&0&0&0\\\\ \n",
       "0&-{m_{2,3}^{1}}&0&-{m_{2,3}^{2}}&-{m_{2,3}^{3}}&0\\\\ \n",
       "0&0&-{m_{2,3}^{1}}&0&-{m_{2,3}^{2}}&-{m_{2,3}^{3}}\\end{pmatrix}\n",
       " \\\\ \n",
       " { \\color{black}\\vert_{-1}} \n",
       " \n",
       " \\\\ \n",
       "{\\Omega^1(1)}^{\\oplus 3}\\\\ \n",
       " { \\color{black}\\uparrow_{\\phantom{-2}}} \n",
       " \\\\ \n",
       " \\begin{pmatrix}-{m_{1,2}^{1}}&-{m_{1,2}^{2}}&-{m_{1,2}^{3}}\\end{pmatrix}\n",
       " \\\\ \n",
       " { \\color{black}\\vert_{-2}} \n",
       " \n",
       " \\\\ \n",
       "{\\Omega^0(0)}\\end{array}$$"
      ]
     },
     "metadata": {},
     "output_type": "display_data"
    }
   ],
   "source": [
    "Show( Abs( Rep_𝓞2 ) )"
   ]
  },
  {
   "cell_type": "code",
   "execution_count": 93,
   "metadata": {},
   "outputs": [
    {
     "data": {
      "text/plain": [
       "GAP: <An object in \u001b[34mHomotopy^• category( \u001b[0m\u001b[33mQuiver rows( \u001b[0mend( 𝓞(0) ⊕ 𝓞(1) ⊕ 𝓞(2) )\u001b[33m )\u001b[0m\u001b[34m )\u001b[0m with active lower bound -1 and active upper bound 1>"
      ]
     },
     "execution_count": 93,
     "metadata": {},
     "output_type": "execute_result"
    }
   ],
   "source": [
    "C = RandomObject( K_endT_𝓞_rows, julia_to_gap( [ -1, 1, 2 ] ) )"
   ]
  },
  {
   "cell_type": "code",
   "execution_count": 101,
   "metadata": {},
   "outputs": [
    {
     "data": {
      "text/latex": [
       "$$\\begin{array}{c}\n",
       " {𝓞(1)}^{} \\oplus {𝓞(0)}^{}\n",
       " \\\\ \n",
       " { \\color{black}\\uparrow_{\\phantom{0}}} \n",
       " \\\\ \n",
       " \\begin{pmatrix}2{x_2}+{x_0}&3{𝓞(0)}\\\\0&0\\end{pmatrix}\n",
       " \\\\ \n",
       " { \\color{black}\\vert_{0}} \n",
       " \n",
       " \\\\ \n",
       "{𝓞(0)}^{} \\oplus {𝓞(2)}^{}\\\\ \n",
       " { \\color{black}\\uparrow_{\\phantom{-1}}} \n",
       " \\\\ \n",
       " \\begin{pmatrix}0&2{x_0y_1}+2{x_0y_0}\\\\0&2{x_1y_2}+2{x_0y_0}\\\\0&4{𝓞(2)}\\end{pmatrix}\n",
       " \\\\ \n",
       " { \\color{black}\\vert_{-1}} \n",
       " \n",
       " \\\\ \n",
       "{𝓞(0)}^{\\oplus2} \\oplus {𝓞(2)}^{}\\end{array}$$"
      ]
     },
     "metadata": {},
     "output_type": "display_data"
    }
   ],
   "source": [
    "Show( C )"
   ]
  },
  {
   "cell_type": "code",
   "execution_count": 102,
   "metadata": {},
   "outputs": [
    {
     "data": {
      "text/plain": [
       "GAP: <An object in \u001b[34mHomotopy^• category( \u001b[0m\u001b[33mQuiver rows( \u001b[0mend( 𝓞(0) ⊕ 𝓞(1) ⊕ 𝓞(2) )\u001b[33m )\u001b[0m\u001b[34m )\u001b[0m with active lower bound -1 and active upper bound 2>"
      ]
     },
     "execution_count": 102,
     "metadata": {},
     "output_type": "execute_result"
    }
   ],
   "source": [
    "ConvRep_C = Conv( Rep( C ) )"
   ]
  },
  {
   "cell_type": "code",
   "execution_count": 107,
   "metadata": {},
   "outputs": [
    {
     "data": {
      "text/latex": [
       "$$\\begin{array}{c}\n",
       " 0\n",
       " \\\\ \n",
       " { \\color{black}\\uparrow_{\\phantom{1}}} \n",
       " \\\\ \n",
       " 0\n",
       " \\\\ \n",
       " { \\color{black}\\vert_{1}} \n",
       " \n",
       " \\\\ \n",
       "{𝓞(1)}^{} \\oplus {𝓞(0)}^{\\oplus3}\\\\ \n",
       " { \\color{black}\\uparrow_{\\phantom{0}}} \n",
       " \\\\ \n",
       " \\begin{pmatrix}{x_0}&0&-2{𝓞(0)}&-3{𝓞(0)}\\\\{x_1}&{𝓞(0)}&0&0\\\\{x_2}&0&{𝓞(0)}&0\\end{pmatrix}\n",
       " \\\\ \n",
       " { \\color{black}\\vert_{0}} \n",
       " \n",
       " \\\\ \n",
       "{𝓞(0)}^{\\oplus3}\\\\ \n",
       " { \\color{black}\\uparrow_{\\phantom{-1}}} \n",
       " \\\\ \n",
       " \\begin{pmatrix}0&0&0\\\\0&0&0\\end{pmatrix}\n",
       " \\\\ \n",
       " { \\color{black}\\vert_{-1}} \n",
       " \n",
       " \\\\ \n",
       "{𝓞(0)}^{\\oplus2}\\end{array}$$"
      ]
     },
     "metadata": {},
     "output_type": "display_data"
    }
   ],
   "source": [
    "Show( ConvRep_C )"
   ]
  },
  {
   "cell_type": "code",
   "execution_count": 104,
   "metadata": {},
   "outputs": [
    {
     "data": {
      "text/plain": [
       "GAP: Conv( Rep( - ) ) => Id"
      ]
     },
     "execution_count": 104,
     "metadata": {},
     "output_type": "execute_result"
    }
   ],
   "source": [
    "ϵ = CounitOfConvolutionReplacementAdjunction( Ω )"
   ]
  },
  {
   "cell_type": "code",
   "execution_count": 105,
   "metadata": {},
   "outputs": [
    {
     "data": {
      "text/plain": [
       "GAP: <A morphism in \u001b[34mHomotopy^• category( \u001b[0m\u001b[33mQuiver rows( \u001b[0mend( 𝓞(0) ⊕ 𝓞(1) ⊕ 𝓞(2) )\u001b[33m )\u001b[0m\u001b[34m )\u001b[0m with active lower bound -1 and active upper bound 1>"
      ]
     },
     "execution_count": 105,
     "metadata": {},
     "output_type": "execute_result"
    }
   ],
   "source": [
    "ϵ_C = ϵ( C )"
   ]
  },
  {
   "cell_type": "code",
   "execution_count": 109,
   "metadata": {},
   "outputs": [
    {
     "data": {
      "text/latex": [
       "$$\\begin{array}{ccc}\n",
       " 0&-\\phantom{-}{0}\\phantom{-}\\rightarrow&0\n",
       " \\\\ \n",
       " \\uparrow_{\\phantom{1}}&& \n",
       " \\uparrow_{\\phantom{1}}\n",
       " \\\\ \n",
       " 0&&0\n",
       " \\\\ \n",
       " \\vert_{1} &&\\vert_{1} \n",
       " \\\\ \n",
       " {𝓞(1)}^{} \\oplus {𝓞(0)}^{\\oplus3}&-\\phantom{-}{\\begin{pmatrix}-{𝓞(1)}&0\\\\{x_1}&0\\\\{x_2}&0\\\\-\\frac{2}{3}{x_2}-\\frac{1}{3}{x_0}&0\\end{pmatrix}}\\phantom{-}\\rightarrow&{𝓞(1)}^{} \\oplus {𝓞(0)}^{}\n",
       " \\\\ \n",
       "  \\uparrow_{\\phantom{0}}&& \n",
       " \\uparrow_{\\phantom{0}}\n",
       " \\\\ \n",
       " \\begin{pmatrix}{x_0}&0&-2{𝓞(0)}&-3{𝓞(0)}\\\\{x_1}&{𝓞(0)}&0&0\\\\{x_2}&0&{𝓞(0)}&0\\end{pmatrix}&&\\begin{pmatrix}2{x_2}+{x_0}&3{𝓞(0)}\\\\0&0\\end{pmatrix}\n",
       " \\\\ \n",
       " \\vert_{0} &&\\vert_{0} \n",
       " \\\\ \n",
       " {𝓞(0)}^{\\oplus3}&-\\phantom{-}{\\begin{pmatrix}0&0\\\\0&0\\\\0&0\\end{pmatrix}}\\phantom{-}\\rightarrow&{𝓞(0)}^{} \\oplus {𝓞(2)}^{}\n",
       " \\\\ \n",
       "  \\uparrow_{\\phantom{-1}}&& \n",
       " \\uparrow_{\\phantom{-1}}\n",
       " \\\\ \n",
       " \\begin{pmatrix}0&0&0\\\\0&0&0\\end{pmatrix}&&\\begin{pmatrix}0&2{x_0y_1}+2{x_0y_0}\\\\0&2{x_1y_2}+2{x_0y_0}\\\\0&4{𝓞(2)}\\end{pmatrix}\n",
       " \\\\ \n",
       " \\vert_{-1} &&\\vert_{-1} \n",
       " \\\\ \n",
       " {𝓞(0)}^{\\oplus2}&-\\phantom{-}{\\begin{pmatrix}-2{𝓞(0)}&0&{x_0y_1}+{x_0y_0}\\\\0&-2{𝓞(0)}&{x_1y_2}+{x_0y_0}\\end{pmatrix}}\\phantom{-}\\rightarrow&{𝓞(0)}^{\\oplus2} \\oplus {𝓞(2)}^{}\n",
       " \\\\ \n",
       " \\end{array}$$"
      ]
     },
     "metadata": {},
     "output_type": "display_data"
    }
   ],
   "source": [
    "Show( ϵ_C )"
   ]
  },
  {
   "cell_type": "code",
   "execution_count": 110,
   "metadata": {},
   "outputs": [
    {
     "data": {
      "text/plain": [
       "true"
      ]
     },
     "execution_count": 110,
     "metadata": {},
     "output_type": "execute_result"
    }
   ],
   "source": [
    "IsIsomorphism( ϵ_C )"
   ]
  },
  {
   "cell_type": "code",
   "execution_count": 111,
   "metadata": {},
   "outputs": [
    {
     "data": {
      "text/plain": [
       "GAP: <A morphism in \u001b[34mHomotopy^• category( \u001b[0m\u001b[33mQuiver rows( \u001b[0mend( 𝓞(0) ⊕ 𝓞(1) ⊕ 𝓞(2) )\u001b[33m )\u001b[0m\u001b[34m )\u001b[0m with active lower bound -1 and active upper bound 1>"
      ]
     },
     "execution_count": 111,
     "metadata": {},
     "output_type": "execute_result"
    }
   ],
   "source": [
    "iϵ_C = InverseForMorphisms( ϵ_C )"
   ]
  },
  {
   "cell_type": "code",
   "execution_count": 113,
   "metadata": {},
   "outputs": [
    {
     "data": {
      "text/latex": [
       "$$\\begin{array}{ccc}\n",
       " 0&-\\phantom{-}{0}\\phantom{-}\\rightarrow&0\n",
       " \\\\ \n",
       " \\uparrow_{\\phantom{1}}&& \n",
       " \\uparrow_{\\phantom{1}}\n",
       " \\\\ \n",
       " 0&&0\n",
       " \\\\ \n",
       " \\vert_{1} &&\\vert_{1} \n",
       " \\\\ \n",
       " {𝓞(1)}^{} \\oplus {𝓞(0)}^{}&-\\phantom{-}{\\begin{pmatrix}-{𝓞(1)}&0&0&0\\\\\\frac{2}{3}{x_2}+\\frac{1}{3}{x_0}&0&0&0\\end{pmatrix}}\\phantom{-}\\rightarrow&{𝓞(1)}^{} \\oplus {𝓞(0)}^{\\oplus3}\n",
       " \\\\ \n",
       "  \\uparrow_{\\phantom{0}}&& \n",
       " \\uparrow_{\\phantom{0}}\n",
       " \\\\ \n",
       " \\begin{pmatrix}2{x_2}+{x_0}&3{𝓞(0)}\\\\0&0\\end{pmatrix}&&\\begin{pmatrix}{x_0}&0&-2{𝓞(0)}&-3{𝓞(0)}\\\\{x_1}&{𝓞(0)}&0&0\\\\{x_2}&0&{𝓞(0)}&0\\end{pmatrix}\n",
       " \\\\ \n",
       " \\vert_{0} &&\\vert_{0} \n",
       " \\\\ \n",
       " {𝓞(0)}^{} \\oplus {𝓞(2)}^{}&-\\phantom{-}{\\begin{pmatrix}0&0&0\\\\0&0&0\\end{pmatrix}}\\phantom{-}\\rightarrow&{𝓞(0)}^{\\oplus3}\n",
       " \\\\ \n",
       "  \\uparrow_{\\phantom{-1}}&& \n",
       " \\uparrow_{\\phantom{-1}}\n",
       " \\\\ \n",
       " \\begin{pmatrix}0&2{x_0y_1}+2{x_0y_0}\\\\0&2{x_1y_2}+2{x_0y_0}\\\\0&4{𝓞(2)}\\end{pmatrix}&&\\begin{pmatrix}0&0&0\\\\0&0&0\\end{pmatrix}\n",
       " \\\\ \n",
       " \\vert_{-1} &&\\vert_{-1} \n",
       " \\\\ \n",
       " {𝓞(0)}^{\\oplus2} \\oplus {𝓞(2)}^{}&-\\phantom{-}{\\begin{pmatrix}-\\frac{1}{2}{𝓞(0)}&0\\\\0&-\\frac{1}{2}{𝓞(0)}\\\\0&0\\end{pmatrix}}\\phantom{-}\\rightarrow&{𝓞(0)}^{\\oplus2}\n",
       " \\\\ \n",
       " \\end{array}$$"
      ]
     },
     "metadata": {},
     "output_type": "display_data"
    }
   ],
   "source": [
    "Show( iϵ_C )"
   ]
  },
  {
   "cell_type": "markdown",
   "metadata": {},
   "source": [
    "---\n",
    "Construct the equivalence\n",
    "\n",
    "$$\n",
    "  I: \\mathrm{K}^\\mathrm{b}\\!\\left((\\operatorname{End}\\, T_\\mathcal{\\Omega})_\\mathrm{oid}^\\oplus \\right) \\to \\mathrm{D}^\\mathrm{b}(\\mathrm{End}\\, T_\\mathcal{\\Omega}) \\mbox{.}\n",
    "$$\n"
   ]
  },
  {
   "cell_type": "code",
   "execution_count": 135,
   "metadata": {},
   "outputs": [
    {
     "data": {
      "text/plain": [
       "GAP: Composition of Composition of Composition of Replacement functor and Extension of ( Extension of Isomorphism functor from exceptional collection onto algebroid to additive closures ) to homotopy categories and Extension of ( Yoneda embedding ) to homotopy categories and Composition of Extension of ( The inclusion functor ) to homotopy categories and Localization functor in derived category"
      ]
     },
     "execution_count": 135,
     "metadata": {},
     "output_type": "execute_result"
    }
   ],
   "source": [
    "𝕀 = PreCompose( [ Rep, Abs, 𝕐, 𝕃 ] )"
   ]
  },
  {
   "cell_type": "code",
   "execution_count": 136,
   "metadata": {
    "scrolled": true
   },
   "outputs": [
    {
     "name": "stdout",
     "output_type": "stream",
     "text": [
      "Composition of Composition of Composition of Replacement functor and Extension of ( Extension of Isomorphism functor from exceptional collection onto algebroid to additive closures ) to homotopy categories and Extension of ( Yoneda embedding ) to homotopy categories and Composition of Extension of ( The inclusion functor ) to homotopy categories and Localization functor in derived category\u001b[1m\u001b[31m:\u001b[0m\n",
      "\n",
      "\u001b[34mHomotopy^• category( \u001b[0m\u001b[33mQuiver rows( \u001b[0mend( 𝓞(0) ⊕ 𝓞(1) ⊕ 𝓞(2) )\u001b[33m )\u001b[0m\u001b[34m )\u001b[0m\n",
      "\u001b[1m\u001b[31m  |\n",
      "  V\u001b[0m\n",
      "\u001b[35mDerived^• category(\u001b[0m The category of functors: \u001b[34mAlgebroid( \u001b[0mend( Ω^0(0) ⊕ Ω^1(1) ⊕ Ω^2(2) )^op\u001b[34m )\u001b[0m -> Category of matrices over Q \u001b[35m)\u001b[0m\n"
     ]
    }
   ],
   "source": [
    "Display( 𝕀 )"
   ]
  },
  {
   "cell_type": "markdown",
   "metadata": {},
   "source": [
    "---\n",
    "Compute the images of $G(\\mathcal{O}(i)) \\in \\mathrm{K}^\\mathrm{b}\\!\\left((\\operatorname{End}\\, T_\\Omega)^\\mathrm{dec}_\\oplus \\right)$ in the derived catgeory $\\mathrm{D}^\\mathrm{b}(\\mathrm{End}\\, T_\\Omega)$. All of them turn out to lie in the Abelian heart of the latter:"
   ]
  },
  {
   "cell_type": "code",
   "execution_count": 137,
   "metadata": {},
   "outputs": [
    {
     "data": {
      "text/plain": [
       "GAP: <An object in \u001b[35mDerived^• category(\u001b[0m The category of functors: \u001b[34mAlgebroid( \u001b[0mend( Ω^0(0) ⊕ Ω^1(1) ⊕ Ω^2(2) )^op\u001b[34m )\u001b[0m -> Category of matrices over Q \u001b[35m)\u001b[0m with active lower bound 0 and active upper bound 0>"
      ]
     },
     "execution_count": 137,
     "metadata": {},
     "output_type": "execute_result"
    }
   ],
   "source": [
    "𝕀_𝓞0 = 𝕀( 𝓞0 )"
   ]
  },
  {
   "cell_type": "code",
   "execution_count": 138,
   "metadata": {},
   "outputs": [
    {
     "data": {
      "text/plain": [
       "GAP: [ 0 ]"
      ]
     },
     "execution_count": 138,
     "metadata": {},
     "output_type": "execute_result"
    }
   ],
   "source": [
    "CohomologySupport( 𝕀_𝓞0 )"
   ]
  },
  {
   "cell_type": "markdown",
   "metadata": {},
   "source": [
    "---\n",
    "This homology is concentrated in degree $0$ and hence isomorphic to the image $J( G ( \\mathcal{O}(0) ) )$ in $\\mathrm{D}^\\mathrm{b}(\\mathrm{End}\\, T_\\Omega)$.\n",
    "It is, as an object in $(\\mathrm{End}\\, T_\\Omega)\\mathrm{-mod}$ represented by a functor $((\\operatorname{End}\\, T_\\Omega)^\\mathrm{dec})^\\mathrm{op} \\rightarrow \\mathbb{Q}\\mathrm{-vec}$:"
   ]
  },
  {
   "cell_type": "code",
   "execution_count": 139,
   "metadata": {},
   "outputs": [
    {
     "data": {
      "text/plain": [
       "GAP: <(Ω^0(0))->3, (Ω^1(1))->3, (Ω^2(2))->1; (m1_2_1)->3x3, (m1_2_2)->3x3, (m1_2_3)->3x3, (m2_3_1)->1x3, (m2_3_2)->1x3, (m2_3_3)->1x3>"
      ]
     },
     "execution_count": 139,
     "metadata": {},
     "output_type": "execute_result"
    }
   ],
   "source": [
    "H0_𝕀_𝓞0 = CohomologyAt( 𝕀_𝓞0, 0 )"
   ]
  },
  {
   "cell_type": "code",
   "execution_count": 143,
   "metadata": {},
   "outputs": [
    {
     "data": {
      "text/latex": [
       "$$\\begin{array}{ccc}\n",
       " \\Omega^0(0) & \\mapsto & {\\mathbb{Q}}^{1\\times 3} \\\\ \\Omega^1(1) & \\mapsto & {\\mathbb{Q}}^{1\\times 3} \\\\ \\Omega^2(2) & \\mapsto & {\\mathbb{Q}}^{1\\times 1} \\\\ \\hline & & \\\\{m_{1,2}^{1}} & \\mapsto & \\left( \\begin{array}{rrr}\n",
       " \\cdot & \\cdot & \\cdot \\\\ \n",
       " -1 & \\cdot & \\cdot \\\\ \n",
       " \\cdot & -1 & \\cdot \n",
       "\\end{array} \\right) \\\\ & & \\\\{m_{1,2}^{2}} & \\mapsto & \\left( \\begin{array}{rrr}\n",
       " 1 & \\cdot & \\cdot \\\\ \n",
       " \\cdot & \\cdot & \\cdot \\\\ \n",
       " \\cdot & \\cdot & -1 \n",
       "\\end{array} \\right) \\\\ & & \\\\{m_{1,2}^{3}} & \\mapsto & \\left( \\begin{array}{rrr}\n",
       " \\cdot & 1 & \\cdot \\\\ \n",
       " \\cdot & \\cdot & 1 \\\\ \n",
       " \\cdot & \\cdot & \\cdot \n",
       "\\end{array} \\right) \\\\ & & \\\\{m_{2,3}^{1}} & \\mapsto & \\left( \\begin{array}{rrr}\n",
       " 1 & \\cdot & \\cdot \n",
       "\\end{array} \\right) \\\\ & & \\\\{m_{2,3}^{2}} & \\mapsto & \\left( \\begin{array}{rrr}\n",
       " \\cdot & 1 & \\cdot \n",
       "\\end{array} \\right) \\\\ & & \\\\{m_{2,3}^{3}} & \\mapsto & \\left( \\begin{array}{rrr}\n",
       " \\cdot & \\cdot & 1 \n",
       "\\end{array} \\right) \\\\ & & \\\\\\end{array}$$"
      ]
     },
     "metadata": {},
     "output_type": "display_data"
    }
   ],
   "source": [
    "Show( H0_𝕀_𝓞0 )"
   ]
  },
  {
   "cell_type": "code",
   "execution_count": 145,
   "metadata": {},
   "outputs": [
    {
     "data": {
      "text/plain": [
       "GAP: <An object in \u001b[35mDerived^• category(\u001b[0m The category of functors: \u001b[34mAlgebroid( \u001b[0mend( Ω^0(0) ⊕ Ω^1(1) ⊕ Ω^2(2) )^op\u001b[34m )\u001b[0m -> Category of matrices over Q \u001b[35m)\u001b[0m with active lower bound -1 and active upper bound 0>"
      ]
     },
     "execution_count": 145,
     "metadata": {},
     "output_type": "execute_result"
    }
   ],
   "source": [
    "𝕀_𝓞1 = 𝕀( 𝓞1 )"
   ]
  },
  {
   "cell_type": "code",
   "execution_count": 146,
   "metadata": {},
   "outputs": [
    {
     "data": {
      "text/plain": [
       "GAP: [ 0 ]"
      ]
     },
     "execution_count": 146,
     "metadata": {},
     "output_type": "execute_result"
    }
   ],
   "source": [
    "CohomologySupport( 𝕀_𝓞1 )"
   ]
  },
  {
   "cell_type": "code",
   "execution_count": 147,
   "metadata": {},
   "outputs": [
    {
     "data": {
      "text/plain": [
       "GAP: <(Ω^0(0))->6, (Ω^1(1))->8, (Ω^2(2))->3; (m1_2_1)->8x6, (m1_2_2)->8x6, (m1_2_3)->8x6, (m2_3_1)->3x8, (m2_3_2)->3x8, (m2_3_3)->3x8>"
      ]
     },
     "execution_count": 147,
     "metadata": {},
     "output_type": "execute_result"
    }
   ],
   "source": [
    "H0_𝕀_𝓞1 = CohomologyAt( 𝕀_𝓞1, 0 )"
   ]
  },
  {
   "cell_type": "code",
   "execution_count": 150,
   "metadata": {},
   "outputs": [
    {
     "data": {
      "text/latex": [
       "$$\\begin{array}{ccc}\n",
       " \\Omega^0(0) & \\mapsto & {\\mathbb{Q}}^{1\\times 6} \\\\ \\Omega^1(1) & \\mapsto & {\\mathbb{Q}}^{1\\times 8} \\\\ \\Omega^2(2) & \\mapsto & {\\mathbb{Q}}^{1\\times 3} \\\\ \\hline & & \\\\{m_{1,2}^{1}} & \\mapsto & \\left( \\begin{array}{rrrrrr}\n",
       " \\cdot & \\cdot & \\cdot & \\cdot & \\cdot & -1 \\\\ \n",
       " \\cdot & \\cdot & 1 & \\cdot & \\cdot & \\cdot \\\\ \n",
       " \\cdot & \\cdot & \\cdot & \\cdot & \\cdot & \\cdot \\\\ \n",
       " \\cdot & \\cdot & \\cdot & \\cdot & 1 & \\cdot \\\\ \n",
       " \\cdot & -1 & \\cdot & \\cdot & \\cdot & \\cdot \\\\ \n",
       " \\cdot & \\cdot & \\cdot & \\cdot & \\cdot & \\cdot \\\\ \n",
       " \\cdot & \\cdot & \\cdot & -1 & \\cdot & \\cdot \\\\ \n",
       " \\cdot & \\cdot & \\cdot & \\cdot & -1 & \\cdot \n",
       "\\end{array} \\right) \\\\ & & \\\\{m_{1,2}^{2}} & \\mapsto & \\left( \\begin{array}{rrrrrr}\n",
       " \\cdot & \\cdot & \\cdot & \\cdot & \\cdot & \\cdot \\\\ \n",
       " -1 & \\cdot & \\cdot & \\cdot & \\cdot & \\cdot \\\\ \n",
       " \\cdot & \\cdot & \\cdot & \\cdot & -1 & \\cdot \\\\ \n",
       " \\cdot & \\cdot & \\cdot & \\cdot & \\cdot & \\cdot \\\\ \n",
       " \\cdot & \\cdot & -1 & \\cdot & \\cdot & \\cdot \\\\ \n",
       " \\cdot & \\cdot & \\cdot & 1 & \\cdot & \\cdot \\\\ \n",
       " \\cdot & \\cdot & \\cdot & \\cdot & \\cdot & \\cdot \\\\ \n",
       " \\cdot & \\cdot & \\cdot & \\cdot & \\cdot & -1 \n",
       "\\end{array} \\right) \\\\ & & \\\\{m_{1,2}^{3}} & \\mapsto & \\left( \\begin{array}{rrrrrr}\n",
       " 1 & \\cdot & \\cdot & \\cdot & \\cdot & \\cdot \\\\ \n",
       " \\cdot & \\cdot & \\cdot & \\cdot & \\cdot & \\cdot \\\\ \n",
       " \\cdot & 1 & \\cdot & \\cdot & \\cdot & \\cdot \\\\ \n",
       " \\cdot & \\cdot & 1 & \\cdot & \\cdot & \\cdot \\\\ \n",
       " \\cdot & \\cdot & \\cdot & \\cdot & \\cdot & \\cdot \\\\ \n",
       " \\cdot & \\cdot & \\cdot & \\cdot & 1 & \\cdot \\\\ \n",
       " \\cdot & \\cdot & \\cdot & \\cdot & \\cdot & 1 \\\\ \n",
       " \\cdot & \\cdot & \\cdot & \\cdot & \\cdot & \\cdot \n",
       "\\end{array} \\right) \\\\ & & \\\\{m_{2,3}^{1}} & \\mapsto & \\left( \\begin{array}{rrrrrrrr}\n",
       " \\cdot & \\cdot & \\cdot & -1 & \\cdot & \\cdot & \\cdot & -1 \\\\ \n",
       " \\cdot & \\cdot & 1 & \\cdot & \\cdot & \\cdot & \\cdot & \\cdot \\\\ \n",
       " \\cdot & \\cdot & \\cdot & \\cdot & \\cdot & 1 & \\cdot & \\cdot \n",
       "\\end{array} \\right) \\\\ & & \\\\{m_{2,3}^{2}} & \\mapsto & \\left( \\begin{array}{rrrrrrrr}\n",
       " 1 & \\cdot & \\cdot & \\cdot & \\cdot & \\cdot & \\cdot & \\cdot \\\\ \n",
       " \\cdot & \\cdot & \\cdot & 1 & \\cdot & \\cdot & \\cdot & \\cdot \\\\ \n",
       " \\cdot & \\cdot & \\cdot & \\cdot & \\cdot & \\cdot & 1 & \\cdot \n",
       "\\end{array} \\right) \\\\ & & \\\\{m_{2,3}^{3}} & \\mapsto & \\left( \\begin{array}{rrrrrrrr}\n",
       " \\cdot & 1 & \\cdot & \\cdot & \\cdot & \\cdot & \\cdot & \\cdot \\\\ \n",
       " \\cdot & \\cdot & \\cdot & \\cdot & 1 & \\cdot & \\cdot & \\cdot \\\\ \n",
       " \\cdot & \\cdot & \\cdot & \\cdot & \\cdot & \\cdot & \\cdot & 1 \n",
       "\\end{array} \\right) \\\\ & & \\\\\\end{array}$$"
      ]
     },
     "metadata": {},
     "output_type": "display_data"
    }
   ],
   "source": [
    "Show( H0_𝕀_𝓞1 )"
   ]
  },
  {
   "cell_type": "code",
   "execution_count": 151,
   "metadata": {},
   "outputs": [
    {
     "data": {
      "text/plain": [
       "GAP: <An object in \u001b[35mDerived^• category(\u001b[0m The category of functors: \u001b[34mAlgebroid( \u001b[0mend( Ω^0(0) ⊕ Ω^1(1) ⊕ Ω^2(2) )^op\u001b[34m )\u001b[0m -> Category of matrices over Q \u001b[35m)\u001b[0m with active lower bound -2 and active upper bound 0>"
      ]
     },
     "execution_count": 151,
     "metadata": {},
     "output_type": "execute_result"
    }
   ],
   "source": [
    "𝕀_𝓞2 = 𝕀( 𝓞2 )"
   ]
  },
  {
   "cell_type": "code",
   "execution_count": 152,
   "metadata": {},
   "outputs": [
    {
     "data": {
      "text/plain": [
       "GAP: [ 0 ]"
      ]
     },
     "execution_count": 152,
     "metadata": {},
     "output_type": "execute_result"
    }
   ],
   "source": [
    "CohomologySupport( 𝕀_𝓞2 )"
   ]
  },
  {
   "cell_type": "code",
   "execution_count": 153,
   "metadata": {},
   "outputs": [
    {
     "data": {
      "text/plain": [
       "GAP: <(Ω^0(0))->10, (Ω^1(1))->15, (Ω^2(2))->6; (m1_2_1)->15x10, (m1_2_2)->15x10, (m1_2_3)->15x10, (m2_3_1)->6x15, (m2_3_2)->6x15, (m2_3_3)->6x15>"
      ]
     },
     "execution_count": 153,
     "metadata": {},
     "output_type": "execute_result"
    }
   ],
   "source": [
    "H0_𝕀_𝓞2 = CohomologyAt( 𝕀_𝓞2, 0 )"
   ]
  },
  {
   "cell_type": "code",
   "execution_count": 157,
   "metadata": {},
   "outputs": [
    {
     "name": "stdout",
     "output_type": "stream",
     "text": [
      "An object in The category of functors: \u001b[34mAlgebroid( \u001b[0mend( Ω^0(0) ⊕ Ω^1(1) ⊕ Ω^2(2) )^op\u001b[34m )\u001b[0m -> Category of matrices over Q defined by the following data:\n",
      "\n",
      "\n",
      "Image of <(Ω^0(0))>:\n",
      "A vector space object over Q of dimension 10\n",
      "\n",
      "Image of <(Ω^1(1))>:\n",
      "A vector space object over Q of dimension 15\n",
      "\n",
      "Image of <(Ω^2(2))>:\n",
      "A vector space object over Q of dimension 6\n",
      "\n",
      "Image of (Ω^1(1))-[{ 1*(m1_2_1) }]->(Ω^0(0)):\n",
      "[ [   0,   0,  -1,   0,   0,   0,   0,   0,   0,   0 ],\n",
      "  [   0,   1,   0,   0,   0,   0,   0,   0,   0,   0 ],\n",
      "  [   0,   0,   0,   0,   0,   0,  -1,   0,   0,   0 ],\n",
      "  [   0,   0,   0,   0,   1,   0,   0,   0,   0,   0 ],\n",
      "  [   0,   0,   0,   0,   0,   0,   0,   0,   0,  -1 ],\n",
      "  [   0,   0,   0,   0,   0,   0,   1,   0,   0,   0 ],\n",
      "  [   0,   0,   0,   0,   0,   0,   0,   0,   0,   0 ],\n",
      "  [   0,   0,   0,   0,   0,   1,   0,   0,   0,   0 ],\n",
      "  [   0,   0,   0,  -1,   0,   0,   0,   0,   0,   0 ],\n",
      "  [   0,   0,   0,   0,   0,   0,   0,   0,   0,   0 ],\n",
      "  [   0,   0,   0,   0,   0,   0,   0,   0,   1,   0 ],\n",
      "  [   0,   0,   0,   0,   0,  -1,   0,   0,   0,   0 ],\n",
      "  [   0,   0,   0,   0,   0,   0,   0,   0,   0,   0 ],\n",
      "  [   0,   0,   0,   0,   0,   0,   0,  -1,   0,   0 ],\n",
      "  [   0,   0,   0,   0,   0,   0,   0,   0,  -1,   0 ] ]\n",
      "\n",
      "A morphism in Category of matrices over Q\n",
      "\n",
      "\n",
      "Image of (Ω^1(1))-[{ 1*(m1_2_2) }]->(Ω^0(0)):\n",
      "[ [   0,   0,   0,   0,   0,   0,   0,   0,   0,   0 ],\n",
      "  [  -1,   0,   0,   0,   0,   0,   0,   0,   0,   0 ],\n",
      "  [   0,   0,   0,   0,   0,   0,   0,   0,   0,   0 ],\n",
      "  [   0,  -1,   0,   0,   0,   0,   0,   0,   0,   0 ],\n",
      "  [   0,   0,   0,   0,   0,   0,   0,   0,   0,   0 ],\n",
      "  [   0,   0,  -1,   0,   0,   0,   0,   0,   0,   0 ],\n",
      "  [   0,   0,   0,   0,   0,  -1,   0,   0,   0,   0 ],\n",
      "  [   0,   0,   0,   0,   0,   0,   0,   0,   0,   0 ],\n",
      "  [   0,   0,   0,   0,  -1,   0,   0,   0,   0,   0 ],\n",
      "  [   0,   0,   0,   0,   0,   0,   0,   0,  -1,   0 ],\n",
      "  [   0,   0,   0,   0,   0,   0,   0,   0,   0,   0 ],\n",
      "  [   0,   0,   0,   0,   0,   0,  -1,   0,   0,   0 ],\n",
      "  [   0,   0,   0,   0,   0,   0,   0,   1,   0,   0 ],\n",
      "  [   0,   0,   0,   0,   0,   0,   0,   0,   0,   0 ],\n",
      "  [   0,   0,   0,   0,   0,   0,   0,   0,   0,  -1 ] ]\n",
      "\n",
      "A morphism in Category of matrices over Q\n",
      "\n",
      "\n",
      "Image of (Ω^1(1))-[{ 1*(m1_2_3) }]->(Ω^0(0)):\n",
      "[ [  1,  0,  0,  0,  0,  0,  0,  0,  0,  0 ],\n",
      "  [  0,  0,  0,  0,  0,  0,  0,  0,  0,  0 ],\n",
      "  [  0,  1,  0,  0,  0,  0,  0,  0,  0,  0 ],\n",
      "  [  0,  0,  0,  0,  0,  0,  0,  0,  0,  0 ],\n",
      "  [  0,  0,  1,  0,  0,  0,  0,  0,  0,  0 ],\n",
      "  [  0,  0,  0,  0,  0,  0,  0,  0,  0,  0 ],\n",
      "  [  0,  0,  0,  1,  0,  0,  0,  0,  0,  0 ],\n",
      "  [  0,  0,  0,  0,  1,  0,  0,  0,  0,  0 ],\n",
      "  [  0,  0,  0,  0,  0,  0,  0,  0,  0,  0 ],\n",
      "  [  0,  0,  0,  0,  0,  1,  0,  0,  0,  0 ],\n",
      "  [  0,  0,  0,  0,  0,  0,  1,  0,  0,  0 ],\n",
      "  [  0,  0,  0,  0,  0,  0,  0,  0,  0,  0 ],\n",
      "  [  0,  0,  0,  0,  0,  0,  0,  0,  1,  0 ],\n",
      "  [  0,  0,  0,  0,  0,  0,  0,  0,  0,  1 ],\n",
      "  [  0,  0,  0,  0,  0,  0,  0,  0,  0,  0 ] ]\n",
      "\n",
      "A morphism in Category of matrices over Q\n",
      "\n",
      "\n",
      "Image of (Ω^2(2))-[{ 1*(m2_3_1) }]->(Ω^1(1)):\n",
      "[ [   0,   0,  -1,   0,   0,  -1,   0,   0,   0,   0,   0,   0,   0,   0,   0 ],\n",
      "  [   0,   0,   0,   0,   0,   0,   0,  -1,   0,   0,   0,  -1,   0,   0,   0 ],\n",
      "  [   0,   0,   0,   0,   0,   0,   0,   0,   0,   0,  -1,   0,   0,   0,  -1 ],\n",
      "  [   0,   0,   0,   0,   0,   0,   1,   0,   0,   0,   0,   0,   0,   0,   0 ],\n",
      "  [   0,   0,   0,   0,   0,   0,   0,   0,   0,   1,   0,   0,   0,   0,   0 ],\n",
      "  [   0,   0,   0,   0,   0,   0,   0,   0,   0,   0,   0,   0,   1,   0,   0 ] ]\n",
      "\n",
      "A morphism in Category of matrices over Q\n",
      "\n",
      "\n",
      "Image of (Ω^2(2))-[{ 1*(m2_3_2) }]->(Ω^1(1)):\n",
      "[ [  1,  0,  0,  0,  0,  0,  0,  0,  0,  0,  0,  0,  0,  0,  0 ],\n",
      "  [  0,  0,  1,  0,  0,  0,  0,  0,  0,  0,  0,  0,  0,  0,  0 ],\n",
      "  [  0,  0,  0,  0,  1,  0,  0,  0,  0,  0,  0,  0,  0,  0,  0 ],\n",
      "  [  0,  0,  0,  0,  0,  0,  0,  1,  0,  0,  0,  0,  0,  0,  0 ],\n",
      "  [  0,  0,  0,  0,  0,  0,  0,  0,  0,  0,  1,  0,  0,  0,  0 ],\n",
      "  [  0,  0,  0,  0,  0,  0,  0,  0,  0,  0,  0,  0,  0,  1,  0 ] ]\n",
      "\n",
      "A morphism in Category of matrices over Q\n",
      "\n",
      "\n",
      "Image of (Ω^2(2))-[{ 1*(m2_3_3) }]->(Ω^1(1)):\n",
      "[ [  0,  1,  0,  0,  0,  0,  0,  0,  0,  0,  0,  0,  0,  0,  0 ],\n",
      "  [  0,  0,  0,  1,  0,  0,  0,  0,  0,  0,  0,  0,  0,  0,  0 ],\n",
      "  [  0,  0,  0,  0,  0,  1,  0,  0,  0,  0,  0,  0,  0,  0,  0 ],\n",
      "  [  0,  0,  0,  0,  0,  0,  0,  0,  1,  0,  0,  0,  0,  0,  0 ],\n",
      "  [  0,  0,  0,  0,  0,  0,  0,  0,  0,  0,  0,  1,  0,  0,  0 ],\n",
      "  [  0,  0,  0,  0,  0,  0,  0,  0,  0,  0,  0,  0,  0,  0,  1 ] ]\n",
      "\n",
      "A morphism in Category of matrices over Q\n"
     ]
    }
   ],
   "source": [
    "Display( H0_𝕀_𝓞2 )"
   ]
  },
  {
   "cell_type": "code",
   "execution_count": null,
   "metadata": {},
   "outputs": [],
   "source": []
  }
 ],
 "metadata": {
  "@webio": {
   "lastCommId": null,
   "lastKernelId": null
  },
  "kernelspec": {
   "display_name": "Julia 1.5.2",
   "language": "julia",
   "name": "julia-1.5"
  },
  "language_info": {
   "file_extension": ".jl",
   "mimetype": "application/julia",
   "name": "julia",
   "version": "1.5.2"
  }
 },
 "nbformat": 4,
 "nbformat_minor": 2
}
