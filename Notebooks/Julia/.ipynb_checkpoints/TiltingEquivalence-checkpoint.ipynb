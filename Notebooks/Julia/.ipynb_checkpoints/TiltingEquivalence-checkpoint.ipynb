{
 "cells": [
  {
   "cell_type": "markdown",
   "metadata": {},
   "source": [
    "<a href=\"https://mybinder.org/v2/gh/homalg-project/CapHomalgNotebooks/master?filepath=TiltingEquivalence.ipynb\" target=\"_top\"><img src=\"https://img.shields.io/badge/Launch%20homalg%E2%80%93project%20version%20interactively%20on-binder-579ACA.svg?logo=data:image/png;base64,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\" alt=\"binder\"></a>\n",
    "\n"
   ]
  },
  {
   "cell_type": "markdown",
   "metadata": {},
   "source": [
    "## Tilting equivalence\n",
    "\n",
    "Let $k$ be field of characteristic $0$ and $\\mathrm{D}^\\mathrm{b}(\\mathfrak{Coh}\\, \\mathbb{P}^2_k)$ denote the bounded derived category of coherent sheaves on $\\mathbb{P}^2_k$.\n",
    "\n",
    "Consider the full strong exceptional collection $\\{\\mathcal{O}(0), \\mathcal{O}(1), \\mathcal{O}(2)\\} \\subset \\mathfrak{Coh}\\, \\mathbb{P}^2_k$ of the three twisted line bundles with their tilting object\n",
    "$$\n",
    "  T_\\mathcal{O} := \\mathcal{O}(0) \\oplus \\mathcal{O}(1) \\oplus \\mathcal{O}(2) \\mbox{.}\n",
    "$$\n",
    "\n",
    "Consider the second full strong exceptional collection $\\{ \\Omega^0(0), \\Omega^1(1), \\Omega^2(2) = \\mathcal{O}(0)\\} \\subset \\mathfrak{Coh}\\, \\mathbb{P}^2_k$ of twisted contangent bundles with their tilting object\n",
    "$$\n",
    "  T_\\Omega := \\Omega^0(0) \\oplus \\Omega^1(1) \\oplus \\Omega^2(2) \\mbox{.}\n",
    "$$\n",
    "\n",
    "Then\n",
    "$$\n",
    "  \\mathrm{D}^\\mathrm{b}(\\mathfrak{Coh}\\, \\mathbb{P}^2_k) \\simeq \\mathrm{D}^\\mathrm{b}(\\mathrm{End}\\, T_\\Omega) \\simeq \\mathrm{D}^\\mathrm{b}(\\mathrm{End}\\, T_\\mathcal{O}) \\mbox{,}\n",
    "$$\n",
    "where for a finite dimensional $k$-algebra $A$ we denote by $\\mathrm{D}^\\mathrm{b}(A) := \\mathrm{D}^\\mathrm{b}(A\\mathrm{-mod})$ the bounded derived category of the Abelian category $A\\mathrm{-mod}$ of finite dimensional $A$-modules.\n",
    "\n",
    "\n",
    "In this notebook we will consider $T_\\Omega$ as a tilting object in $\\mathrm{D}^\\mathrm{b}(\\mathrm{End}\\, T_\\mathcal{O})$ and construct tilting equivalences\n",
    "$$\n",
    "  F: \\mathrm{D}^\\mathrm{b}(\\operatorname{End}\\, T_\\Omega) \\rightleftarrows \\mathrm{D}^\\mathrm{b}(\\operatorname{End}\\, T_\\mathcal{O}) : G \\mbox{.}\n",
    "$$\n",
    "\n",
    "For a finite dimensional algebra $A$ over a field $k$ we define its decomposition algebroid $A_\\mathrm{dec}$ as the $k$-linear full subcategory of $\\mbox{mod-}A$ consisting of the summands of a direct sum decomposition of $A$ in indecomposables, which are necessarily projective right $A$-modules. The additive closure $A_\\mathrm{dec}^\\oplus$ of the algebroid $A_\\mathrm{dec}$ is then the closure of $A$ (considered as a linear category on one object) under direct sums and direct summands (in $\\mbox{mod-}A$). One recovers $A$ as the direct sum of the $\\mathrm{Hom}$-groups of $A_\\mathrm{dec}$. If $A_\\mathrm{sdec}$ is a skeleton of $A_\\mathrm{dec}$, then the direct sum of $\\mathrm{Hom}$-groups of $A_\\mathrm{sdec}$ is the basic algebra which is Morita-equivalent to $A$.\n",
    "\n",
    "The category $A_{\\mathrm{dec}}^{\\oplus} \\simeq A_{\\mathrm{sdec}}^{\\oplus}$ is a model for the additive full subcategory of projective objects in $\\mbox{mod-}A$, where the second model is skeletal.\n",
    "\n",
    "We model $\\mbox{mod-}A$ as the functor category $[A, k\\mbox{-vec}]$, where $A$ is viewed as an algebroid with one object and the precomposition of two morphisms $r\\bullet s$ is simply their product $rs$; and $k\\mbox{-vec}$ is the (skeletal) Abelian category of finite dimensional $k$-vector spaces. This is equivalent to the category of representations of the quiver underlying the algebroid $(A^\\mathrm{op})^\\mathrm{dec} \\simeq (A^\\mathrm{dec})^\\mathrm{op}$. The identification of $A^\\mathrm{dec}$ with the $k$-linear full subcategory of indecomposable projective objects in the Abelian category $A\\mathrm{-mod} := [A^\\mathrm{op}, k\\mathrm{-vec}] \\simeq [(A^\\mathrm{op})^\\mathrm{dec}, k\\mathrm{-vec}] \\simeq [(A^\\mathrm{dec})^\\mathrm{op}, k\\mathrm{-vec}]$ is then nothing but Yoneda's embedding. This embedding factors over the embedding $A^\\mathrm{dec}_\\oplus \\hookrightarrow [(A^\\mathrm{dec})^\\mathrm{op}, k\\mathrm{-vec}] \\simeq A\\mathrm{-mod}$.\n",
    "\n",
    "We model the bounded derived category $\\mathrm{D}^\\mathrm{b}(A)$ by the bounded homotopy category $\\mathrm{Ho}^\\mathrm{b}\\!\\left(A^\\mathrm{dec}_\\oplus\\right)$."
   ]
  },
  {
   "cell_type": "code",
   "execution_count": 119,
   "metadata": {},
   "outputs": [],
   "source": [
    "using CapAndHomalg"
   ]
  },
  {
   "cell_type": "markdown",
   "metadata": {},
   "source": [
    "---\n",
    "We start by loading the GAP package `DerivedCategories` and some of the presetting which will give us the colorful output below:"
   ]
  },
  {
   "cell_type": "code",
   "execution_count": 120,
   "metadata": {},
   "outputs": [],
   "source": [
    "LoadPackage( \"DerivedCategories\" )"
   ]
  },
  {
   "cell_type": "code",
   "execution_count": 121,
   "metadata": {},
   "outputs": [
    {
     "data": {
      "text/plain": [
       "GAP: [ \"GradedRingForHomalg\", \"MatricesForHomalg\", \"FreydCategoriesForCAP\", \"Algebroids\", \"RingsForHomalg\", \"ModulePresentationsForCAP\", \"GradedModulePresentationsForCAP\", \"LinearAlgebraForCAP\", \"FunctorCategories\", \"CategoryConstructor\", \"SubcategoriesForCAP\" ]"
      ]
     },
     "execution_count": 121,
     "metadata": {},
     "output_type": "execute_result"
    }
   ],
   "source": [
    "SetSpecialSettings( )\n",
    "EnhanceAllPackages( )"
   ]
  },
  {
   "cell_type": "markdown",
   "metadata": {},
   "source": [
    "---\n",
    "Define the field of rationals over which our categories will be linear:"
   ]
  },
  {
   "cell_type": "code",
   "execution_count": 122,
   "metadata": {
    "scrolled": true
   },
   "outputs": [
    {
     "data": {
      "text/plain": [
       "GAP: Q"
      ]
     },
     "execution_count": 122,
     "metadata": {},
     "output_type": "execute_result"
    }
   ],
   "source": [
    "ℚ = HomalgFieldOfRationals()"
   ]
  },
  {
   "cell_type": "markdown",
   "metadata": {},
   "source": [
    " "
   ]
  },
  {
   "cell_type": "markdown",
   "metadata": {},
   "source": [
    "---\n",
    "Next we define the quiver:"
   ]
  },
  {
   "cell_type": "code",
   "execution_count": 123,
   "metadata": {},
   "outputs": [
    {
     "data": {
      "text/plain": [
       "GAP: q_𝓞(𝓞(0),𝓞(1),𝓞(2))[x0:𝓞(0)->𝓞(1),x1:𝓞(0)->𝓞(1),x2:𝓞(0)->𝓞(1),y0:𝓞(1)->𝓞(2),y1:𝓞(1)->𝓞(2),y2:𝓞(1)->𝓞(2)]"
      ]
     },
     "execution_count": 123,
     "metadata": {},
     "output_type": "execute_result"
    }
   ],
   "source": [
    "q = RightQuiver( \"q_𝓞\",\n",
    "          [ \"𝓞(0)\", \"𝓞(1)\", \"𝓞(2)\" ],\n",
    "          [ \"x0\", \"x1\", \"x2\", \"y0\", \"y1\", \"y2\" ],\n",
    "          [ 1, 1, 1, 2, 2, 2 ],\n",
    "          [ 2, 2, 2, 3, 3, 3 ] )"
   ]
  },
  {
   "cell_type": "code",
   "execution_count": 124,
   "metadata": {},
   "outputs": [],
   "source": [
    "SetLabelsAsLaTeXStrings( q, [ \"x_0\", \"x_1\", \"x_2\", \"y_0\", \"y_1\", \"y_2\" ] )"
   ]
  },
  {
   "cell_type": "code",
   "execution_count": 125,
   "metadata": {},
   "outputs": [
    {
     "data": {
      "text/plain": [
       "GAP: Q * q_𝓞"
      ]
     },
     "execution_count": 125,
     "metadata": {},
     "output_type": "execute_result"
    }
   ],
   "source": [
    "ℚq = PathAlgebra( ℚ, q )"
   ]
  },
  {
   "cell_type": "code",
   "execution_count": 126,
   "metadata": {},
   "outputs": [
    {
     "data": {
      "text/plain": [
       "GAP: (Q * q_𝓞) / [ -1*(x1*y0) + 1*(x0*y1), -1*(x2*y0) + 1*(x0*y2), -1*(x2*y1) + 1*(x1*y2) ]"
      ]
     },
     "execution_count": 126,
     "metadata": {},
     "output_type": "execute_result"
    }
   ],
   "source": [
    "endT_𝓞 = ℚq / [ ℚq.x0*ℚq.y1-ℚq.x1*ℚq.y0, ℚq.x0*ℚq.y2-ℚq.x2*ℚq.y0, ℚq.x1*ℚq.y2-ℚq.x2*ℚq.y1 ]"
   ]
  },
  {
   "cell_type": "code",
   "execution_count": 127,
   "metadata": {},
   "outputs": [
    {
     "data": {
      "text/plain": [
       "GAP: end( 𝓞(0) ⊕ 𝓞(1) ⊕ 𝓞(2) )"
      ]
     },
     "execution_count": 127,
     "metadata": {},
     "output_type": "execute_result"
    }
   ],
   "source": [
    "SetName( endT_𝓞, g\"end( 𝓞(0) ⊕ 𝓞(1) ⊕ 𝓞(2) )\" ); endT_𝓞"
   ]
  },
  {
   "cell_type": "code",
   "execution_count": 128,
   "metadata": {},
   "outputs": [
    {
     "data": {
      "text/plain": [
       "15"
      ]
     },
     "execution_count": 128,
     "metadata": {},
     "output_type": "execute_result"
    }
   ],
   "source": [
    "Dimension( endT_𝓞 )"
   ]
  },
  {
   "cell_type": "markdown",
   "metadata": {},
   "source": [
    "  "
   ]
  },
  {
   "cell_type": "markdown",
   "metadata": {},
   "source": [
    "---\n",
    "Define the opposite algebra, mainly to set its name: "
   ]
  },
  {
   "cell_type": "code",
   "execution_count": 129,
   "metadata": {},
   "outputs": [
    {
     "data": {
      "text/plain": [
       "GAP: end( 𝓞(0) ⊕ 𝓞(1) ⊕ 𝓞(2) )^op"
      ]
     },
     "execution_count": 129,
     "metadata": {},
     "output_type": "execute_result"
    }
   ],
   "source": [
    "endT_𝓞op = OppositeAlgebra( endT_𝓞 ); SetName( endT_𝓞op, g\"end( 𝓞(0) ⊕ 𝓞(1) ⊕ 𝓞(2) )^op\" ); endT_𝓞op"
   ]
  },
  {
   "cell_type": "markdown",
   "metadata": {},
   "source": [
    "Define the additive closure $\\mathrm{end}(T_\\mathcal{O})_{\\mathrm{oid}}^\\oplus$ of the endomorphism algebroid $\\mathrm{end}(T_\\mathcal{O})_{\\mathrm{oid}}$:"
   ]
  },
  {
   "cell_type": "code",
   "execution_count": 130,
   "metadata": {},
   "outputs": [
    {
     "data": {
      "text/plain": [
       "GAP: \u001b[33mQuiver rows( \u001b[0mend( 𝓞(0) ⊕ 𝓞(1) ⊕ 𝓞(2) )\u001b[33m )\u001b[0m"
      ]
     },
     "execution_count": 130,
     "metadata": {},
     "output_type": "execute_result"
    }
   ],
   "source": [
    "endT_𝓞_rows = QuiverRows( endT_𝓞 )"
   ]
  },
  {
   "cell_type": "markdown",
   "metadata": {},
   "source": [
    " "
   ]
  },
  {
   "cell_type": "markdown",
   "metadata": {},
   "source": [
    "Define the collection $\\{\\Omega^0(0), \\Omega^1(1), \\Omega^2(2)\\}$ as a full strong exceptional collection in the bounded homotopy category \n",
    "\n",
    "$$K^b\\left(\\mathrm{end}(T_\\mathcal{O})_{\\mathrm{oid}}^\\oplus\\right) \\simeq D^b(\\mbox{mod-}\\operatorname{end}(T_\\mathcal{O})^{\\mathrm{op}})$$"
   ]
  },
  {
   "cell_type": "code",
   "execution_count": 131,
   "metadata": {},
   "outputs": [
    {
     "data": {
      "text/plain": [
       "GAP: \u001b[32mHomotopy^• category( \u001b[0m\u001b[33mQuiver rows( \u001b[0mend( 𝓞(0) ⊕ 𝓞(1) ⊕ 𝓞(2) )\u001b[33m )\u001b[0m\u001b[32m )\u001b[0m"
      ]
     },
     "execution_count": 131,
     "metadata": {},
     "output_type": "execute_result"
    }
   ],
   "source": [
    "K_endT_𝓞_rows = HomotopyCategoryByCochains( endT_𝓞_rows )"
   ]
  },
  {
   "cell_type": "code",
   "execution_count": 132,
   "metadata": {},
   "outputs": [
    {
     "data": {
      "text/plain": [
       "GAP: <An object in \u001b[33mQuiver rows( \u001b[0mend( 𝓞(0) ⊕ 𝓞(1) ⊕ 𝓞(2) )\u001b[33m )\u001b[0m defined by 3 quiver vertices>"
      ]
     },
     "execution_count": 132,
     "metadata": {},
     "output_type": "execute_result"
    }
   ],
   "source": [
    "Ω00_0 = QuiverRowsObject( [ [ q.\"𝓞(0)\", 3 ] ], endT_𝓞_rows )"
   ]
  },
  {
   "cell_type": "code",
   "execution_count": 133,
   "metadata": {},
   "outputs": [
    {
     "data": {
      "text/latex": [
       "$${𝓞(0)}^{\\oplus3}$$"
      ]
     },
     "metadata": {},
     "output_type": "display_data"
    }
   ],
   "source": [
    "Show( Ω00_0 )"
   ]
  },
  {
   "cell_type": "code",
   "execution_count": 134,
   "metadata": {},
   "outputs": [
    {
     "data": {
      "text/plain": [
       "GAP: <An object in \u001b[33mQuiver rows( \u001b[0mend( 𝓞(0) ⊕ 𝓞(1) ⊕ 𝓞(2) )\u001b[33m )\u001b[0m defined by 3 quiver vertices>"
      ]
     },
     "execution_count": 134,
     "metadata": {},
     "output_type": "execute_result"
    }
   ],
   "source": [
    "Ω00_1 = QuiverRowsObject( [ [ q.\"𝓞(1)\", 3 ] ], endT_𝓞_rows )"
   ]
  },
  {
   "cell_type": "code",
   "execution_count": 135,
   "metadata": {},
   "outputs": [
    {
     "data": {
      "text/latex": [
       "$${𝓞(1)}^{\\oplus3}$$"
      ]
     },
     "metadata": {},
     "output_type": "display_data"
    }
   ],
   "source": [
    "Show( Ω00_1 )"
   ]
  },
  {
   "cell_type": "code",
   "execution_count": 136,
   "metadata": {},
   "outputs": [
    {
     "data": {
      "text/plain": [
       "GAP: <An object in \u001b[33mQuiver rows( \u001b[0mend( 𝓞(0) ⊕ 𝓞(1) ⊕ 𝓞(2) )\u001b[33m )\u001b[0m defined by 1 quiver vertices>"
      ]
     },
     "execution_count": 136,
     "metadata": {},
     "output_type": "execute_result"
    }
   ],
   "source": [
    "Ω00_2 = QuiverRowsObject( [ [ q.\"𝓞(2)\", 1 ] ], endT_𝓞_rows )"
   ]
  },
  {
   "cell_type": "code",
   "execution_count": 137,
   "metadata": {},
   "outputs": [
    {
     "data": {
      "text/latex": [
       "$${𝓞(2)}^{}$$"
      ]
     },
     "metadata": {},
     "output_type": "display_data"
    }
   ],
   "source": [
    "Show( Ω00_2 )"
   ]
  },
  {
   "cell_type": "code",
   "execution_count": 138,
   "metadata": {},
   "outputs": [
    {
     "data": {
      "text/plain": [
       "GAP: <A morphism in \u001b[33mQuiver rows( \u001b[0mend( 𝓞(0) ⊕ 𝓞(1) ⊕ 𝓞(2) )\u001b[33m )\u001b[0m defined by a 3 x 3 matrix of quiver algebra elements>"
      ]
     },
     "execution_count": 138,
     "metadata": {},
     "output_type": "execute_result"
    }
   ],
   "source": [
    "d_0 = QuiverRowsMorphism(\n",
    "          Ω00_0,\n",
    "          [ [ endT_𝓞.x1, -endT_𝓞.x0, Zero(endT_𝓞) ],\n",
    "            [ endT_𝓞.x2, Zero(endT_𝓞), -endT_𝓞.x0 ],\n",
    "            [ Zero(endT_𝓞), endT_𝓞.x2, -endT_𝓞.x1 ] ],\n",
    "          Ω00_1 )"
   ]
  },
  {
   "cell_type": "code",
   "execution_count": 139,
   "metadata": {},
   "outputs": [
    {
     "data": {
      "text/plain": [
       "true"
      ]
     },
     "execution_count": 139,
     "metadata": {},
     "output_type": "execute_result"
    }
   ],
   "source": [
    "IsWellDefined( d_0 )"
   ]
  },
  {
   "cell_type": "code",
   "execution_count": 140,
   "metadata": {},
   "outputs": [
    {
     "data": {
      "text/latex": [
       "$${𝓞(0)}^{\\oplus3}\\xrightarrow{\\begin{pmatrix}{x_1}&-{x_0}&0\\\\{x_2}&0&-{x_0}\\\\0&{x_2}&-{x_1}\\end{pmatrix}}{𝓞(1)}^{\\oplus3}$$"
      ]
     },
     "metadata": {},
     "output_type": "display_data"
    }
   ],
   "source": [
    "Show( d_0 )"
   ]
  },
  {
   "cell_type": "code",
   "execution_count": 141,
   "metadata": {},
   "outputs": [
    {
     "data": {
      "text/plain": [
       "GAP: <A morphism in \u001b[33mQuiver rows( \u001b[0mend( 𝓞(0) ⊕ 𝓞(1) ⊕ 𝓞(2) )\u001b[33m )\u001b[0m defined by a 3 x 1 matrix of quiver algebra elements>"
      ]
     },
     "execution_count": 141,
     "metadata": {},
     "output_type": "execute_result"
    }
   ],
   "source": [
    "d_1 = QuiverRowsMorphism(\n",
    "          Ω00_1,\n",
    "          [ [ endT_𝓞.y0 ],\n",
    "            [ endT_𝓞.y1 ],\n",
    "            [ endT_𝓞.y2 ] ],\n",
    "          Ω00_2 )"
   ]
  },
  {
   "cell_type": "code",
   "execution_count": 142,
   "metadata": {},
   "outputs": [
    {
     "data": {
      "text/plain": [
       "true"
      ]
     },
     "execution_count": 142,
     "metadata": {},
     "output_type": "execute_result"
    }
   ],
   "source": [
    "IsWellDefined( d_1 )"
   ]
  },
  {
   "cell_type": "code",
   "execution_count": 143,
   "metadata": {},
   "outputs": [
    {
     "data": {
      "text/latex": [
       "$${𝓞(1)}^{\\oplus3}\\xrightarrow{\\begin{pmatrix}{y_0}\\\\{y_1}\\\\{y_2}\\end{pmatrix}}{𝓞(2)}^{}$$"
      ]
     },
     "metadata": {},
     "output_type": "display_data"
    }
   ],
   "source": [
    "Show( d_1 )"
   ]
  },
  {
   "cell_type": "code",
   "execution_count": 144,
   "metadata": {},
   "outputs": [
    {
     "data": {
      "text/plain": [
       "GAP: \u001b[32mHomotopy^• category( \u001b[0m\u001b[33mQuiver rows( \u001b[0mend( 𝓞(0) ⊕ 𝓞(1) ⊕ 𝓞(2) )\u001b[33m )\u001b[0m\u001b[32m )\u001b[0m"
      ]
     },
     "execution_count": 144,
     "metadata": {},
     "output_type": "execute_result"
    }
   ],
   "source": [
    "K_endT_𝓞_rows"
   ]
  },
  {
   "cell_type": "code",
   "execution_count": 145,
   "metadata": {},
   "outputs": [
    {
     "data": {
      "text/plain": [
       "GAP: <An object in \u001b[32mHomotopy^• category( \u001b[0m\u001b[33mQuiver rows( \u001b[0mend( 𝓞(0) ⊕ 𝓞(1) ⊕ 𝓞(2) )\u001b[33m )\u001b[0m\u001b[32m )\u001b[0m with active lower bound 0 and active upper bound 2>"
      ]
     },
     "execution_count": 145,
     "metadata": {},
     "output_type": "execute_result"
    }
   ],
   "source": [
    "Ω00 = HomotopyCategoryObject( K_endT_𝓞_rows, [ d_0, d_1 ], 0 )"
   ]
  },
  {
   "cell_type": "code",
   "execution_count": 146,
   "metadata": {},
   "outputs": [
    {
     "data": {
      "text/plain": [
       "true"
      ]
     },
     "execution_count": 146,
     "metadata": {},
     "output_type": "execute_result"
    }
   ],
   "source": [
    "IsWellDefined( Ω00 )"
   ]
  },
  {
   "cell_type": "code",
   "execution_count": 147,
   "metadata": {},
   "outputs": [
    {
     "data": {
      "text/latex": [
       "$$\\begin{array}{c}\n",
       " {𝓞(2)}^{}\n",
       " \\\\ \n",
       " { \\color{black}\\uparrow_{\\phantom{1}}} \n",
       " \\\\ \n",
       " \\begin{pmatrix}{y_0}\\\\{y_1}\\\\{y_2}\\end{pmatrix}\n",
       " \\\\ \n",
       " { \\color{black}\\vert_{1}} \n",
       " \n",
       " \\\\ \n",
       "{𝓞(1)}^{\\oplus3}\\\\ \n",
       " { \\color{black}\\uparrow_{\\phantom{0}}} \n",
       " \\\\ \n",
       " \\begin{pmatrix}{x_1}&-{x_0}&0\\\\{x_2}&0&-{x_0}\\\\0&{x_2}&-{x_1}\\end{pmatrix}\n",
       " \\\\ \n",
       " { \\color{black}\\vert_{0}} \n",
       " \n",
       " \\\\ \n",
       "{𝓞(0)}^{\\oplus3}\\end{array}$$"
      ]
     },
     "metadata": {},
     "output_type": "display_data"
    }
   ],
   "source": [
    "Show( Ω00 )"
   ]
  },
  {
   "cell_type": "code",
   "execution_count": 148,
   "metadata": {},
   "outputs": [
    {
     "data": {
      "text/plain": [
       "GAP: <An object in \u001b[33mQuiver rows( \u001b[0mend( 𝓞(0) ⊕ 𝓞(1) ⊕ 𝓞(2) )\u001b[33m )\u001b[0m defined by 3 quiver vertices>"
      ]
     },
     "execution_count": 148,
     "metadata": {},
     "output_type": "execute_result"
    }
   ],
   "source": [
    "Ω11_0 = QuiverRowsObject( [ [ q.\"𝓞(0)\", 3 ] ], endT_𝓞_rows )"
   ]
  },
  {
   "cell_type": "code",
   "execution_count": 149,
   "metadata": {},
   "outputs": [
    {
     "data": {
      "text/plain": [
       "GAP: <An object in \u001b[33mQuiver rows( \u001b[0mend( 𝓞(0) ⊕ 𝓞(1) ⊕ 𝓞(2) )\u001b[33m )\u001b[0m defined by 1 quiver vertices>"
      ]
     },
     "execution_count": 149,
     "metadata": {},
     "output_type": "execute_result"
    }
   ],
   "source": [
    "Ω11_1 = QuiverRowsObject( [ [ q.\"𝓞(1)\", 1 ] ], endT_𝓞_rows )"
   ]
  },
  {
   "cell_type": "code",
   "execution_count": 150,
   "metadata": {},
   "outputs": [
    {
     "data": {
      "text/plain": [
       "GAP: <A morphism in \u001b[33mQuiver rows( \u001b[0mend( 𝓞(0) ⊕ 𝓞(1) ⊕ 𝓞(2) )\u001b[33m )\u001b[0m defined by a 3 x 1 matrix of quiver algebra elements>"
      ]
     },
     "execution_count": 150,
     "metadata": {},
     "output_type": "execute_result"
    }
   ],
   "source": [
    "d_0 = QuiverRowsMorphism(\n",
    "          Ω11_0,\n",
    "          [ [ endT_𝓞.x0 ],\n",
    "            [ endT_𝓞.x1 ],\n",
    "            [ endT_𝓞.x2 ] ],\n",
    "          Ω11_1 )"
   ]
  },
  {
   "cell_type": "code",
   "execution_count": 151,
   "metadata": {},
   "outputs": [
    {
     "data": {
      "text/plain": [
       "GAP: <An object in \u001b[32mHomotopy^• category( \u001b[0m\u001b[33mQuiver rows( \u001b[0mend( 𝓞(0) ⊕ 𝓞(1) ⊕ 𝓞(2) )\u001b[33m )\u001b[0m\u001b[32m )\u001b[0m with active lower bound 0 and active upper bound 1>"
      ]
     },
     "execution_count": 151,
     "metadata": {},
     "output_type": "execute_result"
    }
   ],
   "source": [
    "Ω11 = HomotopyCategoryObject( K_endT_𝓞_rows, [ d_0 ], 0 )"
   ]
  },
  {
   "cell_type": "code",
   "execution_count": 152,
   "metadata": {},
   "outputs": [
    {
     "data": {
      "text/latex": [
       "$$\\begin{array}{c}\n",
       " {𝓞(1)}^{}\n",
       " \\\\ \n",
       " { \\color{black}\\uparrow_{\\phantom{0}}} \n",
       " \\\\ \n",
       " \\begin{pmatrix}{x_0}\\\\{x_1}\\\\{x_2}\\end{pmatrix}\n",
       " \\\\ \n",
       " { \\color{black}\\vert_{0}} \n",
       " \n",
       " \\\\ \n",
       "{𝓞(0)}^{\\oplus3}\\end{array}$$"
      ]
     },
     "metadata": {},
     "output_type": "display_data"
    }
   ],
   "source": [
    "Show( Ω11 )"
   ]
  },
  {
   "cell_type": "code",
   "execution_count": 153,
   "metadata": {},
   "outputs": [
    {
     "data": {
      "text/plain": [
       "GAP: <An object in \u001b[33mQuiver rows( \u001b[0mend( 𝓞(0) ⊕ 𝓞(1) ⊕ 𝓞(2) )\u001b[33m )\u001b[0m defined by 1 quiver vertices>"
      ]
     },
     "execution_count": 153,
     "metadata": {},
     "output_type": "execute_result"
    }
   ],
   "source": [
    "Ω22_0 = QuiverRowsObject( [ [ q.\"𝓞(0)\", 1 ] ], endT_𝓞_rows )"
   ]
  },
  {
   "cell_type": "code",
   "execution_count": 154,
   "metadata": {},
   "outputs": [
    {
     "data": {
      "text/latex": [
       "$${𝓞(0)}^{}$$"
      ]
     },
     "metadata": {},
     "output_type": "display_data"
    }
   ],
   "source": [
    "Show( Ω22_0 )"
   ]
  },
  {
   "cell_type": "code",
   "execution_count": 155,
   "metadata": {},
   "outputs": [
    {
     "data": {
      "text/plain": [
       "GAP: <An object in \u001b[32mHomotopy^• category( \u001b[0m\u001b[33mQuiver rows( \u001b[0mend( 𝓞(0) ⊕ 𝓞(1) ⊕ 𝓞(2) )\u001b[33m )\u001b[0m\u001b[32m )\u001b[0m with active lower bound 0 and active upper bound 0>"
      ]
     },
     "execution_count": 155,
     "metadata": {},
     "output_type": "execute_result"
    }
   ],
   "source": [
    "Ω22 = Ω22_0 / K_endT_𝓞_rows"
   ]
  },
  {
   "cell_type": "code",
   "execution_count": 156,
   "metadata": {},
   "outputs": [
    {
     "data": {
      "text/latex": [
       "$$\\begin{array}{c}\n",
       " {𝓞(0)}^{}\n",
       " \\end{array}$$"
      ]
     },
     "metadata": {},
     "output_type": "display_data"
    }
   ],
   "source": [
    "Show( Ω22 )"
   ]
  },
  {
   "cell_type": "code",
   "execution_count": 157,
   "metadata": {},
   "outputs": [
    {
     "data": {
      "text/plain": [
       "GAP: <An exceptional collection defined by the objects of the Full subcategory generated by 3 objects in \u001b[32mHomotopy^• category( \u001b[0m\u001b[33mQuiver rows( \u001b[0mend( 𝓞(0) ⊕ 𝓞(1) ⊕ 𝓞(2) )\u001b[33m )\u001b[0m\u001b[32m )\u001b[0m>"
      ]
     },
     "execution_count": 157,
     "metadata": {},
     "output_type": "execute_result"
    }
   ],
   "source": [
    "Ω = CreateStrongExceptionalCollection(\n",
    "            [  Ω00,   Ω11,   Ω22 ],\n",
    "            [ \"Ω^0(0)\", \"Ω^1(1)\", \"Ω^2(2)\" ],\n",
    "            [ \"\\\\Omega^0(0)\", \"\\\\Omega^1(1)\", \"\\\\Omega^2(2)\" ]\n",
    "    )"
   ]
  },
  {
   "cell_type": "code",
   "execution_count": 158,
   "metadata": {},
   "outputs": [
    {
     "data": {
      "text/plain": [
       "GAP: End( Ω^0(0) ⊕ Ω^1(1) ⊕ Ω^2(2) )"
      ]
     },
     "execution_count": 158,
     "metadata": {},
     "output_type": "execute_result"
    }
   ],
   "source": [
    "endT_Ω = EndomorphismAlgebra( Ω )"
   ]
  },
  {
   "cell_type": "code",
   "execution_count": 159,
   "metadata": {},
   "outputs": [
    {
     "data": {
      "text/plain": [
       "12"
      ]
     },
     "execution_count": 159,
     "metadata": {},
     "output_type": "execute_result"
    }
   ],
   "source": [
    "Dimension( endT_Ω )"
   ]
  },
  {
   "cell_type": "code",
   "execution_count": 160,
   "metadata": {},
   "outputs": [
    {
     "data": {
      "text/plain": [
       "GAP: quiver(Ω^0(0),Ω^1(1),Ω^2(2))[m1_2_1:Ω^0(0)->Ω^1(1),m1_2_2:Ω^0(0)->Ω^1(1),m1_2_3:Ω^0(0)->Ω^1(1),m2_3_1:Ω^1(1)->Ω^2(2),m2_3_2:Ω^1(1)->Ω^2(2),m2_3_3:Ω^1(1)->Ω^2(2)]"
      ]
     },
     "execution_count": 160,
     "metadata": {},
     "output_type": "execute_result"
    }
   ],
   "source": [
    "q_endT_Ω = QuiverOfAlgebra( endT_Ω )"
   ]
  },
  {
   "cell_type": "code",
   "execution_count": 161,
   "metadata": {},
   "outputs": [
    {
     "data": {
      "text/plain": [
       "GAP: [ 1*(m1_2_1*m2_3_1), 1*(m1_2_2*m2_3_1) + 1*(m1_2_1*m2_3_2), 1*(m1_2_2*m2_3_2), 1*(m1_2_3*m2_3_1) + 1*(m1_2_1*m2_3_3), 1*(m1_2_3*m2_3_2) + 1*(m1_2_2*m2_3_3), 1*(m1_2_3*m2_3_3) ]"
      ]
     },
     "execution_count": 161,
     "metadata": {},
     "output_type": "execute_result"
    }
   ],
   "source": [
    "RelationsOfAlgebra( endT_Ω )"
   ]
  },
  {
   "cell_type": "code",
   "execution_count": 162,
   "metadata": {},
   "outputs": [
    {
     "data": {
      "text/plain": [
       "false"
      ]
     },
     "execution_count": 162,
     "metadata": {},
     "output_type": "execute_result"
    }
   ],
   "source": [
    "GlobalDimensionOfAlgebra( endT_Ω, 1 )"
   ]
  },
  {
   "cell_type": "code",
   "execution_count": 163,
   "metadata": {},
   "outputs": [
    {
     "data": {
      "text/plain": [
       "2"
      ]
     },
     "execution_count": 163,
     "metadata": {},
     "output_type": "execute_result"
    }
   ],
   "source": [
    "GlobalDimensionOfAlgebra( endT_Ω, 2 )"
   ]
  },
  {
   "cell_type": "code",
   "execution_count": 164,
   "metadata": {},
   "outputs": [
    {
     "data": {
      "text/plain": [
       "GAP: \u001b[34mAlgebroid(\u001b[0m End( Ω^0(0) ⊕ Ω^1(1) ⊕ Ω^2(2) ) \u001b[34m)\u001b[0m"
      ]
     },
     "execution_count": 164,
     "metadata": {},
     "output_type": "execute_result"
    }
   ],
   "source": [
    "endT_Ω_oid = Algebroid( Ω )"
   ]
  },
  {
   "cell_type": "code",
   "execution_count": 257,
   "metadata": {},
   "outputs": [
    {
     "data": {
      "text/plain": [
       "GAP: Isomorphism functor from exceptional collection onto algebroid"
      ]
     },
     "execution_count": 257,
     "metadata": {},
     "output_type": "execute_result"
    }
   ],
   "source": [
    "Abs = IsomorphismOntoAlgebroid( Ω )"
   ]
  },
  {
   "cell_type": "code",
   "execution_count": 258,
   "metadata": {},
   "outputs": [
    {
     "data": {
      "text/plain": [
       "GAP: Isomorphism functor from algebroid onto exceptional collection"
      ]
     },
     "execution_count": 258,
     "metadata": {},
     "output_type": "execute_result"
    }
   ],
   "source": [
    "Rel = IsomorphismFromAlgebroid( Ω )"
   ]
  },
  {
   "cell_type": "code",
   "execution_count": 259,
   "metadata": {},
   "outputs": [
    {
     "data": {
      "text/plain": [
       "GAP: (Ω^0(0))-[{ 1*(m1_2_2) }]->(Ω^1(1))"
      ]
     },
     "execution_count": 259,
     "metadata": {},
     "output_type": "execute_result"
    }
   ],
   "source": [
    "m = endT_Ω_oid.\"m1_2_2\""
   ]
  },
  {
   "cell_type": "code",
   "execution_count": 260,
   "metadata": {},
   "outputs": [
    {
     "data": {
      "text/latex": [
       "$${\\Omega^0(0)}-\\left({{m_{1,2}^{2}}}\\right)\\rightarrow{\\Omega^1(1)}$$"
      ]
     },
     "metadata": {},
     "output_type": "display_data"
    }
   ],
   "source": [
    "Show( m )"
   ]
  },
  {
   "cell_type": "code",
   "execution_count": 261,
   "metadata": {},
   "outputs": [
    {
     "data": {
      "text/plain": [
       "GAP: A morphism in full subcategory given by: <A morphism in \u001b[32mHomotopy^• category( \u001b[0m\u001b[33mQuiver rows( \u001b[0mend( 𝓞(0) ⊕ 𝓞(1) ⊕ 𝓞(2) )\u001b[33m )\u001b[0m\u001b[32m )\u001b[0m with active lower bound 0 and active upper bound 1>"
      ]
     },
     "execution_count": 261,
     "metadata": {},
     "output_type": "execute_result"
    }
   ],
   "source": [
    "Rel_m = Rel( m )"
   ]
  },
  {
   "cell_type": "code",
   "execution_count": 262,
   "metadata": {},
   "outputs": [
    {
     "ename": "LoadError",
     "evalue": "\u001b[91mError thrown by GAP: Error, no method found! For debugging hints type ?Recovery from NoMethodFound\u001b[39m\n\u001b[91mError, no 2nd choice method found for `Show' on 1 arguments at /home/kamal/.julia/artifacts/58582b7ec32af134aa4365459b9f929fa66b2087/share/gap/lib/methsel2.g:249 called from\u001b[39m\n\u001b[91mJUMP_TO_CATCH( 0 ); at /home/kamal/.julia/artifacts/58582b7ec32af134aa4365459b9f929fa66b2087/share/gap/lib/error.g:318 called from\u001b[39m\n\u001b[91mErrorInner( rec(\u001b[39m\n\u001b[91mcontext := ParentLVars( GetCurrentLVars(  ) ),\u001b[39m\n\u001b[91mmayReturnVoid := false,\u001b[39m\n\u001b[91mmayReturnObj := false,\u001b[39m\n\u001b[91mlateMessage := \"type 'quit;' to quit to outer loop\",\u001b[39m\n\u001b[91mprintThisStatement := false ), arg ); at /home/kamal/.julia/artifacts/58582b7ec32af134aa4365459b9f929fa66b2087/share/gap/lib/error.g:409 called from\u001b[39m\n\u001b[91mErrorNoReturn( no_method_found ); at /home/kamal/.julia/artifacts/58582b7ec32af134aa4365459b9f929fa66b2087/share/gap/lib/methsel2.g:249 called from\u001b[39m\n\u001b[91mCallFuncList( FunctorObjectOperation( functor ), arguments ) at /home/kamal/.gap/pkg/CAP_project/CAP/gap/CategoriesCategory.gi:463 called from\u001b[39m\n\u001b[91mCallFuncList( ApplyFunctor, Concatenation( [ functor ], source_list ) ) at /home/kamal/.gap/pkg/CAP_project/CAP/gap/CategoriesCategory.gi:499 called from\u001b[39m\n\u001b[91m...  at *stdin*:1\u001b[39m\n",
     "output_type": "error",
     "traceback": [
      "\u001b[91mError thrown by GAP: Error, no method found! For debugging hints type ?Recovery from NoMethodFound\u001b[39m\n\u001b[91mError, no 2nd choice method found for `Show' on 1 arguments at /home/kamal/.julia/artifacts/58582b7ec32af134aa4365459b9f929fa66b2087/share/gap/lib/methsel2.g:249 called from\u001b[39m\n\u001b[91mJUMP_TO_CATCH( 0 ); at /home/kamal/.julia/artifacts/58582b7ec32af134aa4365459b9f929fa66b2087/share/gap/lib/error.g:318 called from\u001b[39m\n\u001b[91mErrorInner( rec(\u001b[39m\n\u001b[91mcontext := ParentLVars( GetCurrentLVars(  ) ),\u001b[39m\n\u001b[91mmayReturnVoid := false,\u001b[39m\n\u001b[91mmayReturnObj := false,\u001b[39m\n\u001b[91mlateMessage := \"type 'quit;' to quit to outer loop\",\u001b[39m\n\u001b[91mprintThisStatement := false ), arg ); at /home/kamal/.julia/artifacts/58582b7ec32af134aa4365459b9f929fa66b2087/share/gap/lib/error.g:409 called from\u001b[39m\n\u001b[91mErrorNoReturn( no_method_found ); at /home/kamal/.julia/artifacts/58582b7ec32af134aa4365459b9f929fa66b2087/share/gap/lib/methsel2.g:249 called from\u001b[39m\n\u001b[91mCallFuncList( FunctorObjectOperation( functor ), arguments ) at /home/kamal/.gap/pkg/CAP_project/CAP/gap/CategoriesCategory.gi:463 called from\u001b[39m\n\u001b[91mCallFuncList( ApplyFunctor, Concatenation( [ functor ], source_list ) ) at /home/kamal/.gap/pkg/CAP_project/CAP/gap/CategoriesCategory.gi:499 called from\u001b[39m\n\u001b[91m...  at *stdin*:1\u001b[39m\n",
      "",
      "Stacktrace:",
      " [1] error(::String, ::String) at ./error.jl:42",
      " [2] error_handler() at /home/kamal/.julia/packages/GAP/Gc53G/src/GAP.jl:45",
      " [3] #invokelatest#1 at ./essentials.jl:710 [inlined]",
      " [4] invokelatest at ./essentials.jl:709 [inlined]",
      " [5] error_handlerwrap() at /home/kamal/.julia/packages/GAP/Gc53G/src/GAP.jl:49",
      " [6] _call_gap_func(::GAP_jll.MPtr, ::GAP_jll.MPtr) at /home/kamal/.julia/packages/GAP/Gc53G/src/ccalls.jl:237",
      " [7] call_gap_func_nokw at /home/kamal/.julia/packages/GAP/Gc53G/src/ccalls.jl:204 [inlined]",
      " [8] (::GAP_jll.MPtr)(::GAP_jll.MPtr) at /home/kamal/.julia/packages/GAP/Gc53G/src/ccalls.jl:214",
      " [9] top-level scope at In[262]:1",
      " [10] include_string(::Function, ::Module, ::String, ::String) at ./loading.jl:1091"
     ]
    }
   ],
   "source": [
    "Show( Rel_m )"
   ]
  },
  {
   "cell_type": "code",
   "execution_count": 171,
   "metadata": {},
   "outputs": [
    {
     "data": {
      "text/plain": [
       "true"
      ]
     },
     "execution_count": 171,
     "metadata": {},
     "output_type": "execute_result"
    }
   ],
   "source": [
    "IsZero( PreCompose( Rel( endT_Ω_oid.\"m1_2_2\" ), Rel( endT_Ω_oid.\"m2_3_2\" ) ) )"
   ]
  },
  {
   "cell_type": "markdown",
   "metadata": {},
   "source": [
    "By using the Yoneda embedding and the fact that $\\mathrm{end}(T_\\Omega)$ has finite global dimension, we can compute the following equivalences:\n",
    "\n",
    "$$K^b(\\Omega^\\oplus)\\simeq K^b(\\mathrm{end}(T_\\Omega)_{\\mathrm{oid}}^\\oplus)\\simeq K^b(\\mathrm{proj}(\\mbox{mod-}\\mathrm{end}(T_\\Omega)_{\\mathrm{oid}}^{\\mathrm{op}}))\\simeq D^b(\\mbox{mod-}\\mathrm{end}(T_\\Omega)_{\\mathrm{oid}}^{\\mathrm{op}})$$\n"
   ]
  },
  {
   "cell_type": "code",
   "execution_count": 172,
   "metadata": {},
   "outputs": [
    {
     "data": {
      "text/plain": [
       "GAP: \u001b[35mHomotopy^• category( \u001b[0mAdditive closure( Full subcategory generated by 3 objects in \u001b[32mHomotopy^• category( \u001b[0m\u001b[33mQuiver rows( \u001b[0mend( 𝓞(0) ⊕ 𝓞(1) ⊕ 𝓞(2) )\u001b[33m )\u001b[0m\u001b[32m )\u001b[0m )\u001b[35m )\u001b[0m"
      ]
     },
     "execution_count": 172,
     "metadata": {},
     "output_type": "execute_result"
    }
   ],
   "source": [
    "Ω_plus = AdditiveClosure( Ω );\n",
    "K_Ω_plus = HomotopyCategoryByCochains( Ω_plus )"
   ]
  },
  {
   "cell_type": "code",
   "execution_count": 173,
   "metadata": {},
   "outputs": [
    {
     "data": {
      "text/plain": [
       "GAP: \u001b[33mHomotopy^• category( \u001b[0mAdditive closure( \u001b[34mAlgebroid(\u001b[0m End( Ω^0(0) ⊕ Ω^1(1) ⊕ Ω^2(2) ) \u001b[34m)\u001b[0m )\u001b[33m )\u001b[0m"
      ]
     },
     "execution_count": 173,
     "metadata": {},
     "output_type": "execute_result"
    }
   ],
   "source": [
    "endT_Ω_oid_plus = AdditiveClosure( endT_Ω_oid );\n",
    "K_endT_Ω_oid_plus = HomotopyCategoryByCochains( endT_Ω_oid_plus )"
   ]
  },
  {
   "cell_type": "code",
   "execution_count": 174,
   "metadata": {},
   "outputs": [
    {
     "data": {
      "text/plain": [
       "GAP: \u001b[32mHomotopy^• category( \u001b[0m\u001b[33mFull additive subcategory generated by projective objects( \u001b[0mThe category of functors: \u001b[34mAlgebroid( \u001b[0mEnd( Ω^0(0) ⊕ Ω^1(1) ⊕ Ω^2(2) )^op\u001b[34m )\u001b[0m -> Category of matrices over Q\u001b[33m )\u001b[0m\u001b[32m )\u001b[0m"
      ]
     },
     "execution_count": 174,
     "metadata": {},
     "output_type": "execute_result"
    }
   ],
   "source": [
    "endT_Ω_oid_op = OppositeAlgebroidOverOppositeQuiverAlgebra( endT_Ω_oid )\n",
    "mod_endT_Ω_oid_op = Hom( endT_Ω_oid_op, MatrixCategory( ℚ ) )\n",
    "projs = FullSubcategoryGeneratedByProjectiveObjects( mod_endT_Ω_oid_op )\n",
    "K_projs = HomotopyCategoryByCochains( projs )"
   ]
  },
  {
   "cell_type": "code",
   "execution_count": 175,
   "metadata": {},
   "outputs": [
    {
     "data": {
      "text/plain": [
       "GAP: \u001b[35mDerived^• category(\u001b[0m The category of functors: \u001b[34mAlgebroid( \u001b[0mEnd( Ω^0(0) ⊕ Ω^1(1) ⊕ Ω^2(2) )^op\u001b[34m )\u001b[0m -> Category of matrices over Q \u001b[35m)\u001b[0m"
      ]
     },
     "execution_count": 175,
     "metadata": {},
     "output_type": "execute_result"
    }
   ],
   "source": [
    "K_mod_endT_Ω_oid_op = HomotopyCategoryByCochains( mod_endT_Ω_oid_op )\n",
    "D_mod_endT_Ω_oid_op = DerivedCategoryByCochains( mod_endT_Ω_oid_op )"
   ]
  },
  {
   "cell_type": "code",
   "execution_count": 176,
   "metadata": {},
   "outputs": [
    {
     "name": "stdout",
     "output_type": "stream",
     "text": [
      "1: Apply ExtendFunctorToHomotopyCategoriesByCochains on ( Apply ExtendFunctorToAdditiveClosures on ( Abstraction isomorphism ) )\n"
     ]
    }
   ],
   "source": [
    "KnownFunctors( K_Ω_plus, K_endT_Ω_oid_plus )"
   ]
  },
  {
   "cell_type": "code",
   "execution_count": 177,
   "metadata": {},
   "outputs": [
    {
     "data": {
      "text/plain": [
       "GAP: Extension of ( Extension of Isomorphism functor from exceptional collection onto algebroid to additive closures ) to homotopy categories"
      ]
     },
     "execution_count": 177,
     "metadata": {},
     "output_type": "execute_result"
    }
   ],
   "source": [
    "Abs = Functor( K_Ω_plus, K_endT_Ω_oid_plus, 1 )"
   ]
  },
  {
   "cell_type": "code",
   "execution_count": 178,
   "metadata": {},
   "outputs": [
    {
     "name": "stdout",
     "output_type": "stream",
     "text": [
      "1: Apply ExtendFunctorToHomotopyCategoriesByCochains on ( Apply ExtendFunctorToAdditiveClosures on ( Relatization isomorphism ) )\n"
     ]
    }
   ],
   "source": [
    "KnownFunctors( K_endT_Ω_oid_plus, K_Ω_plus )"
   ]
  },
  {
   "cell_type": "code",
   "execution_count": 179,
   "metadata": {},
   "outputs": [
    {
     "data": {
      "text/plain": [
       "GAP: Extension of ( Extension of Isomorphism functor from algebroid onto exceptional collection to additive closures ) to homotopy categories"
      ]
     },
     "execution_count": 179,
     "metadata": {},
     "output_type": "execute_result"
    }
   ],
   "source": [
    "Rel = Functor( K_endT_Ω_oid_plus, K_Ω_plus, 1 )"
   ]
  },
  {
   "cell_type": "code",
   "execution_count": 180,
   "metadata": {},
   "outputs": [
    {
     "name": "stdout",
     "output_type": "stream",
     "text": [
      "1: Apply ExtendFunctorToHomotopyCategoriesByCochains on ( Yoneda embedding )\n"
     ]
    }
   ],
   "source": [
    "KnownFunctors( K_endT_Ω_oid_plus, K_projs )"
   ]
  },
  {
   "cell_type": "code",
   "execution_count": 181,
   "metadata": {},
   "outputs": [
    {
     "data": {
      "text/plain": [
       "GAP: Extension of ( Yoneda embedding ) to homotopy categories"
      ]
     },
     "execution_count": 181,
     "metadata": {},
     "output_type": "execute_result"
    }
   ],
   "source": [
    "𝕐 = Functor( K_endT_Ω_oid_plus, K_projs, 1 )"
   ]
  },
  {
   "cell_type": "code",
   "execution_count": 182,
   "metadata": {},
   "outputs": [
    {
     "name": "stdout",
     "output_type": "stream",
     "text": [
      "1: Apply ExtendFunctorToHomotopyCategoriesByCochains on ( Decomposition of projective objects )\n"
     ]
    }
   ],
   "source": [
    "KnownFunctors( K_projs, K_endT_Ω_oid_plus )"
   ]
  },
  {
   "cell_type": "code",
   "execution_count": 183,
   "metadata": {},
   "outputs": [
    {
     "data": {
      "text/plain": [
       "GAP: Extension of ( Decomposition of projective objects ) to homotopy categories"
      ]
     },
     "execution_count": 183,
     "metadata": {},
     "output_type": "execute_result"
    }
   ],
   "source": [
    "𝔻 = Functor( K_projs, K_endT_Ω_oid_plus, 1 )"
   ]
  },
  {
   "cell_type": "code",
   "execution_count": 184,
   "metadata": {},
   "outputs": [
    {
     "name": "stdout",
     "output_type": "stream",
     "text": [
      "1: PreComposition of the following two functors:\n",
      "     * Apply ExtendFunctorToHomotopyCategoriesByCochains on ( Inclusion functor )\n",
      "     * The natural localization functor\n"
     ]
    }
   ],
   "source": [
    "KnownFunctors( K_projs, D_mod_endT_Ω_oid_op )"
   ]
  },
  {
   "cell_type": "code",
   "execution_count": 185,
   "metadata": {},
   "outputs": [
    {
     "data": {
      "text/plain": [
       "GAP: Composition of Extension of ( The inclusion functor from \u001b[33mFull additive subcategory generated by projective objects( \u001b[0mThe category of functors: \u001b[34mAlgebroid( \u001b[0mEnd( Ω^0(0) ⊕ Ω^1(1) ⊕ Ω^2(2) )^op\u001b[34m )\u001b[0m -> Category of matrices over Q\u001b[33m )\u001b[0m in The category of functors: \u001b[34mAlgebroid( \u001b[0mEnd( Ω^0(0) ⊕ Ω^1(1) ⊕ Ω^2(2) )^op\u001b[34m )\u001b[0m -> Category of matrices over Q ) to homotopy categories and Localization functor in derived category"
      ]
     },
     "execution_count": 185,
     "metadata": {},
     "output_type": "execute_result"
    }
   ],
   "source": [
    "𝕃 = Functor( K_projs, D_mod_endT_Ω_oid_op, 1 )"
   ]
  },
  {
   "cell_type": "code",
   "execution_count": 186,
   "metadata": {},
   "outputs": [
    {
     "name": "stdout",
     "output_type": "stream",
     "text": [
      "1: Universal functor from derived category\n"
     ]
    }
   ],
   "source": [
    "KnownFunctors( D_mod_endT_Ω_oid_op, K_projs )"
   ]
  },
  {
   "cell_type": "code",
   "execution_count": 187,
   "metadata": {},
   "outputs": [
    {
     "data": {
      "text/plain": [
       "GAP: Universal functor from derived category onto a localization category"
      ]
     },
     "execution_count": 187,
     "metadata": {},
     "output_type": "execute_result"
    }
   ],
   "source": [
    "𝕌 = Functor( D_mod_endT_Ω_oid_op, K_projs, 1 )"
   ]
  },
  {
   "cell_type": "markdown",
   "metadata": {},
   "source": [
    "The natural embedding $\\Omega \\hookrightarrow K^b(\\mathrm{end}(T_\\mathcal{O})_{\\mathrm{oid}}^\\oplus)$ can be extended to another embedding $\\Omega^{\\oplus} \\hookrightarrow K^b(\\mathrm{end}(T_\\mathcal{O})_{\\mathrm{oid}}^\\oplus)$. The later can again be extended to the embedding \n",
    "\n",
    "$$K^b(\\Omega^{\\oplus}) \\hookrightarrow K^b(K^b(\\mathrm{end}(T_\\mathcal{O})_{\\mathrm{oid}}^\\oplus)).$$\n",
    "\n",
    "On the other hand, we have another natural embedding \n",
    "\n",
    "$$K^b(\\mathrm{end}(T_\\mathcal{O})_{\\mathrm{oid}}^\\oplus) \\hookrightarrow K^b(K^b(\\mathrm{end}(T_\\mathcal{O})_{\\mathrm{oid}}^\\oplus)).$$\n"
   ]
  },
  {
   "cell_type": "markdown",
   "metadata": {},
   "source": [
    "---\n",
    "Now construct the tilting equivalences:\n",
    "$$\n",
    "  F: K^\\mathrm{b} \\left((\\mathrm{end}\\, T_\\Omega)_{\\mathrm{oid}}^\\oplus\\right) \\rightleftarrows K^b(\\Omega^\\oplus) \\rightleftarrows K^\\mathrm{b} \\left((\\mathrm{end}\\, T_\\mathcal{O})_\\mathrm{oid}^\\oplus\\right) :G\n",
    "$$"
   ]
  },
  {
   "cell_type": "code",
   "execution_count": 188,
   "metadata": {},
   "outputs": [
    {
     "data": {
      "text/plain": [
       "GAP: Convolution functor"
      ]
     },
     "execution_count": 188,
     "metadata": {},
     "output_type": "execute_result"
    }
   ],
   "source": [
    "Conv = ConvolutionFunctorFromHomotopyCategoryOfAdditiveClosureOfAlgebroid( Ω )"
   ]
  },
  {
   "cell_type": "code",
   "execution_count": 189,
   "metadata": {},
   "outputs": [
    {
     "name": "stdout",
     "output_type": "stream",
     "text": [
      "Convolution functor\u001b[1m\u001b[31m:\u001b[0m\n",
      "\n",
      "\u001b[33mHomotopy^• category( \u001b[0mAdditive closure( \u001b[34mAlgebroid(\u001b[0m End( Ω^0(0) ⊕ Ω^1(1) ⊕ Ω^2(2) ) \u001b[34m)\u001b[0m )\u001b[33m )\u001b[0m\n",
      "\u001b[1m\u001b[31m  |\n",
      "  V\u001b[0m\n",
      "\u001b[32mHomotopy^• category( \u001b[0m\u001b[33mQuiver rows( \u001b[0mend( 𝓞(0) ⊕ 𝓞(1) ⊕ 𝓞(2) )\u001b[33m )\u001b[0m\u001b[32m )\u001b[0m\n"
     ]
    }
   ],
   "source": [
    "Display( Conv )"
   ]
  },
  {
   "cell_type": "code",
   "execution_count": 237,
   "metadata": {},
   "outputs": [
    {
     "data": {
      "text/plain": [
       "true"
      ]
     },
     "execution_count": 237,
     "metadata": {},
     "output_type": "execute_result"
    }
   ],
   "source": [
    "IsIdenticalObj( K_endT_Ω_oid_plus, SourceOfFunctor( Conv ) )"
   ]
  },
  {
   "cell_type": "code",
   "execution_count": 238,
   "metadata": {},
   "outputs": [
    {
     "data": {
      "text/plain": [
       "true"
      ]
     },
     "execution_count": 238,
     "metadata": {},
     "output_type": "execute_result"
    }
   ],
   "source": [
    "IsIdenticalObj( K_endT_𝓞_rows, RangeOfFunctor( Conv ) )"
   ]
  },
  {
   "cell_type": "code",
   "execution_count": 192,
   "metadata": {},
   "outputs": [
    {
     "data": {
      "text/plain": [
       "GAP: Replacement functor"
      ]
     },
     "execution_count": 192,
     "metadata": {},
     "output_type": "execute_result"
    }
   ],
   "source": [
    "Rep = ReplacementFunctorIntoHomotopyCategoryOfAdditiveClosureOfAlgebroid( Ω )"
   ]
  },
  {
   "cell_type": "code",
   "execution_count": 193,
   "metadata": {},
   "outputs": [
    {
     "name": "stdout",
     "output_type": "stream",
     "text": [
      "Replacement functor\u001b[1m\u001b[31m:\u001b[0m\n",
      "\n",
      "\u001b[32mHomotopy^• category( \u001b[0m\u001b[33mQuiver rows( \u001b[0mend( 𝓞(0) ⊕ 𝓞(1) ⊕ 𝓞(2) )\u001b[33m )\u001b[0m\u001b[32m )\u001b[0m\n",
      "\u001b[1m\u001b[31m  |\n",
      "  V\u001b[0m\n",
      "\u001b[33mHomotopy^• category( \u001b[0mAdditive closure( \u001b[34mAlgebroid(\u001b[0m End( Ω^0(0) ⊕ Ω^1(1) ⊕ Ω^2(2) ) \u001b[34m)\u001b[0m )\u001b[33m )\u001b[0m\n"
     ]
    }
   ],
   "source": [
    "Display( Rep )"
   ]
  },
  {
   "cell_type": "markdown",
   "metadata": {},
   "source": [
    "---\n",
    "Consider the images of the three twisted line bundles $\\{\\mathcal{O}(0), \\mathcal{O}(1), \\mathcal{O}(2)\\} \\subset \\mathrm{K}^\\mathrm{b}\\!\\left((\\mathrm{End}\\, T_𝓞)^\\mathrm{dec}_\\oplus\\right)$ under the tilting equivalence\n",
    "$$\n",
    "  G: \\mathrm{K}^\\mathrm{b}\\!\\left((\\operatorname{End}\\, T_\\mathcal{O})^\\mathrm{dec}_\\oplus \\right) \\rightarrow \\mathrm{K}^\\mathrm{b}\\!\\left((\\operatorname{End}\\, T_\\Omega)^\\mathrm{dec}_\\oplus \\right) \\mbox{.}\n",
    "$$"
   ]
  },
  {
   "cell_type": "code",
   "execution_count": 194,
   "metadata": {},
   "outputs": [
    {
     "data": {
      "text/plain": [
       "GAP: <An object in \u001b[32mHomotopy^• category( \u001b[0m\u001b[33mQuiver rows( \u001b[0mend( 𝓞(0) ⊕ 𝓞(1) ⊕ 𝓞(2) )\u001b[33m )\u001b[0m\u001b[32m )\u001b[0m with active lower bound 0 and active upper bound 0>"
      ]
     },
     "execution_count": 194,
     "metadata": {},
     "output_type": "execute_result"
    }
   ],
   "source": [
    "𝓞0 = K_endT_𝓞_rows.\"𝓞(0)\""
   ]
  },
  {
   "cell_type": "code",
   "execution_count": 195,
   "metadata": {},
   "outputs": [
    {
     "data": {
      "text/latex": [
       "$$\\begin{array}{c}\n",
       " {𝓞(0)}^{}\n",
       " \\end{array}$$"
      ]
     },
     "metadata": {},
     "output_type": "display_data"
    }
   ],
   "source": [
    "Show( 𝓞0 )"
   ]
  },
  {
   "cell_type": "code",
   "execution_count": 196,
   "metadata": {},
   "outputs": [
    {
     "data": {
      "text/plain": [
       "GAP: <An object in \u001b[32mHomotopy^• category( \u001b[0m\u001b[33mQuiver rows( \u001b[0mend( 𝓞(0) ⊕ 𝓞(1) ⊕ 𝓞(2) )\u001b[33m )\u001b[0m\u001b[32m )\u001b[0m with active lower bound 0 and active upper bound 0>"
      ]
     },
     "execution_count": 196,
     "metadata": {},
     "output_type": "execute_result"
    }
   ],
   "source": [
    "𝓞1 = K_endT_𝓞_rows.\"𝓞(1)\""
   ]
  },
  {
   "cell_type": "code",
   "execution_count": 197,
   "metadata": {},
   "outputs": [
    {
     "data": {
      "text/latex": [
       "$$\\begin{array}{c}\n",
       " {𝓞(1)}^{}\n",
       " \\end{array}$$"
      ]
     },
     "metadata": {},
     "output_type": "display_data"
    }
   ],
   "source": [
    "Show( 𝓞1 )"
   ]
  },
  {
   "cell_type": "code",
   "execution_count": 198,
   "metadata": {},
   "outputs": [
    {
     "data": {
      "text/plain": [
       "GAP: <An object in \u001b[32mHomotopy^• category( \u001b[0m\u001b[33mQuiver rows( \u001b[0mend( 𝓞(0) ⊕ 𝓞(1) ⊕ 𝓞(2) )\u001b[33m )\u001b[0m\u001b[32m )\u001b[0m with active lower bound 0 and active upper bound 0>"
      ]
     },
     "execution_count": 198,
     "metadata": {},
     "output_type": "execute_result"
    }
   ],
   "source": [
    "𝓞2 = K_endT_𝓞_rows.\"𝓞(2)\""
   ]
  },
  {
   "cell_type": "code",
   "execution_count": 199,
   "metadata": {},
   "outputs": [
    {
     "data": {
      "text/latex": [
       "$$\\begin{array}{c}\n",
       " {𝓞(2)}^{}\n",
       " \\end{array}$$"
      ]
     },
     "metadata": {},
     "output_type": "display_data"
    }
   ],
   "source": [
    "Show( 𝓞2 )"
   ]
  },
  {
   "cell_type": "code",
   "execution_count": 200,
   "metadata": {},
   "outputs": [
    {
     "data": {
      "text/plain": [
       "GAP: <An object in \u001b[33mHomotopy^• category( \u001b[0mAdditive closure( \u001b[34mAlgebroid(\u001b[0m End( Ω^0(0) ⊕ Ω^1(1) ⊕ Ω^2(2) ) \u001b[34m)\u001b[0m )\u001b[33m )\u001b[0m with active lower bound 0 and active upper bound 0>"
      ]
     },
     "execution_count": 200,
     "metadata": {},
     "output_type": "execute_result"
    }
   ],
   "source": [
    "Rep_𝓞0 = Rep( 𝓞0 )"
   ]
  },
  {
   "cell_type": "code",
   "execution_count": 201,
   "metadata": {},
   "outputs": [
    {
     "data": {
      "text/latex": [
       "$$\\begin{array}{c}\n",
       " {\\Omega^2(2)}\n",
       " \\end{array}$$"
      ]
     },
     "metadata": {},
     "output_type": "display_data"
    }
   ],
   "source": [
    "Show( Rep_𝓞0 )"
   ]
  },
  {
   "cell_type": "code",
   "execution_count": 202,
   "metadata": {},
   "outputs": [
    {
     "data": {
      "text/plain": [
       "GAP: <An object in \u001b[33mHomotopy^• category( \u001b[0mAdditive closure( \u001b[34mAlgebroid(\u001b[0m End( Ω^0(0) ⊕ Ω^1(1) ⊕ Ω^2(2) ) \u001b[34m)\u001b[0m )\u001b[33m )\u001b[0m with active lower bound -1 and active upper bound 0>"
      ]
     },
     "execution_count": 202,
     "metadata": {},
     "output_type": "execute_result"
    }
   ],
   "source": [
    "Rep_𝓞1 = Rep( 𝓞1 )"
   ]
  },
  {
   "cell_type": "code",
   "execution_count": 203,
   "metadata": {},
   "outputs": [
    {
     "data": {
      "text/latex": [
       "$$\\begin{array}{c}\n",
       " {\\Omega^2(2)}^{\\oplus 3}\n",
       " \\\\ \n",
       " { \\color{black}\\uparrow_{\\phantom{-1}}} \n",
       " \\\\ \n",
       " \\begin{pmatrix}-{m_{2,3}^{1}}&-{m_{2,3}^{2}}&-{m_{2,3}^{3}}\\end{pmatrix}\n",
       " \\\\ \n",
       " { \\color{black}\\vert_{-1}} \n",
       " \n",
       " \\\\ \n",
       "{\\Omega^1(1)}\\end{array}$$"
      ]
     },
     "metadata": {},
     "output_type": "display_data"
    }
   ],
   "source": [
    "Show( Rep_𝓞1 )"
   ]
  },
  {
   "cell_type": "code",
   "execution_count": 204,
   "metadata": {},
   "outputs": [
    {
     "data": {
      "text/plain": [
       "GAP: <An object in \u001b[33mHomotopy^• category( \u001b[0mAdditive closure( \u001b[34mAlgebroid(\u001b[0m End( Ω^0(0) ⊕ Ω^1(1) ⊕ Ω^2(2) ) \u001b[34m)\u001b[0m )\u001b[33m )\u001b[0m with active lower bound -2 and active upper bound 0>"
      ]
     },
     "execution_count": 204,
     "metadata": {},
     "output_type": "execute_result"
    }
   ],
   "source": [
    "Rep_𝓞2 = Rep( 𝓞2 )"
   ]
  },
  {
   "cell_type": "code",
   "execution_count": 205,
   "metadata": {},
   "outputs": [
    {
     "data": {
      "text/latex": [
       "$$\\begin{array}{c}\n",
       " {\\Omega^2(2)}^{\\oplus 6}\n",
       " \\\\ \n",
       " { \\color{black}\\uparrow_{\\phantom{-1}}} \n",
       " \\\\ \n",
       " \\begin{pmatrix}-{m_{2,3}^{1}}&-{m_{2,3}^{2}}&-{m_{2,3}^{3}}&0&0&0\\\\ \n",
       "0&-{m_{2,3}^{1}}&0&-{m_{2,3}^{2}}&-{m_{2,3}^{3}}&0\\\\ \n",
       "0&0&-{m_{2,3}^{1}}&0&-{m_{2,3}^{2}}&-{m_{2,3}^{3}}\\end{pmatrix}\n",
       " \\\\ \n",
       " { \\color{black}\\vert_{-1}} \n",
       " \n",
       " \\\\ \n",
       "{\\Omega^1(1)}^{\\oplus 3}\\\\ \n",
       " { \\color{black}\\uparrow_{\\phantom{-2}}} \n",
       " \\\\ \n",
       " \\begin{pmatrix}-{m_{1,2}^{1}}&-{m_{1,2}^{2}}&-{m_{1,2}^{3}}\\end{pmatrix}\n",
       " \\\\ \n",
       " { \\color{black}\\vert_{-2}} \n",
       " \n",
       " \\\\ \n",
       "{\\Omega^0(0)}\\end{array}$$"
      ]
     },
     "metadata": {},
     "output_type": "display_data"
    }
   ],
   "source": [
    "Show( Rep_𝓞2 )"
   ]
  },
  {
   "cell_type": "markdown",
   "metadata": {},
   "source": [
    " "
   ]
  },
  {
   "cell_type": "markdown",
   "metadata": {},
   "source": [
    "---\n",
    "Consider the images of the three twisted line bundles $\\{\\Omega^0(0), \\Omega^1(1), \\Omega^2(2)\\} \\subset \\mathrm{K}^\\mathrm{b}\\!\\left((\\mathrm{End}\\, T_\\Omega)^\\mathrm{dec}_\\oplus\\right)$ under the tilting equivalence\n",
    "$$\n",
    "  F: \\mathrm{K}^\\mathrm{b}\\!\\left((\\operatorname{End}\\, T_\\Omega)^\\mathrm{dec}_\\oplus \\right) \\rightarrow \\mathrm{K}^\\mathrm{b}\\!\\left((\\operatorname{End}\\, T_\\mathcal{O})^\\mathrm{dec}_\\oplus \\right) \\mbox{.}\n",
    "$$"
   ]
  },
  {
   "cell_type": "code",
   "execution_count": 206,
   "metadata": {},
   "outputs": [
    {
     "data": {
      "text/plain": [
       "GAP: <An object in \u001b[32mHomotopy^• category( \u001b[0m\u001b[33mQuiver rows( \u001b[0mend( 𝓞(0) ⊕ 𝓞(1) ⊕ 𝓞(2) )\u001b[33m )\u001b[0m\u001b[32m )\u001b[0m with active lower bound 0 and active upper bound 2>"
      ]
     },
     "execution_count": 206,
     "metadata": {},
     "output_type": "execute_result"
    }
   ],
   "source": [
    "Conv_Ω00 = Conv( K_endT_Ω_oid_plus.\"Ω^0(0)\" )"
   ]
  },
  {
   "cell_type": "code",
   "execution_count": 207,
   "metadata": {
    "scrolled": false
   },
   "outputs": [
    {
     "data": {
      "text/latex": [
       "$$\\begin{array}{c}\n",
       " {𝓞(2)}^{}\n",
       " \\\\ \n",
       " { \\color{black}\\uparrow_{\\phantom{1}}} \n",
       " \\\\ \n",
       " \\begin{pmatrix}{y_0}\\\\{y_1}\\\\{y_2}\\end{pmatrix}\n",
       " \\\\ \n",
       " { \\color{black}\\vert_{1}} \n",
       " \n",
       " \\\\ \n",
       "{𝓞(1)}^{\\oplus3}\\\\ \n",
       " { \\color{black}\\uparrow_{\\phantom{0}}} \n",
       " \\\\ \n",
       " \\begin{pmatrix}{x_1}&-{x_0}&0\\\\{x_2}&0&-{x_0}\\\\0&{x_2}&-{x_1}\\end{pmatrix}\n",
       " \\\\ \n",
       " { \\color{black}\\vert_{0}} \n",
       " \n",
       " \\\\ \n",
       "{𝓞(0)}^{\\oplus3}\\end{array}$$"
      ]
     },
     "metadata": {},
     "output_type": "display_data"
    }
   ],
   "source": [
    "Show( Conv_Ω00 )"
   ]
  },
  {
   "cell_type": "code",
   "execution_count": 208,
   "metadata": {
    "scrolled": false
   },
   "outputs": [
    {
     "data": {
      "text/latex": [
       "$$\\begin{array}{c}\n",
       " {𝓞(2)}^{}\n",
       " \\\\ \n",
       " { \\color{black}\\uparrow_{\\phantom{1}}} \n",
       " \\\\ \n",
       " \\begin{pmatrix}{y_0}\\\\{y_1}\\\\{y_2}\\end{pmatrix}\n",
       " \\\\ \n",
       " { \\color{black}\\vert_{1}} \n",
       " \n",
       " \\\\ \n",
       "{𝓞(1)}^{\\oplus3}\\\\ \n",
       " { \\color{black}\\uparrow_{\\phantom{0}}} \n",
       " \\\\ \n",
       " \\begin{pmatrix}{x_1}&-{x_0}&0\\\\{x_2}&0&-{x_0}\\\\0&{x_2}&-{x_1}\\end{pmatrix}\n",
       " \\\\ \n",
       " { \\color{black}\\vert_{0}} \n",
       " \n",
       " \\\\ \n",
       "{𝓞(0)}^{\\oplus3}\\end{array}$$"
      ]
     },
     "metadata": {},
     "output_type": "display_data"
    }
   ],
   "source": [
    "Show( Ω00 )"
   ]
  },
  {
   "cell_type": "code",
   "execution_count": 209,
   "metadata": {
    "scrolled": true
   },
   "outputs": [
    {
     "data": {
      "text/plain": [
       "GAP: <An object in \u001b[32mHomotopy^• category( \u001b[0m\u001b[33mQuiver rows( \u001b[0mend( 𝓞(0) ⊕ 𝓞(1) ⊕ 𝓞(2) )\u001b[33m )\u001b[0m\u001b[32m )\u001b[0m with active lower bound 0 and active upper bound 1>"
      ]
     },
     "execution_count": 209,
     "metadata": {},
     "output_type": "execute_result"
    }
   ],
   "source": [
    "Conv_Ω11 = Conv( K_endT_Ω_oid_plus.\"Ω^1(1)\" )"
   ]
  },
  {
   "cell_type": "code",
   "execution_count": 210,
   "metadata": {},
   "outputs": [
    {
     "data": {
      "text/latex": [
       "$$\\begin{array}{c}\n",
       " {𝓞(1)}^{}\n",
       " \\\\ \n",
       " { \\color{black}\\uparrow_{\\phantom{0}}} \n",
       " \\\\ \n",
       " \\begin{pmatrix}{x_0}\\\\{x_1}\\\\{x_2}\\end{pmatrix}\n",
       " \\\\ \n",
       " { \\color{black}\\vert_{0}} \n",
       " \n",
       " \\\\ \n",
       "{𝓞(0)}^{\\oplus3}\\end{array}$$"
      ]
     },
     "metadata": {},
     "output_type": "display_data"
    }
   ],
   "source": [
    "Show( Conv_Ω11 )"
   ]
  },
  {
   "cell_type": "code",
   "execution_count": 211,
   "metadata": {},
   "outputs": [
    {
     "data": {
      "text/plain": [
       "GAP: <An object in \u001b[32mHomotopy^• category( \u001b[0m\u001b[33mQuiver rows( \u001b[0mend( 𝓞(0) ⊕ 𝓞(1) ⊕ 𝓞(2) )\u001b[33m )\u001b[0m\u001b[32m )\u001b[0m with active lower bound 0 and active upper bound 0>"
      ]
     },
     "execution_count": 211,
     "metadata": {},
     "output_type": "execute_result"
    }
   ],
   "source": [
    "Conv_Ω22 = Conv( K_endT_Ω_oid_plus.\"Ω^2(2)\" )"
   ]
  },
  {
   "cell_type": "code",
   "execution_count": 212,
   "metadata": {},
   "outputs": [
    {
     "data": {
      "text/latex": [
       "$$\\begin{array}{c}\n",
       " {𝓞(0)}^{}\n",
       " \\end{array}$$"
      ]
     },
     "metadata": {},
     "output_type": "display_data"
    }
   ],
   "source": [
    "Show( Conv_Ω22 )"
   ]
  },
  {
   "cell_type": "code",
   "execution_count": 243,
   "metadata": {},
   "outputs": [
    {
     "data": {
      "text/plain": [
       "GAP: <An object in \u001b[32mHomotopy^• category( \u001b[0m\u001b[33mQuiver rows( \u001b[0mend( 𝓞(0) ⊕ 𝓞(1) ⊕ 𝓞(2) )\u001b[33m )\u001b[0m\u001b[32m )\u001b[0m with active lower bound -1 and active upper bound 1>"
      ]
     },
     "execution_count": 243,
     "metadata": {},
     "output_type": "execute_result"
    }
   ],
   "source": [
    "C = RandomObject( K_endT_𝓞_rows, julia_to_gap([-1,1,1]) )"
   ]
  },
  {
   "cell_type": "code",
   "execution_count": 244,
   "metadata": {},
   "outputs": [
    {
     "data": {
      "text/latex": [
       "$$\\begin{array}{c}\n",
       " {𝓞(2)}^{}\n",
       " \\\\ \n",
       " { \\color{black}\\uparrow_{\\phantom{0}}} \n",
       " \\\\ \n",
       " \\begin{pmatrix}3{𝓞(2)}\\\\{x_1y_2}+{x_1y_1}+{x_0y_0}\\end{pmatrix}\n",
       " \\\\ \n",
       " { \\color{black}\\vert_{0}} \n",
       " \n",
       " \\\\ \n",
       "{𝓞(2)}^{} \\oplus {𝓞(0)}^{}\\\\ \n",
       " { \\color{black}\\uparrow_{\\phantom{-1}}} \n",
       " \\\\ \n",
       " \\begin{pmatrix}-{x_1y_2}-{x_1y_1}-{x_0y_0}&3{𝓞(0)}\\\\0&0\\end{pmatrix}\n",
       " \\\\ \n",
       " { \\color{black}\\vert_{-1}} \n",
       " \n",
       " \\\\ \n",
       "{𝓞(0)}^{} \\oplus {𝓞(1)}^{}\\end{array}$$"
      ]
     },
     "metadata": {},
     "output_type": "display_data"
    }
   ],
   "source": [
    "Show( C )"
   ]
  },
  {
   "cell_type": "code",
   "execution_count": 245,
   "metadata": {},
   "outputs": [
    {
     "data": {
      "text/plain": [
       "GAP: <An object in \u001b[32mHomotopy^• category( \u001b[0m\u001b[33mQuiver rows( \u001b[0mend( 𝓞(0) ⊕ 𝓞(1) ⊕ 𝓞(2) )\u001b[33m )\u001b[0m\u001b[32m )\u001b[0m with active lower bound -2 and active upper bound -1>"
      ]
     },
     "execution_count": 245,
     "metadata": {},
     "output_type": "execute_result"
    }
   ],
   "source": [
    "ConvRep_C = Conv( Rep( C ) )"
   ]
  },
  {
   "cell_type": "code",
   "execution_count": 246,
   "metadata": {},
   "outputs": [
    {
     "data": {
      "text/latex": [
       "$$\\begin{array}{c}\n",
       " {𝓞(1)}^{} \\oplus {𝓞(0)}^{\\oplus3}\n",
       " \\\\ \n",
       " { \\color{black}\\uparrow_{\\phantom{-2}}} \n",
       " \\\\ \n",
       " \\begin{pmatrix}{x_0}&{𝓞(0)}&0&0\\\\{x_1}&0&{𝓞(0)}&0\\\\{x_2}&0&0&{𝓞(0)}\\end{pmatrix}\n",
       " \\\\ \n",
       " { \\color{black}\\vert_{-2}} \n",
       " \n",
       " \\\\ \n",
       "{𝓞(0)}^{\\oplus3}\\end{array}$$"
      ]
     },
     "metadata": {},
     "output_type": "display_data"
    }
   ],
   "source": [
    "Show( ConvRep_C )"
   ]
  },
  {
   "cell_type": "code",
   "execution_count": 247,
   "metadata": {},
   "outputs": [
    {
     "data": {
      "text/plain": [
       "GAP: Conv(Rep(-) ) => Id"
      ]
     },
     "execution_count": 247,
     "metadata": {},
     "output_type": "execute_result"
    }
   ],
   "source": [
    "ϵ = CounitOfConvolutionReplacementAdjunction( Ω )"
   ]
  },
  {
   "cell_type": "code",
   "execution_count": 248,
   "metadata": {},
   "outputs": [
    {
     "data": {
      "text/plain": [
       "GAP: <A morphism in \u001b[32mHomotopy^• category( \u001b[0m\u001b[33mQuiver rows( \u001b[0mend( 𝓞(0) ⊕ 𝓞(1) ⊕ 𝓞(2) )\u001b[33m )\u001b[0m\u001b[32m )\u001b[0m with active lower bound -1 and active upper bound 0>"
      ]
     },
     "execution_count": 248,
     "metadata": {},
     "output_type": "execute_result"
    }
   ],
   "source": [
    "ϵ_C = ϵ( C )"
   ]
  },
  {
   "cell_type": "code",
   "execution_count": 249,
   "metadata": {},
   "outputs": [
    {
     "data": {
      "text/latex": [
       "$$\\begin{array}{ccc}\n",
       " 0&-\\phantom{-}{0}\\phantom{-}\\rightarrow&{𝓞(2)}^{}\n",
       " \\\\ \n",
       " \\uparrow_{\\phantom{0}}&& \n",
       " \\uparrow_{\\phantom{0}}\n",
       " \\\\ \n",
       " 0&&\\begin{pmatrix}3{𝓞(2)}\\\\{x_1y_2}+{x_1y_1}+{x_0y_0}\\end{pmatrix}\n",
       " \\\\ \n",
       " \\vert_{0} &&\\vert_{0} \n",
       " \\\\ \n",
       " 0&-\\phantom{-}{0}\\phantom{-}\\rightarrow&{𝓞(2)}^{} \\oplus {𝓞(0)}^{}\n",
       " \\\\ \n",
       "  \\uparrow_{\\phantom{-1}}&& \n",
       " \\uparrow_{\\phantom{-1}}\n",
       " \\\\ \n",
       " 0&&\\begin{pmatrix}-{x_1y_2}-{x_1y_1}-{x_0y_0}&3{𝓞(0)}\\\\0&0\\end{pmatrix}\n",
       " \\\\ \n",
       " \\vert_{-1} &&\\vert_{-1} \n",
       " \\\\ \n",
       " {𝓞(1)}^{} \\oplus {𝓞(0)}^{\\oplus3}&-\\phantom{-}{\\begin{pmatrix}0&-{𝓞(1)}\\\\0&{x_0}\\\\0&{x_1}\\\\0&{x_2}\\end{pmatrix}}\\phantom{-}\\rightarrow&{𝓞(0)}^{} \\oplus {𝓞(1)}^{}\n",
       " \\\\ \n",
       "  \\uparrow_{\\phantom{-2}}&& \n",
       " \\uparrow_{\\phantom{-2}}\n",
       " \\\\ \n",
       " \\begin{pmatrix}{x_0}&{𝓞(0)}&0&0\\\\{x_1}&0&{𝓞(0)}&0\\\\{x_2}&0&0&{𝓞(0)}\\end{pmatrix}&&0\n",
       " \\\\ \n",
       " \\vert_{-2} &&\\vert_{-2} \n",
       " \\\\ \n",
       " {𝓞(0)}^{\\oplus3}&-\\phantom{-}{0}\\phantom{-}\\rightarrow&0\n",
       " \\\\ \n",
       " \\end{array}$$"
      ]
     },
     "metadata": {},
     "output_type": "display_data"
    }
   ],
   "source": [
    "Show( ϵ_C )"
   ]
  },
  {
   "cell_type": "code",
   "execution_count": 220,
   "metadata": {},
   "outputs": [
    {
     "data": {
      "text/plain": [
       "true"
      ]
     },
     "execution_count": 220,
     "metadata": {},
     "output_type": "execute_result"
    }
   ],
   "source": [
    "IsIsomorphism( ϵ_C )"
   ]
  },
  {
   "cell_type": "code",
   "execution_count": 221,
   "metadata": {},
   "outputs": [
    {
     "data": {
      "text/plain": [
       "GAP: <A morphism in \u001b[32mHomotopy^• category( \u001b[0m\u001b[33mQuiver rows( \u001b[0mend( 𝓞(0) ⊕ 𝓞(1) ⊕ 𝓞(2) )\u001b[33m )\u001b[0m\u001b[32m )\u001b[0m with active lower bound -2 and active upper bound -1>"
      ]
     },
     "execution_count": 221,
     "metadata": {},
     "output_type": "execute_result"
    }
   ],
   "source": [
    "iϵ_C = InverseForMorphisms( ϵ_C )"
   ]
  },
  {
   "cell_type": "code",
   "execution_count": 222,
   "metadata": {},
   "outputs": [
    {
     "data": {
      "text/latex": [
       "$$\\begin{array}{ccc}\n",
       " {𝓞(1)}^{}&-\\phantom{-}{0}\\phantom{-}\\rightarrow&0\n",
       " \\\\ \n",
       " \\uparrow_{\\phantom{1}}&& \n",
       " \\uparrow_{\\phantom{1}}\n",
       " \\\\ \n",
       " \\begin{pmatrix}3{𝓞(1)}\\\\0\\end{pmatrix}&&0\n",
       " \\\\ \n",
       " \\vert_{1} &&\\vert_{1} \n",
       " \\\\ \n",
       " {𝓞(1)}^{} \\oplus {𝓞(2)}^{}&-\\phantom{-}{0}\\phantom{-}\\rightarrow&0\n",
       " \\\\ \n",
       "  \\uparrow_{\\phantom{0}}&& \n",
       " \\uparrow_{\\phantom{0}}\n",
       " \\\\ \n",
       " \\begin{pmatrix}0&3{𝓞(2)}\\\\0&2{x_1y_2}+{x_0y_1}\\end{pmatrix}&&0\n",
       " \\\\ \n",
       " \\vert_{0} &&\\vert_{0} \n",
       " \\\\ \n",
       " {𝓞(2)}^{} \\oplus {𝓞(0)}^{}&-\\phantom{-}{0}\\phantom{-}\\rightarrow&0\n",
       " \\\\ \n",
       "  \\uparrow_{\\phantom{-1}}&& \n",
       " \\uparrow_{\\phantom{-1}}\n",
       " \\\\ \n",
       " \\begin{pmatrix}-2{x_1y_2}-{x_0y_1}&3{𝓞(0)}\\\\0&0\\end{pmatrix}&&0\n",
       " \\\\ \n",
       " \\vert_{-1} &&\\vert_{-1} \n",
       " \\\\ \n",
       " {𝓞(0)}^{} \\oplus {𝓞(2)}^{}&-\\phantom{-}{0}\\phantom{-}\\rightarrow&0\n",
       " \\\\ \n",
       "  \\uparrow_{\\phantom{-2}}&& \n",
       " \\uparrow_{\\phantom{-2}}\n",
       " \\\\ \n",
       " \\begin{pmatrix}0&3{𝓞(2)}\\\\0&3{𝓞(2)}\\end{pmatrix}&&0\n",
       " \\\\ \n",
       " \\vert_{-2} &&\\vert_{-2} \n",
       " \\\\ \n",
       " {𝓞(2)}^{\\oplus2}&-\\phantom{-}{\\begin{pmatrix}-{𝓞(2)}&0&0&0&0&0&0&0&0&0\\\\0&0&0&0&0&0&0&0&0&0\\end{pmatrix}}\\phantom{-}\\rightarrow&{𝓞(2)}^{} \\oplus {𝓞(1)}^{\\oplus3} \\oplus {𝓞(0)}^{\\oplus6}\n",
       " \\\\ \n",
       "  \\uparrow_{\\phantom{-3}}&& \n",
       " \\uparrow_{\\phantom{-3}}\n",
       " \\\\ \n",
       " 0&&\\begin{pmatrix}{y_0}&{𝓞(1)}&0&0&0&0&0&0&0&0\\\\{y_1}&0&{𝓞(1)}&0&0&0&0&0&0&0\\\\{y_2}&0&0&{𝓞(1)}&0&0&0&0&0&0\\\\0&-{x_0}&0&0&-{𝓞(0)}&0&0&0&0&0\\\\0&-{x_1}&0&0&0&-{𝓞(0)}&0&0&0&0\\\\0&-{x_2}&0&0&0&0&-{𝓞(0)}&0&0&0\\\\0&0&-{x_0}&0&0&-{𝓞(0)}&0&0&0&0\\\\0&0&-{x_1}&0&0&0&0&-{𝓞(0)}&0&0\\\\0&0&-{x_2}&0&0&0&0&0&-{𝓞(0)}&0\\\\0&0&0&-{x_0}&0&0&-{𝓞(0)}&0&0&0\\\\0&0&0&-{x_1}&0&0&0&0&-{𝓞(0)}&0\\\\0&0&0&-{x_2}&0&0&0&0&0&-{𝓞(0)}\\end{pmatrix}\n",
       " \\\\ \n",
       " \\vert_{-3} &&\\vert_{-3} \n",
       " \\\\ \n",
       " 0&-\\phantom{-}{0}\\phantom{-}\\rightarrow&{𝓞(1)}^{\\oplus3} \\oplus {𝓞(0)}^{\\oplus9}\n",
       " \\\\ \n",
       "  \\uparrow_{\\phantom{-4}}&& \n",
       " \\uparrow_{\\phantom{-4}}\n",
       " \\\\ \n",
       " 0&&\\begin{pmatrix}{x_1}&-{x_0}&0&0&{𝓞(0)}&0&-{𝓞(0)}&0&0&0&0&0\\\\{x_2}&0&-{x_0}&0&0&{𝓞(0)}&0&0&0&-{𝓞(0)}&0&0\\\\0&{x_2}&-{x_1}&0&0&0&0&0&{𝓞(0)}&0&-{𝓞(0)}&0\\end{pmatrix}\n",
       " \\\\ \n",
       " \\vert_{-4} &&\\vert_{-4} \n",
       " \\\\ \n",
       " 0&-\\phantom{-}{0}\\phantom{-}\\rightarrow&{𝓞(0)}^{\\oplus3}\n",
       " \\\\ \n",
       " \\end{array}$$"
      ]
     },
     "metadata": {},
     "output_type": "display_data"
    }
   ],
   "source": [
    "Show( iϵ_C )"
   ]
  },
  {
   "cell_type": "markdown",
   "metadata": {},
   "source": [
    "---\n",
    "Construct the equivalence\n",
    "\n",
    "$$\n",
    "  J: \\mathrm{K}^\\mathrm{b}\\!\\left((\\operatorname{End}\\, T_\\mathcal{\\Omega})_\\mathrm{oid}^\\oplus \\right) \\to \\mathrm{D}^\\mathrm{b}(\\mathrm{End}\\, T_\\mathcal{\\Omega}) \\mbox{.}\n",
    "$$\n"
   ]
  },
  {
   "cell_type": "code",
   "execution_count": 223,
   "metadata": {},
   "outputs": [
    {
     "data": {
      "text/plain": [
       "GAP: Composition of Extension of ( Yoneda embedding ) to homotopy categories and Composition of Extension of ( The inclusion functor from \u001b[33mFull additive subcategory generated by projective objects( \u001b[0mThe category of functors: \u001b[34mAlgebroid( \u001b[0mEnd( Ω^0(0) ⊕ Ω^1(1) ⊕ Ω^2(2) )^op\u001b[34m )\u001b[0m -> Category of matrices over Q\u001b[33m )\u001b[0m in The category of functors: \u001b[34mAlgebroid( \u001b[0mEnd( Ω^0(0) ⊕ Ω^1(1) ⊕ Ω^2(2) )^op\u001b[34m )\u001b[0m -> Category of matrices over Q ) to homotopy categories and Localization functor in derived category"
      ]
     },
     "execution_count": 223,
     "metadata": {},
     "output_type": "execute_result"
    }
   ],
   "source": [
    "I = PreCompose( 𝕐, 𝕃 )"
   ]
  },
  {
   "cell_type": "code",
   "execution_count": 224,
   "metadata": {
    "scrolled": true
   },
   "outputs": [
    {
     "name": "stdout",
     "output_type": "stream",
     "text": [
      "Composition of Extension of ( Yoneda embedding ) to homotopy categories and Composition of Extension of ( The inclusion functor from \u001b[33mFull additive subcategory generated by projective objects( \u001b[0mThe category of functors: \u001b[34mAlgebroid( \u001b[0mEnd( Ω^0(0) ⊕ Ω^1(1) ⊕ Ω^2(2) )^op\u001b[34m )\u001b[0m -> Category of matrices over Q\u001b[33m )\u001b[0m in The category of functors: \u001b[34mAlgebroid( \u001b[0mEnd( Ω^0(0) ⊕ Ω^1(1) ⊕ Ω^2(2) )^op\u001b[34m )\u001b[0m -> Category of matrices over Q ) to homotopy categories and Localization functor in derived category\u001b[1m\u001b[31m:\u001b[0m\n",
      "\n",
      "\u001b[33mHomotopy^• category( \u001b[0mAdditive closure( \u001b[34mAlgebroid(\u001b[0m End( Ω^0(0) ⊕ Ω^1(1) ⊕ Ω^2(2) ) \u001b[34m)\u001b[0m )\u001b[33m )\u001b[0m\n",
      "\u001b[1m\u001b[31m  |\n",
      "  V\u001b[0m\n",
      "\u001b[35mDerived^• category(\u001b[0m The category of functors: \u001b[34mAlgebroid( \u001b[0mEnd( Ω^0(0) ⊕ Ω^1(1) ⊕ Ω^2(2) )^op\u001b[34m )\u001b[0m -> Category of matrices over Q \u001b[35m)\u001b[0m\n"
     ]
    }
   ],
   "source": [
    "Display( I )"
   ]
  },
  {
   "cell_type": "markdown",
   "metadata": {},
   "source": [
    "---\n",
    "Compute the images of $G(\\mathcal{O}(i)) \\in \\mathrm{K}^\\mathrm{b}\\!\\left((\\operatorname{End}\\, T_\\Omega)^\\mathrm{dec}_\\oplus \\right)$ in the derived catgeory $\\mathrm{D}^\\mathrm{b}(\\mathrm{End}\\, T_\\Omega)$. All of them turn out to lie in the Abelian heart of the latter:"
   ]
  },
  {
   "cell_type": "code",
   "execution_count": 225,
   "metadata": {},
   "outputs": [
    {
     "data": {
      "text/plain": [
       "GAP: <An object in \u001b[35mDerived^• category(\u001b[0m The category of functors: \u001b[34mAlgebroid( \u001b[0mEnd( Ω^0(0) ⊕ Ω^1(1) ⊕ Ω^2(2) )^op\u001b[34m )\u001b[0m -> Category of matrices over Q \u001b[35m)\u001b[0m with active lower bound 0 and active upper bound 0>"
      ]
     },
     "execution_count": 225,
     "metadata": {},
     "output_type": "execute_result"
    }
   ],
   "source": [
    "IRep_𝓞0 = I( Rep_𝓞0 )"
   ]
  },
  {
   "cell_type": "code",
   "execution_count": 226,
   "metadata": {},
   "outputs": [
    {
     "data": {
      "text/plain": [
       "GAP: [ 0 ]"
      ]
     },
     "execution_count": 226,
     "metadata": {},
     "output_type": "execute_result"
    }
   ],
   "source": [
    "CohomologySupport( IRep_𝓞0 )"
   ]
  },
  {
   "cell_type": "markdown",
   "metadata": {},
   "source": [
    "---\n",
    "This homology is concentrated in degree $0$ and hence isomorphic to the image $J( G ( \\mathcal{O}(0) ) )$ in $\\mathrm{D}^\\mathrm{b}(\\mathrm{End}\\, T_\\Omega)$.\n",
    "It is, as an object in $(\\mathrm{End}\\, T_\\Omega)\\mathrm{-mod}$ represented by a functor $((\\operatorname{End}\\, T_\\Omega)^\\mathrm{dec})^\\mathrm{op} \\rightarrow \\mathbb{Q}\\mathrm{-vec}$:"
   ]
  },
  {
   "cell_type": "code",
   "execution_count": 227,
   "metadata": {},
   "outputs": [
    {
     "data": {
      "text/plain": [
       "GAP: <(Ω^0(0))->3, (Ω^1(1))->3, (Ω^2(2))->1; (m1_2_1)->3x3, (m1_2_2)->3x3, (m1_2_3)->3x3, (m2_3_1)->1x3, (m2_3_2)->1x3, (m2_3_3)->1x3>"
      ]
     },
     "execution_count": 227,
     "metadata": {},
     "output_type": "execute_result"
    }
   ],
   "source": [
    "H0_IRep_𝓞0 = CohomologyAt( IRep_𝓞0, 0 )"
   ]
  },
  {
   "cell_type": "code",
   "execution_count": 228,
   "metadata": {},
   "outputs": [
    {
     "data": {
      "text/latex": [
       "$$\\begin{array}{ccc}\n",
       " \\Omega^0(0) & \\mapsto & {\\mathbb{Q}}^{1\\times 3} \\\\ \\Omega^1(1) & \\mapsto & {\\mathbb{Q}}^{1\\times 3} \\\\ \\Omega^2(2) & \\mapsto & {\\mathbb{Q}}^{1\\times 1} \\\\ \\hline & & \\\\{m_{1,2}^{1}} & \\mapsto & \\left( \\begin{array}{rrr}\n",
       " \\cdot & \\cdot & \\cdot \\\\ \n",
       " -1 & \\cdot & \\cdot \\\\ \n",
       " \\cdot & -1 & \\cdot \n",
       "\\end{array} \\right) \\\\ & & \\\\{m_{1,2}^{2}} & \\mapsto & \\left( \\begin{array}{rrr}\n",
       " 1 & \\cdot & \\cdot \\\\ \n",
       " \\cdot & \\cdot & \\cdot \\\\ \n",
       " \\cdot & \\cdot & -1 \n",
       "\\end{array} \\right) \\\\ & & \\\\{m_{1,2}^{3}} & \\mapsto & \\left( \\begin{array}{rrr}\n",
       " \\cdot & 1 & \\cdot \\\\ \n",
       " \\cdot & \\cdot & 1 \\\\ \n",
       " \\cdot & \\cdot & \\cdot \n",
       "\\end{array} \\right) \\\\ & & \\\\{m_{2,3}^{1}} & \\mapsto & \\left( \\begin{array}{rrr}\n",
       " 1 & \\cdot & \\cdot \n",
       "\\end{array} \\right) \\\\ & & \\\\{m_{2,3}^{2}} & \\mapsto & \\left( \\begin{array}{rrr}\n",
       " \\cdot & 1 & \\cdot \n",
       "\\end{array} \\right) \\\\ & & \\\\{m_{2,3}^{3}} & \\mapsto & \\left( \\begin{array}{rrr}\n",
       " \\cdot & \\cdot & 1 \n",
       "\\end{array} \\right) \\\\ & & \\\\\\end{array}$$"
      ]
     },
     "metadata": {},
     "output_type": "display_data"
    }
   ],
   "source": [
    "Show( H0_IRep_𝓞0 )"
   ]
  },
  {
   "cell_type": "code",
   "execution_count": 229,
   "metadata": {},
   "outputs": [
    {
     "data": {
      "text/plain": [
       "GAP: <An object in \u001b[35mDerived^• category(\u001b[0m The category of functors: \u001b[34mAlgebroid( \u001b[0mEnd( Ω^0(0) ⊕ Ω^1(1) ⊕ Ω^2(2) )^op\u001b[34m )\u001b[0m -> Category of matrices over Q \u001b[35m)\u001b[0m with active lower bound -1 and active upper bound 0>"
      ]
     },
     "execution_count": 229,
     "metadata": {},
     "output_type": "execute_result"
    }
   ],
   "source": [
    "IRep_𝓞1 = I( Rep_𝓞1 )"
   ]
  },
  {
   "cell_type": "code",
   "execution_count": 230,
   "metadata": {},
   "outputs": [
    {
     "data": {
      "text/plain": [
       "GAP: [ 0 ]"
      ]
     },
     "execution_count": 230,
     "metadata": {},
     "output_type": "execute_result"
    }
   ],
   "source": [
    "CohomologySupport( IRep_𝓞1 )"
   ]
  },
  {
   "cell_type": "code",
   "execution_count": 231,
   "metadata": {},
   "outputs": [
    {
     "data": {
      "text/plain": [
       "GAP: <(Ω^0(0))->6, (Ω^1(1))->8, (Ω^2(2))->3; (m1_2_1)->8x6, (m1_2_2)->8x6, (m1_2_3)->8x6, (m2_3_1)->3x8, (m2_3_2)->3x8, (m2_3_3)->3x8>"
      ]
     },
     "execution_count": 231,
     "metadata": {},
     "output_type": "execute_result"
    }
   ],
   "source": [
    "H0_IRep_𝓞1 = CohomologyAt( IRep_𝓞1, 0 )"
   ]
  },
  {
   "cell_type": "code",
   "execution_count": 232,
   "metadata": {},
   "outputs": [
    {
     "data": {
      "text/latex": [
       "$$\\begin{array}{ccc}\n",
       " \\Omega^0(0) & \\mapsto & {\\mathbb{Q}}^{1\\times 6} \\\\ \\Omega^1(1) & \\mapsto & {\\mathbb{Q}}^{1\\times 8} \\\\ \\Omega^2(2) & \\mapsto & {\\mathbb{Q}}^{1\\times 3} \\\\ \\hline & & \\\\{m_{1,2}^{1}} & \\mapsto & \\left( \\begin{array}{rrrrrr}\n",
       " \\cdot & \\cdot & \\cdot & \\cdot & \\cdot & -1 \\\\ \n",
       " \\cdot & \\cdot & 1 & \\cdot & \\cdot & \\cdot \\\\ \n",
       " \\cdot & \\cdot & \\cdot & \\cdot & \\cdot & \\cdot \\\\ \n",
       " \\cdot & \\cdot & \\cdot & \\cdot & 1 & \\cdot \\\\ \n",
       " \\cdot & -1 & \\cdot & \\cdot & \\cdot & \\cdot \\\\ \n",
       " \\cdot & \\cdot & \\cdot & \\cdot & \\cdot & \\cdot \\\\ \n",
       " \\cdot & \\cdot & \\cdot & -1 & \\cdot & \\cdot \\\\ \n",
       " \\cdot & \\cdot & \\cdot & \\cdot & -1 & \\cdot \n",
       "\\end{array} \\right) \\\\ & & \\\\{m_{1,2}^{2}} & \\mapsto & \\left( \\begin{array}{rrrrrr}\n",
       " \\cdot & \\cdot & \\cdot & \\cdot & \\cdot & \\cdot \\\\ \n",
       " -1 & \\cdot & \\cdot & \\cdot & \\cdot & \\cdot \\\\ \n",
       " \\cdot & \\cdot & \\cdot & \\cdot & -1 & \\cdot \\\\ \n",
       " \\cdot & \\cdot & \\cdot & \\cdot & \\cdot & \\cdot \\\\ \n",
       " \\cdot & \\cdot & -1 & \\cdot & \\cdot & \\cdot \\\\ \n",
       " \\cdot & \\cdot & \\cdot & 1 & \\cdot & \\cdot \\\\ \n",
       " \\cdot & \\cdot & \\cdot & \\cdot & \\cdot & \\cdot \\\\ \n",
       " \\cdot & \\cdot & \\cdot & \\cdot & \\cdot & -1 \n",
       "\\end{array} \\right) \\\\ & & \\\\{m_{1,2}^{3}} & \\mapsto & \\left( \\begin{array}{rrrrrr}\n",
       " 1 & \\cdot & \\cdot & \\cdot & \\cdot & \\cdot \\\\ \n",
       " \\cdot & \\cdot & \\cdot & \\cdot & \\cdot & \\cdot \\\\ \n",
       " \\cdot & 1 & \\cdot & \\cdot & \\cdot & \\cdot \\\\ \n",
       " \\cdot & \\cdot & 1 & \\cdot & \\cdot & \\cdot \\\\ \n",
       " \\cdot & \\cdot & \\cdot & \\cdot & \\cdot & \\cdot \\\\ \n",
       " \\cdot & \\cdot & \\cdot & \\cdot & 1 & \\cdot \\\\ \n",
       " \\cdot & \\cdot & \\cdot & \\cdot & \\cdot & 1 \\\\ \n",
       " \\cdot & \\cdot & \\cdot & \\cdot & \\cdot & \\cdot \n",
       "\\end{array} \\right) \\\\ & & \\\\{m_{2,3}^{1}} & \\mapsto & \\left( \\begin{array}{rrrrrrrr}\n",
       " \\cdot & \\cdot & \\cdot & -1 & \\cdot & \\cdot & \\cdot & -1 \\\\ \n",
       " \\cdot & \\cdot & 1 & \\cdot & \\cdot & \\cdot & \\cdot & \\cdot \\\\ \n",
       " \\cdot & \\cdot & \\cdot & \\cdot & \\cdot & 1 & \\cdot & \\cdot \n",
       "\\end{array} \\right) \\\\ & & \\\\{m_{2,3}^{2}} & \\mapsto & \\left( \\begin{array}{rrrrrrrr}\n",
       " 1 & \\cdot & \\cdot & \\cdot & \\cdot & \\cdot & \\cdot & \\cdot \\\\ \n",
       " \\cdot & \\cdot & \\cdot & 1 & \\cdot & \\cdot & \\cdot & \\cdot \\\\ \n",
       " \\cdot & \\cdot & \\cdot & \\cdot & \\cdot & \\cdot & 1 & \\cdot \n",
       "\\end{array} \\right) \\\\ & & \\\\{m_{2,3}^{3}} & \\mapsto & \\left( \\begin{array}{rrrrrrrr}\n",
       " \\cdot & 1 & \\cdot & \\cdot & \\cdot & \\cdot & \\cdot & \\cdot \\\\ \n",
       " \\cdot & \\cdot & \\cdot & \\cdot & 1 & \\cdot & \\cdot & \\cdot \\\\ \n",
       " \\cdot & \\cdot & \\cdot & \\cdot & \\cdot & \\cdot & \\cdot & 1 \n",
       "\\end{array} \\right) \\\\ & & \\\\\\end{array}$$"
      ]
     },
     "metadata": {},
     "output_type": "display_data"
    }
   ],
   "source": [
    "Show( H0_IRep_𝓞1 )"
   ]
  },
  {
   "cell_type": "code",
   "execution_count": 233,
   "metadata": {},
   "outputs": [
    {
     "data": {
      "text/plain": [
       "GAP: <An object in \u001b[35mDerived^• category(\u001b[0m The category of functors: \u001b[34mAlgebroid( \u001b[0mEnd( Ω^0(0) ⊕ Ω^1(1) ⊕ Ω^2(2) )^op\u001b[34m )\u001b[0m -> Category of matrices over Q \u001b[35m)\u001b[0m with active lower bound -2 and active upper bound 0>"
      ]
     },
     "execution_count": 233,
     "metadata": {},
     "output_type": "execute_result"
    }
   ],
   "source": [
    "IRep_𝓞2 = I( Rep_𝓞2 )"
   ]
  },
  {
   "cell_type": "code",
   "execution_count": 234,
   "metadata": {},
   "outputs": [
    {
     "data": {
      "text/plain": [
       "GAP: [ 0 ]"
      ]
     },
     "execution_count": 234,
     "metadata": {},
     "output_type": "execute_result"
    }
   ],
   "source": [
    "CohomologySupport( IRep_𝓞2 )"
   ]
  },
  {
   "cell_type": "code",
   "execution_count": 235,
   "metadata": {},
   "outputs": [
    {
     "data": {
      "text/plain": [
       "GAP: <(Ω^0(0))->10, (Ω^1(1))->15, (Ω^2(2))->6; (m1_2_1)->15x10, (m1_2_2)->15x10, (m1_2_3)->15x10, (m2_3_1)->6x15, (m2_3_2)->6x15, (m2_3_3)->6x15>"
      ]
     },
     "execution_count": 235,
     "metadata": {},
     "output_type": "execute_result"
    }
   ],
   "source": [
    "H0_IRep_𝓞2 = CohomologyAt( IRep_𝓞2, 0 )"
   ]
  },
  {
   "cell_type": "code",
   "execution_count": 236,
   "metadata": {},
   "outputs": [
    {
     "data": {
      "text/latex": [
       "$$\\begin{array}{ccc}\n",
       " \\Omega^0(0) & \\mapsto & {\\mathbb{Q}}^{1\\times 10} \\\\ \\Omega^1(1) & \\mapsto & {\\mathbb{Q}}^{1\\times 15} \\\\ \\Omega^2(2) & \\mapsto & {\\mathbb{Q}}^{1\\times 6} \\\\ \\hline & & \\\\{m_{1,2}^{1}} & \\mapsto & \\left( \\begin{array}{rrrrrrrrrr}\n",
       " \\cdot & \\cdot & -1 & \\cdot & \\cdot & \\cdot & \\cdot & \\cdot & \\cdot & \\cdot \\\\ \n",
       " \\cdot & 1 & \\cdot & \\cdot & \\cdot & \\cdot & \\cdot & \\cdot & \\cdot & \\cdot \\\\ \n",
       " \\cdot & \\cdot & \\cdot & \\cdot & \\cdot & \\cdot & -1 & \\cdot & \\cdot & \\cdot \\\\ \n",
       " \\cdot & \\cdot & \\cdot & \\cdot & 1 & \\cdot & \\cdot & \\cdot & \\cdot & \\cdot \\\\ \n",
       " \\cdot & \\cdot & \\cdot & \\cdot & \\cdot & \\cdot & \\cdot & \\cdot & \\cdot & -1 \\\\ \n",
       " \\cdot & \\cdot & \\cdot & \\cdot & \\cdot & \\cdot & 1 & \\cdot & \\cdot & \\cdot \\\\ \n",
       " \\cdot & \\cdot & \\cdot & \\cdot & \\cdot & \\cdot & \\cdot & \\cdot & \\cdot & \\cdot \\\\ \n",
       " \\cdot & \\cdot & \\cdot & \\cdot & \\cdot & 1 & \\cdot & \\cdot & \\cdot & \\cdot \\\\ \n",
       " \\cdot & \\cdot & \\cdot & -1 & \\cdot & \\cdot & \\cdot & \\cdot & \\cdot & \\cdot \\\\ \n",
       " \\cdot & \\cdot & \\cdot & \\cdot & \\cdot & \\cdot & \\cdot & \\cdot & \\cdot & \\cdot \\\\ \n",
       " \\cdot & \\cdot & \\cdot & \\cdot & \\cdot & \\cdot & \\cdot & \\cdot & 1 & \\cdot \\\\ \n",
       " \\cdot & \\cdot & \\cdot & \\cdot & \\cdot & -1 & \\cdot & \\cdot & \\cdot & \\cdot \\\\ \n",
       " \\cdot & \\cdot & \\cdot & \\cdot & \\cdot & \\cdot & \\cdot & \\cdot & \\cdot & \\cdot \\\\ \n",
       " \\cdot & \\cdot & \\cdot & \\cdot & \\cdot & \\cdot & \\cdot & -1 & \\cdot & \\cdot \\\\ \n",
       " \\cdot & \\cdot & \\cdot & \\cdot & \\cdot & \\cdot & \\cdot & \\cdot & -1 & \\cdot \n",
       "\\end{array} \\right) \\\\ & & \\\\{m_{1,2}^{2}} & \\mapsto & \\left( \\begin{array}{rrrrrrrrrr}\n",
       " \\cdot & \\cdot & \\cdot & \\cdot & \\cdot & \\cdot & \\cdot & \\cdot & \\cdot & \\cdot \\\\ \n",
       " -1 & \\cdot & \\cdot & \\cdot & \\cdot & \\cdot & \\cdot & \\cdot & \\cdot & \\cdot \\\\ \n",
       " \\cdot & \\cdot & \\cdot & \\cdot & \\cdot & \\cdot & \\cdot & \\cdot & \\cdot & \\cdot \\\\ \n",
       " \\cdot & -1 & \\cdot & \\cdot & \\cdot & \\cdot & \\cdot & \\cdot & \\cdot & \\cdot \\\\ \n",
       " \\cdot & \\cdot & \\cdot & \\cdot & \\cdot & \\cdot & \\cdot & \\cdot & \\cdot & \\cdot \\\\ \n",
       " \\cdot & \\cdot & -1 & \\cdot & \\cdot & \\cdot & \\cdot & \\cdot & \\cdot & \\cdot \\\\ \n",
       " \\cdot & \\cdot & \\cdot & \\cdot & \\cdot & -1 & \\cdot & \\cdot & \\cdot & \\cdot \\\\ \n",
       " \\cdot & \\cdot & \\cdot & \\cdot & \\cdot & \\cdot & \\cdot & \\cdot & \\cdot & \\cdot \\\\ \n",
       " \\cdot & \\cdot & \\cdot & \\cdot & -1 & \\cdot & \\cdot & \\cdot & \\cdot & \\cdot \\\\ \n",
       " \\cdot & \\cdot & \\cdot & \\cdot & \\cdot & \\cdot & \\cdot & \\cdot & -1 & \\cdot \\\\ \n",
       " \\cdot & \\cdot & \\cdot & \\cdot & \\cdot & \\cdot & \\cdot & \\cdot & \\cdot & \\cdot \\\\ \n",
       " \\cdot & \\cdot & \\cdot & \\cdot & \\cdot & \\cdot & -1 & \\cdot & \\cdot & \\cdot \\\\ \n",
       " \\cdot & \\cdot & \\cdot & \\cdot & \\cdot & \\cdot & \\cdot & 1 & \\cdot & \\cdot \\\\ \n",
       " \\cdot & \\cdot & \\cdot & \\cdot & \\cdot & \\cdot & \\cdot & \\cdot & \\cdot & \\cdot \\\\ \n",
       " \\cdot & \\cdot & \\cdot & \\cdot & \\cdot & \\cdot & \\cdot & \\cdot & \\cdot & -1 \n",
       "\\end{array} \\right) \\\\ & & \\\\{m_{1,2}^{3}} & \\mapsto & \\left( \\begin{array}{rrrrrrrrrr}\n",
       " 1 & \\cdot & \\cdot & \\cdot & \\cdot & \\cdot & \\cdot & \\cdot & \\cdot & \\cdot \\\\ \n",
       " \\cdot & \\cdot & \\cdot & \\cdot & \\cdot & \\cdot & \\cdot & \\cdot & \\cdot & \\cdot \\\\ \n",
       " \\cdot & 1 & \\cdot & \\cdot & \\cdot & \\cdot & \\cdot & \\cdot & \\cdot & \\cdot \\\\ \n",
       " \\cdot & \\cdot & \\cdot & \\cdot & \\cdot & \\cdot & \\cdot & \\cdot & \\cdot & \\cdot \\\\ \n",
       " \\cdot & \\cdot & 1 & \\cdot & \\cdot & \\cdot & \\cdot & \\cdot & \\cdot & \\cdot \\\\ \n",
       " \\cdot & \\cdot & \\cdot & \\cdot & \\cdot & \\cdot & \\cdot & \\cdot & \\cdot & \\cdot \\\\ \n",
       " \\cdot & \\cdot & \\cdot & 1 & \\cdot & \\cdot & \\cdot & \\cdot & \\cdot & \\cdot \\\\ \n",
       " \\cdot & \\cdot & \\cdot & \\cdot & 1 & \\cdot & \\cdot & \\cdot & \\cdot & \\cdot \\\\ \n",
       " \\cdot & \\cdot & \\cdot & \\cdot & \\cdot & \\cdot & \\cdot & \\cdot & \\cdot & \\cdot \\\\ \n",
       " \\cdot & \\cdot & \\cdot & \\cdot & \\cdot & 1 & \\cdot & \\cdot & \\cdot & \\cdot \\\\ \n",
       " \\cdot & \\cdot & \\cdot & \\cdot & \\cdot & \\cdot & 1 & \\cdot & \\cdot & \\cdot \\\\ \n",
       " \\cdot & \\cdot & \\cdot & \\cdot & \\cdot & \\cdot & \\cdot & \\cdot & \\cdot & \\cdot \\\\ \n",
       " \\cdot & \\cdot & \\cdot & \\cdot & \\cdot & \\cdot & \\cdot & \\cdot & 1 & \\cdot \\\\ \n",
       " \\cdot & \\cdot & \\cdot & \\cdot & \\cdot & \\cdot & \\cdot & \\cdot & \\cdot & 1 \\\\ \n",
       " \\cdot & \\cdot & \\cdot & \\cdot & \\cdot & \\cdot & \\cdot & \\cdot & \\cdot & \\cdot \n",
       "\\end{array} \\right) \\\\ & & \\\\{m_{2,3}^{1}} & \\mapsto & \\left( \\begin{array}{rrrrrrrrrrrrrrr}\n",
       " \\cdot & \\cdot & -1 & \\cdot & \\cdot & -1 & \\cdot & \\cdot & \\cdot & \\cdot & \\cdot & \\cdot & \\cdot & \\cdot & \\cdot \\\\ \n",
       " \\cdot & \\cdot & \\cdot & \\cdot & \\cdot & \\cdot & \\cdot & -1 & \\cdot & \\cdot & \\cdot & -1 & \\cdot & \\cdot & \\cdot \\\\ \n",
       " \\cdot & \\cdot & \\cdot & \\cdot & \\cdot & \\cdot & \\cdot & \\cdot & \\cdot & \\cdot & -1 & \\cdot & \\cdot & \\cdot & -1 \\\\ \n",
       " \\cdot & \\cdot & \\cdot & \\cdot & \\cdot & \\cdot & 1 & \\cdot & \\cdot & \\cdot & \\cdot & \\cdot & \\cdot & \\cdot & \\cdot \\\\ \n",
       " \\cdot & \\cdot & \\cdot & \\cdot & \\cdot & \\cdot & \\cdot & \\cdot & \\cdot & 1 & \\cdot & \\cdot & \\cdot & \\cdot & \\cdot \\\\ \n",
       " \\cdot & \\cdot & \\cdot & \\cdot & \\cdot & \\cdot & \\cdot & \\cdot & \\cdot & \\cdot & \\cdot & \\cdot & 1 & \\cdot & \\cdot \n",
       "\\end{array} \\right) \\\\ & & \\\\{m_{2,3}^{2}} & \\mapsto & \\left( \\begin{array}{rrrrrrrrrrrrrrr}\n",
       " 1 & \\cdot & \\cdot & \\cdot & \\cdot & \\cdot & \\cdot & \\cdot & \\cdot & \\cdot & \\cdot & \\cdot & \\cdot & \\cdot & \\cdot \\\\ \n",
       " \\cdot & \\cdot & 1 & \\cdot & \\cdot & \\cdot & \\cdot & \\cdot & \\cdot & \\cdot & \\cdot & \\cdot & \\cdot & \\cdot & \\cdot \\\\ \n",
       " \\cdot & \\cdot & \\cdot & \\cdot & 1 & \\cdot & \\cdot & \\cdot & \\cdot & \\cdot & \\cdot & \\cdot & \\cdot & \\cdot & \\cdot \\\\ \n",
       " \\cdot & \\cdot & \\cdot & \\cdot & \\cdot & \\cdot & \\cdot & 1 & \\cdot & \\cdot & \\cdot & \\cdot & \\cdot & \\cdot & \\cdot \\\\ \n",
       " \\cdot & \\cdot & \\cdot & \\cdot & \\cdot & \\cdot & \\cdot & \\cdot & \\cdot & \\cdot & 1 & \\cdot & \\cdot & \\cdot & \\cdot \\\\ \n",
       " \\cdot & \\cdot & \\cdot & \\cdot & \\cdot & \\cdot & \\cdot & \\cdot & \\cdot & \\cdot & \\cdot & \\cdot & \\cdot & 1 & \\cdot \n",
       "\\end{array} \\right) \\\\ & & \\\\{m_{2,3}^{3}} & \\mapsto & \\left( \\begin{array}{rrrrrrrrrrrrrrr}\n",
       " \\cdot & 1 & \\cdot & \\cdot & \\cdot & \\cdot & \\cdot & \\cdot & \\cdot & \\cdot & \\cdot & \\cdot & \\cdot & \\cdot & \\cdot \\\\ \n",
       " \\cdot & \\cdot & \\cdot & 1 & \\cdot & \\cdot & \\cdot & \\cdot & \\cdot & \\cdot & \\cdot & \\cdot & \\cdot & \\cdot & \\cdot \\\\ \n",
       " \\cdot & \\cdot & \\cdot & \\cdot & \\cdot & 1 & \\cdot & \\cdot & \\cdot & \\cdot & \\cdot & \\cdot & \\cdot & \\cdot & \\cdot \\\\ \n",
       " \\cdot & \\cdot & \\cdot & \\cdot & \\cdot & \\cdot & \\cdot & \\cdot & 1 & \\cdot & \\cdot & \\cdot & \\cdot & \\cdot & \\cdot \\\\ \n",
       " \\cdot & \\cdot & \\cdot & \\cdot & \\cdot & \\cdot & \\cdot & \\cdot & \\cdot & \\cdot & \\cdot & 1 & \\cdot & \\cdot & \\cdot \\\\ \n",
       " \\cdot & \\cdot & \\cdot & \\cdot & \\cdot & \\cdot & \\cdot & \\cdot & \\cdot & \\cdot & \\cdot & \\cdot & \\cdot & \\cdot & 1 \n",
       "\\end{array} \\right) \\\\ & & \\\\\\end{array}$$"
      ]
     },
     "metadata": {},
     "output_type": "display_data"
    }
   ],
   "source": [
    "Show( H0_IRep_𝓞2 )"
   ]
  },
  {
   "cell_type": "code",
   "execution_count": null,
   "metadata": {},
   "outputs": [],
   "source": []
  }
 ],
 "metadata": {
  "@webio": {
   "lastCommId": null,
   "lastKernelId": null
  },
  "kernelspec": {
   "display_name": "Julia 1.5.2",
   "language": "julia",
   "name": "julia-1.5"
  },
  "language_info": {
   "file_extension": ".jl",
   "mimetype": "application/julia",
   "name": "julia",
   "version": "1.5.2"
  }
 },
 "nbformat": 4,
 "nbformat_minor": 2
}
