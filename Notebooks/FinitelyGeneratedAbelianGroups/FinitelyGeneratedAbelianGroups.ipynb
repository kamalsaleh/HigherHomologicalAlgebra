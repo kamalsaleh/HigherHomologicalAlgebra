{
 "cells": [
  {
   "cell_type": "code",
   "execution_count": 1,
   "metadata": {},
   "outputs": [
    {
     "name": "stdout",
     "output_type": "stream",
     "text": [
      "\n",
      "Welcome to Nemo version 0.18.1\n",
      "\n",
      "Nemo comes with absolutely no warranty whatsoever\n",
      "\n",
      "Singular.jl, based on\n",
      "                     SINGULAR                                 /  \n",
      " A Computer Algebra System for Polynomial Computations       /  Singular.jl: 0.4.1 \n",
      "                                                           0<   Singular   : 2.3.1-4\n",
      " by: W. Decker, G.-M. Greuel, G. Pfister, H. Schoenemann     \\   \n",
      "FB Mathematik der Universitaet, D-67653 Kaiserslautern        \\\n",
      "     \n",
      " ┌───────┐   GAP 4.11.0 of 29-Feb-2020\n",
      " │  GAP  │   https://www.gap-system.org\n",
      " └───────┘   Architecture: x86_64-pc-linux-gnu-julia64-kv7-v1.4\n",
      " Configuration:  gmp 6.1.2, Julia GC, Julia 1.4.1, readline\n",
      " Loading the library and packages ...\n",
      " Packages:   GAPDoc 1.6.3, IO 4.7.0, PrimGrp 3.4.0, SmallGrp 1.4.1, \n",
      "             TransGrp 2.0.5\n",
      " Try '??help' for help. See also '?copyright', '?cite' and '?authors'\n",
      "HomalgProject v\u001b[32m0.5.4\u001b[39m\n",
      "Imported OSCAR's components GAP, Nemo, and Singular\n",
      "Type: ?HomalgProject for more information\n"
     ]
    }
   ],
   "source": [
    "using HomalgProject"
   ]
  },
  {
   "cell_type": "code",
   "execution_count": 2,
   "metadata": {},
   "outputs": [],
   "source": [
    "LoadPackage( \"FreydCategoriesForCAP\" )"
   ]
  },
  {
   "cell_type": "code",
   "execution_count": 3,
   "metadata": {},
   "outputs": [],
   "source": [
    "LoadPackage( \"ComplexesCategories\" )\n",
    "LoadPackage( \"ToolsForHigherHomologicalAlgebra\" )\n",
    "SET_SPECIAL_SETTINGS()"
   ]
  },
  {
   "cell_type": "markdown",
   "metadata": {},
   "source": [
    "In abstract algebra, an abelian group $(M, +)$ is called finitely generated if there exist finitely many elements $m_1, ..., m_n$ in $M$ such that every $m$ in $M$ can be written in the form $m = a_1\\cdot m_1 + a_2\\cdot m_2 + \\dots + a_n\\cdot m_n$ with integers $a_1,\\dots, a_n\\in\\mathbb{Z}$. In this case, we say that the set $\\{m_1, ..., m_n\\}$ is a generating set of $M$.\n",
    "\n",
    "It is obvious that every finitely generated abelian group is a finitely generated $\\mathbb{Z}$-module, which is, $\\mathbb{Z}$ being noetherian, also finitely presented. In other words, the group $M$ can be written as a cokernel of a $\\mathbb{Z}$-module homomorphism between free $\\mathbb{Z}$-modules. The matrix of such $\\mathbb{Z}$-homomorphism will be called a presentation matrix for $M$. The presentation matrix depictes the relations between the generators of $M$. For instance if\n",
    "$$M=\\langle m_1,m_2,m_3| 2m_1-3m_2=0,5m_1+7m_2+m_3=0\\rangle,$$\n",
    "then $M$ can be presented by the matrix $$\\mathtt{M}:=\\begin{pmatrix}2&-3&0\\\\5&7&1\\end{pmatrix},$$\n",
    "i.e., the abelian group $M$ is isomorphic to the cokernel of the map $p_M:\\mathbb{Z}^{2}\\rightarrow \\mathbb{Z}^{3}$\n",
    "defined, in row-convention, by the above matrix. In the following, we will define the abelian group $M$ in CAP.\n",
    "\n",
    "We start by defining the ring of integers $\\mathbb{Z}$"
   ]
  },
  {
   "cell_type": "code",
   "execution_count": 4,
   "metadata": {},
   "outputs": [
    {
     "data": {
      "text/plain": [
       "GAP: Z"
      ]
     },
     "execution_count": 4,
     "metadata": {},
     "output_type": "execute_result"
    }
   ],
   "source": [
    "ℤ = HomalgRingOfIntegers()"
   ]
  },
  {
   "cell_type": "markdown",
   "metadata": {},
   "source": [
    "The category of free $\\mathbb{Z}$-modules can be modeled in CAP by the category of rows of $\\mathbb{Z}$"
   ]
  },
  {
   "cell_type": "code",
   "execution_count": 5,
   "metadata": {},
   "outputs": [
    {
     "data": {
      "text/plain": [
       "GAP: Rows( Z )"
      ]
     },
     "execution_count": 5,
     "metadata": {},
     "output_type": "execute_result"
    }
   ],
   "source": [
    "rows_ℤ = CategoryOfRows( ℤ )"
   ]
  },
  {
   "cell_type": "markdown",
   "metadata": {},
   "source": [
    "Now we define the above $f$ as a morphism in the category of rows"
   ]
  },
  {
   "cell_type": "code",
   "execution_count": 6,
   "metadata": {},
   "outputs": [
    {
     "data": {
      "text/plain": [
       "GAP: <A 2 x 3 matrix over an internal ring>"
      ]
     },
     "execution_count": 6,
     "metadata": {},
     "output_type": "execute_result"
    }
   ],
   "source": [
    "mat_M = HomalgMatrix( \"[[2,-3,0],[5,7,1]]\", 2, 3, ℤ )"
   ]
  },
  {
   "cell_type": "code",
   "execution_count": 7,
   "metadata": {},
   "outputs": [
    {
     "name": "stdout",
     "output_type": "stream",
     "text": [
      "[ [   2,  -3,   0 ],\n",
      "  [   5,   7,   1 ] ]\n"
     ]
    }
   ],
   "source": [
    "Display( mat_M )"
   ]
  },
  {
   "cell_type": "code",
   "execution_count": 8,
   "metadata": {},
   "outputs": [
    {
     "data": {
      "text/plain": [
       "GAP: <A morphism in Rows( Z )>"
      ]
     },
     "execution_count": 8,
     "metadata": {},
     "output_type": "execute_result"
    }
   ],
   "source": [
    "p_M = mat_M / rows_ℤ"
   ]
  },
  {
   "cell_type": "code",
   "execution_count": 9,
   "metadata": {},
   "outputs": [
    {
     "data": {
      "text/latex": [
       "$$\\mathbb{Z}^{1 \\times 2}\\left( \\begin{array}{rrr}\n",
       " 2 & -3 & \\cdot \\\\ \n",
       " 5 & 7 & 1 \n",
       "\\end{array} \\right)\\mathbb{Z}^{1 \\times 3}$$"
      ]
     },
     "metadata": {},
     "output_type": "display_data"
    }
   ],
   "source": [
    "Show( p_M )"
   ]
  },
  {
   "cell_type": "markdown",
   "metadata": {},
   "source": [
    "Say now, we have two finitely generated abelian groups $M$ and $L$, presented by matrices $\\mathtt{M}$ resp. $\\mathtt{L}$.\n",
    "I.e., we have two exact sequences:\n",
    "$$\\mathbb{Z}^{1\\times r}\\xrightarrow[]{\\mathtt{M}} \\mathbb{Z}^{1\\times s}\\rightarrow M \\rightarrow 0,$$\n",
    "$$\\mathbb{Z}^{1\\times u}\\xrightarrow[]{\\mathtt{L}} \\mathbb{Z}^{1\\times v}\\rightarrow L \\rightarrow 0.$$\n",
    "\n",
    "By the fact the $\\mathbb{Z}$ is a projective $\\mathbb{Z}$-module, it can easily by shown that any $\\mathbb{Z }$-homomorphism\n",
    "$\\alpha:M\\to N$ can be extended to a commutative diagram:\n",
    "$$\\begin{array}{ccc}\n",
    "&\\mathbb{Z}^{1\\times r}&\\xrightarrow[]{\\mathtt{M}}&\\mathbb{Z}^{1\\times s} & \\to & M\\\\\n",
    "&\\mathtt{X}\\downarrow& &\\downarrow \\mathtt{A} & & \\phantom{\\alpha}\\downarrow \\alpha \\\\\n",
    "&\\mathbb{Z}^{1\\times u}&\\xrightarrow[]{\\mathtt{L}}&\\mathbb{Z}^{1\\times v} & \\to & L\\\\\n",
    "\\end{array}$$\n",
    "\n",
    "The morphism $\\mathbb{Z}^{1\\times s}\\xrightarrow[]{\\mathtt{A}} \\mathbb{Z}^{1\\times v}$ will be called the\n",
    "$\\textbf{datum}$ morphism for $\\alpha$ and the morphism $\\mathbb{Z}^{1\\times r}\\xrightarrow[]{\\mathtt{X}} \\mathbb{Z}^{1\\times u}$ will be called a $\\textbf{witness}$ morphism for $\\alpha$. Of course, there might be more than one datum morphism for $\\alpha$, but all datum morphisms of $\\alpha$ are equivalent in the sense that for any two datums\n",
    "$\\mathbb{Z}^{1\\times s}\\xrightarrow[]{\\mathtt{A}} \\mathbb{Z}^{1\\times v}$ and \n",
    "$\\mathbb{Z}^{1\\times s}\\xrightarrow[]{\\mathtt{B}} \\mathbb{Z}^{1\\times v}$ of $\\alpha$, the image of their difference $\\mathbb{Z}^{1\\times s}\\xrightarrow[]{\\mathtt{A-B}} \\mathbb{Z}^{1\\times v}$ is contained in the image of $\\mathbb{Z}^{1\\times u}\\xrightarrow[]{\\mathtt{L}} \\mathbb{Z}^{1\\times v}$; or in other words, the difference morphism $\\mathbb{Z}^{1\\times r}\\xrightarrow[]{\\mathtt{A-B}} \\mathbb{Z}^{1\\times v}$ factors along \n",
    "$\\mathbb{Z}^{1\\times u}\\xrightarrow[]{\\mathtt{L}} \\mathbb{Z}^{1\\times v}$.\n",
    "\n",
    "Hence, we can identify the abelian group $M$ with its presentation matrix $\\mathtt{M}$, and each morphism $\\alpha$ with the equivalence class of some datum morphism $\\mathbb{Z}^{1\\times s}\\xrightarrow[]{\\mathtt{A}} \\mathbb{Z}^{1\\times v}$ for $\\alpha$.\n",
    "\n",
    "This identification can be realized by one of the three different CAP-based GAP packages:\n",
    "   - [FreydCategoriesForCAP](https://github.com/homalg-project/CAP_project)\n",
    "   - [ModulePresentationsForCAP](https://github.com/homalg-project/CAP_project)\n",
    "   - [IntrinsicModules](https://github.com/homalg-project/IntrinsicModules)\n",
    "   \n",
    "Let us create a Freyd category of the category of $\\mathbb{Z}$-rows, which is a model for the finitely presented $\\mathbb{Z}$-modules, or in other words, finitely generated abelian groups."
   ]
  },
  {
   "cell_type": "code",
   "execution_count": 10,
   "metadata": {},
   "outputs": [
    {
     "data": {
      "text/plain": [
       "GAP: Freyd( Rows( Z ) )"
      ]
     },
     "execution_count": 10,
     "metadata": {},
     "output_type": "execute_result"
    }
   ],
   "source": [
    "freyd_rows_ℤ = FreydCategory( rows_ℤ )"
   ]
  },
  {
   "cell_type": "code",
   "execution_count": 11,
   "metadata": {},
   "outputs": [
    {
     "name": "stdout",
     "output_type": "stream",
     "text": [
      "57 primitive operations were used to derive 249 operations for this category which\n",
      "* IsLinearCategoryOverCommutativeRing\n",
      "* IsSymmetricClosedMonoidalCategory\n",
      "* IsClosedMonoidalCategory\n",
      "* IsAbelianCategoryWithEnoughProjectives\n"
     ]
    }
   ],
   "source": [
    "InfoOfInstalledOperationsOfCategory( freyd_rows_ℤ )"
   ]
  },
  {
   "cell_type": "markdown",
   "metadata": {},
   "source": [
    "Now we use morphism $p_M$ to define the object $M$, whose mathematical interpretation is the $\\mathbb{Z}$-module presented by the $p_M$"
   ]
  },
  {
   "cell_type": "code",
   "execution_count": 12,
   "metadata": {},
   "outputs": [
    {
     "data": {
      "text/plain": [
       "GAP: <An object in Freyd( Rows( Z ) )>"
      ]
     },
     "execution_count": 12,
     "metadata": {},
     "output_type": "execute_result"
    }
   ],
   "source": [
    "M = p_M / freyd_rows_ℤ"
   ]
  },
  {
   "cell_type": "code",
   "execution_count": 13,
   "metadata": {},
   "outputs": [
    {
     "data": {
      "text/latex": [
       "$$\\big(\\mathbb{Z}^{1 \\times 2}\\xrightarrow{\\left( \\begin{array}{rrr}\n",
       " 2 & -3 & \\cdot \\\\ \n",
       " 5 & 7 & 1 \n",
       "\\end{array} \\right)}\\mathbb{Z}^{1 \\times 3}\\big)_{\\mathcal{A}}$$"
      ]
     },
     "metadata": {},
     "output_type": "display_data"
    }
   ],
   "source": [
    "Show( M )"
   ]
  },
  {
   "cell_type": "code",
   "execution_count": 14,
   "metadata": {},
   "outputs": [
    {
     "data": {
      "text/plain": [
       "GAP: <A morphism in Freyd( Rows( Z ) )>"
      ]
     },
     "execution_count": 14,
     "metadata": {},
     "output_type": "execute_result"
    }
   ],
   "source": [
    "pi = EpimorphismFromSomeProjectiveObject( M )"
   ]
  },
  {
   "cell_type": "code",
   "execution_count": 15,
   "metadata": {},
   "outputs": [
    {
     "data": {
      "text/latex": [
       "$${ \\tiny \\big(\\mathbb{Z}^{1 \\times 0}\\xrightarrow{()_{0 \\times 3}}\\mathbb{Z}^{1 \\times 3}\\big)_{\\mathcal{A}}}{\\color{blue}{\\xrightarrow{\\left( \\begin{array}{rrr}\n",
       " 1 & \\cdot & \\cdot \\\\ \n",
       " \\cdot & 1 & \\cdot \\\\ \n",
       " \\cdot & \\cdot & 1 \n",
       "\\end{array} \\right)}}}{ \\tiny \\big(\\mathbb{Z}^{1 \\times 2}\\xrightarrow{\\left( \\begin{array}{rrr}\n",
       " 2 & -3 & \\cdot \\\\ \n",
       " 5 & 7 & 1 \n",
       "\\end{array} \\right)}\\mathbb{Z}^{1 \\times 3}\\big)_{\\mathcal{A}}}$$"
      ]
     },
     "metadata": {},
     "output_type": "display_data"
    }
   ],
   "source": [
    "Show( pi )"
   ]
  },
  {
   "cell_type": "code",
   "execution_count": 16,
   "metadata": {},
   "outputs": [
    {
     "data": {
      "text/plain": [
       "GAP: <A morphism in Rows( Z )>"
      ]
     },
     "execution_count": 16,
     "metadata": {},
     "output_type": "execute_result"
    }
   ],
   "source": [
    "datum_pi = MorphismDatum( pi )"
   ]
  },
  {
   "cell_type": "code",
   "execution_count": 17,
   "metadata": {},
   "outputs": [
    {
     "data": {
      "text/latex": [
       "$$\\mathbb{Z}^{1 \\times 3}\\left( \\begin{array}{rrr}\n",
       " 1 & \\cdot & \\cdot \\\\ \n",
       " \\cdot & 1 & \\cdot \\\\ \n",
       " \\cdot & \\cdot & 1 \n",
       "\\end{array} \\right)\\mathbb{Z}^{1 \\times 3}$$"
      ]
     },
     "metadata": {},
     "output_type": "display_data"
    }
   ],
   "source": [
    "Show( datum_pi )"
   ]
  },
  {
   "cell_type": "code",
   "execution_count": 18,
   "metadata": {},
   "outputs": [
    {
     "data": {
      "text/plain": [
       "GAP: <A morphism in Rows( Z )>"
      ]
     },
     "execution_count": 18,
     "metadata": {},
     "output_type": "execute_result"
    }
   ],
   "source": [
    "witness_pi = MorphismWitness( pi )"
   ]
  },
  {
   "cell_type": "code",
   "execution_count": 19,
   "metadata": {},
   "outputs": [
    {
     "data": {
      "text/latex": [
       "$$\\mathbb{Z}^{1 \\times 0}()_{0 \\times 2}\\mathbb{Z}^{1 \\times 2}$$"
      ]
     },
     "metadata": {},
     "output_type": "display_data"
    }
   ],
   "source": [
    "Show( witness_pi )"
   ]
  },
  {
   "cell_type": "markdown",
   "metadata": {},
   "source": [
    "We simplify now $M$ to get a simpler presentation matrix:"
   ]
  },
  {
   "cell_type": "code",
   "execution_count": 20,
   "metadata": {},
   "outputs": [
    {
     "data": {
      "text/plain": [
       "GAP: <An object in Freyd( Rows( Z ) )>"
      ]
     },
     "execution_count": 20,
     "metadata": {},
     "output_type": "execute_result"
    }
   ],
   "source": [
    "sM = SimplifyObject( M, infinity )"
   ]
  },
  {
   "cell_type": "code",
   "execution_count": 21,
   "metadata": {},
   "outputs": [
    {
     "data": {
      "text/latex": [
       "$$\\big(\\mathbb{Z}^{1 \\times 0}\\xrightarrow{()_{0 \\times 1}}\\mathbb{Z}^{1 \\times 1}\\big)_{\\mathcal{A}}$$"
      ]
     },
     "metadata": {},
     "output_type": "display_data"
    }
   ],
   "source": [
    "Show( sM )"
   ]
  },
  {
   "cell_type": "markdown",
   "metadata": {},
   "source": [
    "Which means that $M$ is isomorphic to a free $\\mathbb{Z}$-module of rank $1$."
   ]
  },
  {
   "cell_type": "code",
   "execution_count": 22,
   "metadata": {},
   "outputs": [
    {
     "data": {
      "text/latex": [
       "true"
      ],
      "text/plain": [
       "true"
      ]
     },
     "execution_count": 22,
     "metadata": {},
     "output_type": "execute_result"
    }
   ],
   "source": [
    "IsProjective( M )"
   ]
  },
  {
   "cell_type": "markdown",
   "metadata": {},
   "source": [
    "Of course, we can also compute the isomorphism between them $M$ and its simplification:"
   ]
  },
  {
   "cell_type": "code",
   "execution_count": 23,
   "metadata": {},
   "outputs": [
    {
     "data": {
      "text/latex": [
       "true"
      ],
      "text/plain": [
       "true"
      ]
     },
     "execution_count": 23,
     "metadata": {},
     "output_type": "execute_result"
    }
   ],
   "source": [
    "i = SimplifyObject_IsoFromInputObject( M, infinity )\n",
    "IsIsomorphism( i )"
   ]
  },
  {
   "cell_type": "code",
   "execution_count": 24,
   "metadata": {},
   "outputs": [
    {
     "data": {
      "text/latex": [
       "$${ \\tiny \\big(\\mathbb{Z}^{1 \\times 2}\\xrightarrow{\\left( \\begin{array}{rrr}\n",
       " 2 & -3 & \\cdot \\\\ \n",
       " 5 & 7 & 1 \n",
       "\\end{array} \\right)}\\mathbb{Z}^{1 \\times 3}\\big)_{\\mathcal{A}}}{\\color{blue}{\\xrightarrow{\\left( \\begin{array}{r}\n",
       " -3 \\\\ \n",
       " -2 \\\\ \n",
       " 29 \n",
       "\\end{array} \\right)}}}{ \\tiny \\big(\\mathbb{Z}^{1 \\times 0}\\xrightarrow{()_{0 \\times 1}}\\mathbb{Z}^{1 \\times 1}\\big)_{\\mathcal{A}}}$$"
      ]
     },
     "metadata": {},
     "output_type": "display_data"
    }
   ],
   "source": [
    "Show( i )"
   ]
  },
  {
   "cell_type": "code",
   "execution_count": 25,
   "metadata": {},
   "outputs": [
    {
     "data": {
      "text/latex": [
       "true"
      ],
      "text/plain": [
       "true"
      ]
     },
     "execution_count": 25,
     "metadata": {},
     "output_type": "execute_result"
    }
   ],
   "source": [
    "j = SimplifyObject_IsoToInputObject( M, infinity )\n",
    "IsIsomorphism( j )"
   ]
  },
  {
   "cell_type": "code",
   "execution_count": 26,
   "metadata": {},
   "outputs": [
    {
     "data": {
      "text/latex": [
       "$${ \\tiny \\big(\\mathbb{Z}^{1 \\times 0}\\xrightarrow{()_{0 \\times 1}}\\mathbb{Z}^{1 \\times 1}\\big)_{\\mathcal{A}}}{\\color{blue}{\\xrightarrow{\\left( \\begin{array}{rrr}\n",
       " \\cdot & 14 & 1 \n",
       "\\end{array} \\right)}}}{ \\tiny \\big(\\mathbb{Z}^{1 \\times 2}\\xrightarrow{\\left( \\begin{array}{rrr}\n",
       " 2 & -3 & \\cdot \\\\ \n",
       " 5 & 7 & 1 \n",
       "\\end{array} \\right)}\\mathbb{Z}^{1 \\times 3}\\big)_{\\mathcal{A}}}$$"
      ]
     },
     "metadata": {},
     "output_type": "display_data"
    }
   ],
   "source": [
    "Show( j )"
   ]
  },
  {
   "cell_type": "code",
   "execution_count": 27,
   "metadata": {},
   "outputs": [
    {
     "data": {
      "text/latex": [
       "true"
      ],
      "text/plain": [
       "true"
      ]
     },
     "execution_count": 27,
     "metadata": {},
     "output_type": "execute_result"
    }
   ],
   "source": [
    "IsCongruentForMorphisms( i, Inverse( j ) )"
   ]
  },
  {
   "cell_type": "markdown",
   "metadata": {},
   "source": [
    "Let us create the $\\mathbb{Z}$-module presented by the matrix:\n",
    "\n",
    "$\\left( \\begin{array}{rrrr}\n",
    " 16 & 2 & 18 & -14 \\\\ \n",
    " -2 & 18 & -2 & 20 \\\\ \n",
    " -28 & 14 & -26 & 42 \n",
    "\\end{array} \\right)$"
   ]
  },
  {
   "cell_type": "code",
   "execution_count": 28,
   "metadata": {},
   "outputs": [
    {
     "data": {
      "text/plain": [
       "GAP: <A 3 x 4 matrix over an internal ring>"
      ]
     },
     "execution_count": 28,
     "metadata": {},
     "output_type": "execute_result"
    }
   ],
   "source": [
    "mat_N = HomalgMatrix( \"[[16,2,18,-14],[-2,18,-2,20],[-28,14,-26,42]]\", 3, 4, ℤ )"
   ]
  },
  {
   "cell_type": "code",
   "execution_count": 29,
   "metadata": {},
   "outputs": [
    {
     "data": {
      "text/plain": [
       "GAP: <An object in Freyd( Rows( Z ) )>"
      ]
     },
     "execution_count": 29,
     "metadata": {},
     "output_type": "execute_result"
    }
   ],
   "source": [
    "N = mat_N / rows_ℤ / freyd_rows_ℤ"
   ]
  },
  {
   "cell_type": "code",
   "execution_count": 30,
   "metadata": {},
   "outputs": [
    {
     "data": {
      "text/latex": [
       "$$\\big(\\mathbb{Z}^{1 \\times 3}\\xrightarrow{\\left( \\begin{array}{rrrr}\n",
       " 16 & 2 & 18 & -14 \\\\ \n",
       " -2 & 18 & -2 & 20 \\\\ \n",
       " -28 & 14 & -26 & 42 \n",
       "\\end{array} \\right)}\\mathbb{Z}^{1 \\times 4}\\big)_{\\mathcal{A}}$$"
      ]
     },
     "metadata": {},
     "output_type": "display_data"
    }
   ],
   "source": [
    "Show( N )"
   ]
  },
  {
   "cell_type": "code",
   "execution_count": 31,
   "metadata": {},
   "outputs": [
    {
     "data": {
      "text/latex": [
       "$$\\big(\\mathbb{Z}^{1 \\times 3}\\xrightarrow{\\left( \\begin{array}{rrrr}\n",
       " 2 & \\cdot & \\cdot & \\cdot \\\\ \n",
       " \\cdot & 2 & \\cdot & \\cdot \\\\ \n",
       " \\cdot & \\cdot & 384 & \\cdot \n",
       "\\end{array} \\right)}\\mathbb{Z}^{1 \\times 4}\\big)_{\\mathcal{A}}$$"
      ]
     },
     "metadata": {},
     "output_type": "display_data"
    }
   ],
   "source": [
    "Show( SimplifyObject( N, infinity ) )"
   ]
  },
  {
   "cell_type": "markdown",
   "metadata": {},
   "source": [
    "Hence, $N$ is isomorphic to the abelian group $\\mathbb{Z}/2\\mathbb{Z}\\oplus\\mathbb{Z}/2\\mathbb{Z}\\oplus\\mathbb{Z}/384\\mathbb{Z}\\oplus\\mathbb{Z}$."
   ]
  },
  {
   "cell_type": "markdown",
   "metadata": {},
   "source": [
    "In the following we define the $\\mathbb{Z}$-homomorphism between $\\alpha:M\\to N$ whose datum morphism is given by the matrix:\n",
    "  \n",
    "  $$d=\\left( \\begin{array}{rrrr}\n",
    " -37 & -6 & -3949 & -2058032 \\\\ \n",
    " \\cdot & \\cdot & -6622 & -1372042 \\\\ \n",
    " -37 & -6 & -141 & 19894640 \n",
    "\\end{array} \\right)$$"
   ]
  },
  {
   "cell_type": "code",
   "execution_count": 86,
   "metadata": {},
   "outputs": [
    {
     "data": {
      "text/plain": [
       "GAP: <A 3 x 4 matrix over an internal ring>"
      ]
     },
     "execution_count": 86,
     "metadata": {},
     "output_type": "execute_result"
    }
   ],
   "source": [
    "A = HomalgMatrix( \"[[-37,-6,-3949,-2058032],[0,0,-6622,-1372042],[-37,-6,-141,19894640]]\", 3, 4, ℤ )"
   ]
  },
  {
   "cell_type": "code",
   "execution_count": 87,
   "metadata": {},
   "outputs": [
    {
     "data": {
      "text/plain": [
       "GAP: <A morphism in Rows( Z )>"
      ]
     },
     "execution_count": 87,
     "metadata": {},
     "output_type": "execute_result"
    }
   ],
   "source": [
    "dα = A / rows_ℤ"
   ]
  },
  {
   "cell_type": "code",
   "execution_count": 77,
   "metadata": {},
   "outputs": [
    {
     "data": {
      "text/latex": [
       "$$\\mathbb{Z}^{1 \\times 3}\\left( \\begin{array}{rrrr}\n",
       " -37 & -6 & -3949 & -2058032 \\\\ \n",
       " \\cdot & \\cdot & -6622 & -1372042 \\\\ \n",
       " -37 & -6 & -141 & 19894640 \n",
       "\\end{array} \\right)\\mathbb{Z}^{1 \\times 4}$$"
      ]
     },
     "metadata": {},
     "output_type": "display_data"
    }
   ],
   "source": [
    "Show( dα )"
   ]
  },
  {
   "cell_type": "code",
   "execution_count": 78,
   "metadata": {},
   "outputs": [
    {
     "data": {
      "text/plain": [
       "GAP: <A morphism in Freyd( Rows( Z ) )>"
      ]
     },
     "execution_count": 78,
     "metadata": {},
     "output_type": "execute_result"
    }
   ],
   "source": [
    "α = FreydCategoryMorphism( M, dα, N )"
   ]
  },
  {
   "cell_type": "code",
   "execution_count": 79,
   "metadata": {},
   "outputs": [
    {
     "data": {
      "text/latex": [
       "$${ \\tiny \\big(\\mathbb{Z}^{1 \\times 2}\\xrightarrow{\\left( \\begin{array}{rrr}\n",
       " 2 & -3 & \\cdot \\\\ \n",
       " 5 & 7 & 1 \n",
       "\\end{array} \\right)}\\mathbb{Z}^{1 \\times 3}\\big)_{\\mathcal{A}}}{\\color{blue}{\\xrightarrow{\\left( \\begin{array}{rrrr}\n",
       " -37 & -6 & -3949 & -2058032 \\\\ \n",
       " \\cdot & \\cdot & -6622 & -1372042 \\\\ \n",
       " -37 & -6 & -141 & 19894640 \n",
       "\\end{array} \\right)}}}{ \\tiny \\big(\\mathbb{Z}^{1 \\times 3}\\xrightarrow{\\left( \\begin{array}{rrrr}\n",
       " 16 & 2 & 18 & -14 \\\\ \n",
       " -2 & 18 & -2 & 20 \\\\ \n",
       " -28 & 14 & -26 & 42 \n",
       "\\end{array} \\right)}\\mathbb{Z}^{1 \\times 4}\\big)_{\\mathcal{A}}}$$"
      ]
     },
     "metadata": {},
     "output_type": "display_data"
    }
   ],
   "source": [
    "Show( α )"
   ]
  },
  {
   "cell_type": "code",
   "execution_count": 80,
   "metadata": {},
   "outputs": [
    {
     "data": {
      "text/latex": [
       "true"
      ],
      "text/plain": [
       "true"
      ]
     },
     "execution_count": 80,
     "metadata": {},
     "output_type": "execute_result"
    }
   ],
   "source": [
    "IsWellDefined( α )"
   ]
  },
  {
   "cell_type": "code",
   "execution_count": 81,
   "metadata": {},
   "outputs": [
    {
     "data": {
      "text/plain": [
       "GAP: <A morphism in Rows( Z )>"
      ]
     },
     "execution_count": 81,
     "metadata": {},
     "output_type": "execute_result"
    }
   ],
   "source": [
    "wα = MorphismWitness( α )"
   ]
  },
  {
   "cell_type": "code",
   "execution_count": 82,
   "metadata": {},
   "outputs": [
    {
     "data": {
      "text/latex": [
       "$$\\mathbb{Z}^{1 \\times 2}\\left( \\begin{array}{rrr}\n",
       " 3730 & -2197 & 2291 \\\\ \n",
       " -20464 & 12029 & -12545 \n",
       "\\end{array} \\right)\\mathbb{Z}^{1 \\times 3}$$"
      ]
     },
     "metadata": {},
     "output_type": "display_data"
    }
   ],
   "source": [
    "Show( wα )"
   ]
  },
  {
   "cell_type": "code",
   "execution_count": 85,
   "metadata": {},
   "outputs": [
    {
     "data": {
      "text/latex": [
       "true"
      ],
      "text/plain": [
       "true"
      ]
     },
     "execution_count": 85,
     "metadata": {},
     "output_type": "execute_result"
    }
   ],
   "source": [
    "IsCongruentForMorphisms( PreCompose( RelationMorphism( M ), dα ), PreCompose( wα, RelationMorphism( N ) ) )"
   ]
  },
  {
   "cell_type": "markdown",
   "metadata": {},
   "source": [
    "---\n",
    "Let us now check the structure of $\\mathbb{Z}$-module of homomorphisms between $M$ and $N$. Since $M$ is free of rank $1$, we should have $\\mathrm{Hom}_{\\mathbb{Z}}(M,N)\\cong N$; and since $N$ is isomorphic to $\\mathbb{Z}/2\\mathbb{Z}\\oplus\\mathbb{Z}/2\\mathbb{Z}\\oplus\\mathbb{Z}/384\\mathbb{Z}\\oplus\\mathbb{Z}$, we should have $\\mathrm{Hom}_{\\mathbb{Z}}(N,M)\\cong \\mathbb{Z}$."
   ]
  },
  {
   "cell_type": "code",
   "execution_count": 32,
   "metadata": {},
   "outputs": [
    {
     "data": {
      "text/plain": [
       "GAP: <An object in Freyd( Rows( Z ) )>"
      ]
     },
     "execution_count": 32,
     "metadata": {},
     "output_type": "execute_result"
    }
   ],
   "source": [
    "Hom_MN = InternalHomOnObjects( M, N )"
   ]
  },
  {
   "cell_type": "code",
   "execution_count": 33,
   "metadata": {},
   "outputs": [
    {
     "data": {
      "text/latex": [
       "$$\\big(\\mathbb{Z}^{1 \\times 3}\\xrightarrow{\\left( \\begin{array}{rrrr}\n",
       " 2 & \\cdot & \\cdot & \\cdot \\\\ \n",
       " \\cdot & 2 & \\cdot & \\cdot \\\\ \n",
       " \\cdot & \\cdot & 384 & \\cdot \n",
       "\\end{array} \\right)}\\mathbb{Z}^{1 \\times 4}\\big)_{\\mathcal{A}}$$"
      ]
     },
     "metadata": {},
     "output_type": "display_data"
    }
   ],
   "source": [
    "Show( SimplifyObject( Hom_MN, infinity ) )"
   ]
  },
  {
   "cell_type": "code",
   "execution_count": 34,
   "metadata": {},
   "outputs": [
    {
     "data": {
      "text/plain": [
       "GAP: <An object in Freyd( Rows( Z ) )>"
      ]
     },
     "execution_count": 34,
     "metadata": {},
     "output_type": "execute_result"
    }
   ],
   "source": [
    "Hom_NM = InternalHomOnObjects( N, M )"
   ]
  },
  {
   "cell_type": "code",
   "execution_count": 35,
   "metadata": {},
   "outputs": [
    {
     "data": {
      "text/latex": [
       "$$\\big(\\mathbb{Z}^{1 \\times 0}\\xrightarrow{()_{0 \\times 1}}\\mathbb{Z}^{1 \\times 1}\\big)_{\\mathcal{A}}$$"
      ]
     },
     "metadata": {},
     "output_type": "display_data"
    }
   ],
   "source": [
    "Show( SimplifyObject( Hom_NM, infinity ) )"
   ]
  },
  {
   "cell_type": "markdown",
   "metadata": {},
   "source": [
    "Similarly, we can check the structure of the tensor product $\\mathbb{Z}$-module $M\\otimes_{\\mathbb{Z}} N$. Of course, since $M$ is free of rank $1$, we should have $M\\otimes_{\\mathbb{Z}} N\\cong N$."
   ]
  },
  {
   "cell_type": "code",
   "execution_count": 36,
   "metadata": {},
   "outputs": [
    {
     "data": {
      "text/plain": [
       "GAP: <An object in Freyd( Rows( Z ) )>"
      ]
     },
     "execution_count": 36,
     "metadata": {},
     "output_type": "execute_result"
    }
   ],
   "source": [
    "MN = TensorProductOnObjects( M, N )"
   ]
  },
  {
   "cell_type": "code",
   "execution_count": 37,
   "metadata": {},
   "outputs": [
    {
     "data": {
      "text/latex": [
       "$$\\big(\\mathbb{Z}^{1 \\times 17}\\xrightarrow{\\left( \\begin{array}{rrrrrrrrrrrr}\n",
       " 2 & \\cdot & \\cdot & \\cdot & -3 & \\cdot & \\cdot & \\cdot & \\cdot & \\cdot & \\cdot & \\cdot \\\\ \n",
       " \\cdot & 2 & \\cdot & \\cdot & \\cdot & -3 & \\cdot & \\cdot & \\cdot & \\cdot & \\cdot & \\cdot \\\\ \n",
       " \\cdot & \\cdot & 2 & \\cdot & \\cdot & \\cdot & -3 & \\cdot & \\cdot & \\cdot & \\cdot & \\cdot \\\\ \n",
       " \\cdot & \\cdot & \\cdot & 2 & \\cdot & \\cdot & \\cdot & -3 & \\cdot & \\cdot & \\cdot & \\cdot \\\\ \n",
       " 5 & \\cdot & \\cdot & \\cdot & 7 & \\cdot & \\cdot & \\cdot & 1 & \\cdot & \\cdot & \\cdot \\\\ \n",
       " \\cdot & 5 & \\cdot & \\cdot & \\cdot & 7 & \\cdot & \\cdot & \\cdot & 1 & \\cdot & \\cdot \\\\ \n",
       " \\cdot & \\cdot & 5 & \\cdot & \\cdot & \\cdot & 7 & \\cdot & \\cdot & \\cdot & 1 & \\cdot \\\\ \n",
       " \\cdot & \\cdot & \\cdot & 5 & \\cdot & \\cdot & \\cdot & 7 & \\cdot & \\cdot & \\cdot & 1 \\\\ \n",
       " 16 & 2 & 18 & -14 & \\cdot & \\cdot & \\cdot & \\cdot & \\cdot & \\cdot & \\cdot & \\cdot \\\\ \n",
       " -2 & 18 & -2 & 20 & \\cdot & \\cdot & \\cdot & \\cdot & \\cdot & \\cdot & \\cdot & \\cdot \\\\ \n",
       " -28 & 14 & -26 & 42 & \\cdot & \\cdot & \\cdot & \\cdot & \\cdot & \\cdot & \\cdot & \\cdot \\\\ \n",
       " \\cdot & \\cdot & \\cdot & \\cdot & 16 & 2 & 18 & -14 & \\cdot & \\cdot & \\cdot & \\cdot \\\\ \n",
       " \\cdot & \\cdot & \\cdot & \\cdot & -2 & 18 & -2 & 20 & \\cdot & \\cdot & \\cdot & \\cdot \\\\ \n",
       " \\cdot & \\cdot & \\cdot & \\cdot & -28 & 14 & -26 & 42 & \\cdot & \\cdot & \\cdot & \\cdot \\\\ \n",
       " \\cdot & \\cdot & \\cdot & \\cdot & \\cdot & \\cdot & \\cdot & \\cdot & 16 & 2 & 18 & -14 \\\\ \n",
       " \\cdot & \\cdot & \\cdot & \\cdot & \\cdot & \\cdot & \\cdot & \\cdot & -2 & 18 & -2 & 20 \\\\ \n",
       " \\cdot & \\cdot & \\cdot & \\cdot & \\cdot & \\cdot & \\cdot & \\cdot & -28 & 14 & -26 & 42 \n",
       "\\end{array} \\right)}\\mathbb{Z}^{1 \\times 12}\\big)_{\\mathcal{A}}$$"
      ]
     },
     "metadata": {},
     "output_type": "display_data"
    }
   ],
   "source": [
    "Show( MN )"
   ]
  },
  {
   "cell_type": "code",
   "execution_count": 38,
   "metadata": {},
   "outputs": [
    {
     "data": {
      "text/latex": [
       "$$\\big(\\mathbb{Z}^{1 \\times 3}\\xrightarrow{\\left( \\begin{array}{rrrr}\n",
       " 2 & \\cdot & \\cdot & \\cdot \\\\ \n",
       " \\cdot & 2 & \\cdot & \\cdot \\\\ \n",
       " \\cdot & \\cdot & 384 & \\cdot \n",
       "\\end{array} \\right)}\\mathbb{Z}^{1 \\times 4}\\big)_{\\mathcal{A}}$$"
      ]
     },
     "metadata": {},
     "output_type": "display_data"
    }
   ],
   "source": [
    "Show( SimplifyObject( MN, infinity ) )"
   ]
  },
  {
   "cell_type": "markdown",
   "metadata": {},
   "source": [
    "$\\textbf{Excercise:}$ Using the Tensor-Hom adjunction, compute a generating set for the external $\\mathrm{Hom}_{\\mathbb{Z}}(M,N)$; and write $\\alpha$ as linear combination of these generators.\n",
    "\n"
   ]
  },
  {
   "cell_type": "markdown",
   "metadata": {},
   "source": [
    "Now we create the category of chain complexes over freyd_rows_ℤ"
   ]
  },
  {
   "cell_type": "code",
   "execution_count": 39,
   "metadata": {},
   "outputs": [
    {
     "data": {
      "text/plain": [
       "GAP: \u001b[33mChain complexes( \u001b[0mFreyd( Rows( Z ) )\u001b[33m )\u001b[0m"
      ]
     },
     "execution_count": 39,
     "metadata": {},
     "output_type": "execute_result"
    }
   ],
   "source": [
    "ch_freyd_rows_ℤ = ChainComplexCategory( freyd_rows_ℤ )"
   ]
  },
  {
   "cell_type": "code",
   "execution_count": 40,
   "metadata": {},
   "outputs": [
    {
     "name": "stdout",
     "output_type": "stream",
     "text": [
      "57 primitive operations were used to derive 227 operations for this category which\n",
      "* IsLinearCategoryOverCommutativeRing\n",
      "* IsAbelianCategory\n"
     ]
    }
   ],
   "source": [
    "InfoOfInstalledOperationsOfCategory( ch_freyd_rows_ℤ )"
   ]
  },
  {
   "cell_type": "code",
   "execution_count": null,
   "metadata": {},
   "outputs": [],
   "source": []
  }
 ],
 "metadata": {
  "kernelspec": {
   "display_name": "Julia 1.4.1",
   "language": "julia",
   "name": "julia-1.4"
  },
  "language_info": {
   "file_extension": ".jl",
   "mimetype": "application/julia",
   "name": "julia",
   "version": "1.4.1"
  }
 },
 "nbformat": 4,
 "nbformat_minor": 2
}
